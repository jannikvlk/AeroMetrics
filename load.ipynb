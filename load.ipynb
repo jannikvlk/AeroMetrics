{
 "cells": [
  {
   "cell_type": "code",
   "execution_count": 6,
   "metadata": {},
   "outputs": [],
   "source": [
    "import pandas as pd\n",
    "import csv\n",
    "from tqdm import tqdm"
   ]
  },
  {
   "cell_type": "code",
   "execution_count": 8,
   "metadata": {},
   "outputs": [],
   "source": [
    "df = pd.read_csv(\"data/ZYXW_tripfiles.csv\", on_bad_lines='skip')"
   ]
  },
  {
   "cell_type": "code",
   "execution_count": 9,
   "metadata": {},
   "outputs": [
    {
     "data": {
      "text/plain": [
       "Index(['id', 'creation_time', 'airline_code', 'flight_number', 'flight_date',\n",
       "       'departure_airport', 'user_name', 'action_name', 'header_line',\n",
       "       'entry_details'],\n",
       "      dtype='object')"
      ]
     },
     "execution_count": 9,
     "metadata": {},
     "output_type": "execute_result"
    }
   ],
   "source": [
    "df.columns"
   ]
  },
  {
   "cell_type": "code",
   "execution_count": 10,
   "metadata": {},
   "outputs": [
    {
     "data": {
      "text/html": [
       "<div>\n",
       "<style scoped>\n",
       "    .dataframe tbody tr th:only-of-type {\n",
       "        vertical-align: middle;\n",
       "    }\n",
       "\n",
       "    .dataframe tbody tr th {\n",
       "        vertical-align: top;\n",
       "    }\n",
       "\n",
       "    .dataframe thead th {\n",
       "        text-align: right;\n",
       "    }\n",
       "</style>\n",
       "<table border=\"1\" class=\"dataframe\">\n",
       "  <thead>\n",
       "    <tr style=\"text-align: right;\">\n",
       "      <th></th>\n",
       "      <th>id</th>\n",
       "      <th>creation_time</th>\n",
       "      <th>airline_code</th>\n",
       "      <th>flight_number</th>\n",
       "      <th>flight_date</th>\n",
       "      <th>departure_airport</th>\n",
       "      <th>user_name</th>\n",
       "      <th>action_name</th>\n",
       "      <th>header_line</th>\n",
       "      <th>entry_details</th>\n",
       "    </tr>\n",
       "  </thead>\n",
       "  <tbody>\n",
       "    <tr>\n",
       "      <th>0</th>\n",
       "      <td>375119858</td>\n",
       "      <td>2024-04-30 04:22:41</td>\n",
       "      <td>ZY</td>\n",
       "      <td>6075</td>\n",
       "      <td>30</td>\n",
       "      <td>BVB</td>\n",
       "      <td>service-acco</td>\n",
       "      <td>AutomaticNotificationAction</td>\n",
       "      <td>2024-04-30 04:22:41,144 INFO  [3fc43b0d2af9531...</td>\n",
       "      <td>NaN</td>\n",
       "    </tr>\n",
       "    <tr>\n",
       "      <th>1</th>\n",
       "      <td>375119859</td>\n",
       "      <td>2024-04-30 04:22:41</td>\n",
       "      <td>ZY</td>\n",
       "      <td>6075</td>\n",
       "      <td>30</td>\n",
       "      <td>BVB</td>\n",
       "      <td>service-acco</td>\n",
       "      <td>AutomaticNotificationAction</td>\n",
       "      <td>2024-04-30 04:22:41,146 INFO  [3fc43b0d2af9531...</td>\n",
       "      <td>STATUS AIRCRAFT_CONFIG 1 EZFW 1 CARGO_FINAL 1 ...</td>\n",
       "    </tr>\n",
       "    <tr>\n",
       "      <th>2</th>\n",
       "      <td>375120627</td>\n",
       "      <td>2024-04-30 05:02:44</td>\n",
       "      <td>ZY</td>\n",
       "      <td>119</td>\n",
       "      <td>30</td>\n",
       "      <td>NAT</td>\n",
       "      <td>service-acco</td>\n",
       "      <td>AutomaticNotificationAction</td>\n",
       "      <td>2024-04-30 05:02:44,524 INFO  [f479b5e3ee955eb...</td>\n",
       "      <td>NaN</td>\n",
       "    </tr>\n",
       "    <tr>\n",
       "      <th>3</th>\n",
       "      <td>375120699</td>\n",
       "      <td>2024-04-30 04:17:43</td>\n",
       "      <td>ZY</td>\n",
       "      <td>5027</td>\n",
       "      <td>30</td>\n",
       "      <td>SSA</td>\n",
       "      <td>service-acco</td>\n",
       "      <td>AutoLoadBulkAction</td>\n",
       "      <td>2024-04-30 04:17:43,876 INFO  [a2561ff07178a19...</td>\n",
       "      <td>NULL\\nLoaded pre-autoload state:\\nPOSITIONS\\nn...</td>\n",
       "    </tr>\n",
       "    <tr>\n",
       "      <th>4</th>\n",
       "      <td>375120700</td>\n",
       "      <td>2024-04-30 04:17:43</td>\n",
       "      <td>ZY</td>\n",
       "      <td>5027</td>\n",
       "      <td>30</td>\n",
       "      <td>SSA</td>\n",
       "      <td>service-acco</td>\n",
       "      <td>AssignLoadplanAction</td>\n",
       "      <td>2024-04-30 04:17:43,877 INFO  [a2561ff07178a19...</td>\n",
       "      <td>com.systemone.lc2.loadplan.dto.PositionAssignm...</td>\n",
       "    </tr>\n",
       "    <tr>\n",
       "      <th>5</th>\n",
       "      <td>375120703</td>\n",
       "      <td>2024-04-30 04:17:43</td>\n",
       "      <td>ZY</td>\n",
       "      <td>5027</td>\n",
       "      <td>30</td>\n",
       "      <td>SSA</td>\n",
       "      <td>service-acco</td>\n",
       "      <td>AutoLoadBulkAction</td>\n",
       "      <td>2024-04-30 04:17:43,883 INFO  [a2561ff07178a19...</td>\n",
       "      <td>com.systemone.lc2.manualloadplanning.dto.LoadD...</td>\n",
       "    </tr>\n",
       "    <tr>\n",
       "      <th>6</th>\n",
       "      <td>375120718</td>\n",
       "      <td>2024-04-30 04:42:43</td>\n",
       "      <td>ZY</td>\n",
       "      <td>3844</td>\n",
       "      <td>30</td>\n",
       "      <td>REC</td>\n",
       "      <td>service-acco</td>\n",
       "      <td>AutoLoadBulkAction</td>\n",
       "      <td>2024-04-30 04:42:43,836 INFO  [987e72560c172de...</td>\n",
       "      <td>NaN</td>\n",
       "    </tr>\n",
       "    <tr>\n",
       "      <th>7</th>\n",
       "      <td>375120719</td>\n",
       "      <td>2024-04-30 04:42:43</td>\n",
       "      <td>ZY</td>\n",
       "      <td>3844</td>\n",
       "      <td>30</td>\n",
       "      <td>REC</td>\n",
       "      <td>service-acco</td>\n",
       "      <td>AssignLoadplanAction</td>\n",
       "      <td>2024-04-30 04:42:43,838 INFO  [987e72560c172de...</td>\n",
       "      <td>com.systemone.lc2.loadplan.dto.PositionAssignm...</td>\n",
       "    </tr>\n",
       "    <tr>\n",
       "      <th>8</th>\n",
       "      <td>375120722</td>\n",
       "      <td>2024-04-30 04:42:43</td>\n",
       "      <td>ZY</td>\n",
       "      <td>3844</td>\n",
       "      <td>30</td>\n",
       "      <td>REC</td>\n",
       "      <td>service-acco</td>\n",
       "      <td>AutoLoadBulkAction</td>\n",
       "      <td>2024-04-30 04:42:43,843 INFO  [987e72560c172de...</td>\n",
       "      <td>com.systemone.lc2.manualloadplanning.dto.LoadD...</td>\n",
       "    </tr>\n",
       "    <tr>\n",
       "      <th>9</th>\n",
       "      <td>375120723</td>\n",
       "      <td>2024-04-30 04:57:43</td>\n",
       "      <td>ZY</td>\n",
       "      <td>5290</td>\n",
       "      <td>30</td>\n",
       "      <td>MCZ</td>\n",
       "      <td>service-acco</td>\n",
       "      <td>AutomaticNotificationAction</td>\n",
       "      <td>2024-04-30 04:57:43,843 INFO  [a1204bb845801dc...</td>\n",
       "      <td>NaN</td>\n",
       "    </tr>\n",
       "  </tbody>\n",
       "</table>\n",
       "</div>"
      ],
      "text/plain": [
       "          id        creation_time airline_code  flight_number  flight_date  \\\n",
       "0  375119858  2024-04-30 04:22:41           ZY           6075           30   \n",
       "1  375119859  2024-04-30 04:22:41           ZY           6075           30   \n",
       "2  375120627  2024-04-30 05:02:44           ZY            119           30   \n",
       "3  375120699  2024-04-30 04:17:43           ZY           5027           30   \n",
       "4  375120700  2024-04-30 04:17:43           ZY           5027           30   \n",
       "5  375120703  2024-04-30 04:17:43           ZY           5027           30   \n",
       "6  375120718  2024-04-30 04:42:43           ZY           3844           30   \n",
       "7  375120719  2024-04-30 04:42:43           ZY           3844           30   \n",
       "8  375120722  2024-04-30 04:42:43           ZY           3844           30   \n",
       "9  375120723  2024-04-30 04:57:43           ZY           5290           30   \n",
       "\n",
       "  departure_airport     user_name                  action_name  \\\n",
       "0               BVB  service-acco  AutomaticNotificationAction   \n",
       "1               BVB  service-acco  AutomaticNotificationAction   \n",
       "2               NAT  service-acco  AutomaticNotificationAction   \n",
       "3               SSA  service-acco           AutoLoadBulkAction   \n",
       "4               SSA  service-acco         AssignLoadplanAction   \n",
       "5               SSA  service-acco           AutoLoadBulkAction   \n",
       "6               REC  service-acco           AutoLoadBulkAction   \n",
       "7               REC  service-acco         AssignLoadplanAction   \n",
       "8               REC  service-acco           AutoLoadBulkAction   \n",
       "9               MCZ  service-acco  AutomaticNotificationAction   \n",
       "\n",
       "                                         header_line  \\\n",
       "0  2024-04-30 04:22:41,144 INFO  [3fc43b0d2af9531...   \n",
       "1  2024-04-30 04:22:41,146 INFO  [3fc43b0d2af9531...   \n",
       "2  2024-04-30 05:02:44,524 INFO  [f479b5e3ee955eb...   \n",
       "3  2024-04-30 04:17:43,876 INFO  [a2561ff07178a19...   \n",
       "4  2024-04-30 04:17:43,877 INFO  [a2561ff07178a19...   \n",
       "5  2024-04-30 04:17:43,883 INFO  [a2561ff07178a19...   \n",
       "6  2024-04-30 04:42:43,836 INFO  [987e72560c172de...   \n",
       "7  2024-04-30 04:42:43,838 INFO  [987e72560c172de...   \n",
       "8  2024-04-30 04:42:43,843 INFO  [987e72560c172de...   \n",
       "9  2024-04-30 04:57:43,843 INFO  [a1204bb845801dc...   \n",
       "\n",
       "                                       entry_details  \n",
       "0                                                NaN  \n",
       "1  STATUS AIRCRAFT_CONFIG 1 EZFW 1 CARGO_FINAL 1 ...  \n",
       "2                                                NaN  \n",
       "3  NULL\\nLoaded pre-autoload state:\\nPOSITIONS\\nn...  \n",
       "4  com.systemone.lc2.loadplan.dto.PositionAssignm...  \n",
       "5  com.systemone.lc2.manualloadplanning.dto.LoadD...  \n",
       "6                                                NaN  \n",
       "7  com.systemone.lc2.loadplan.dto.PositionAssignm...  \n",
       "8  com.systemone.lc2.manualloadplanning.dto.LoadD...  \n",
       "9                                                NaN  "
      ]
     },
     "execution_count": 10,
     "metadata": {},
     "output_type": "execute_result"
    }
   ],
   "source": [
    "df.head(10)"
   ]
  },
  {
   "cell_type": "code",
   "execution_count": 11,
   "metadata": {},
   "outputs": [
    {
     "name": "stderr",
     "output_type": "stream",
     "text": [
      "Processing rows: 709604it [00:07, 94899.38it/s] \n"
     ]
    },
    {
     "name": "stdout",
     "output_type": "stream",
     "text": [
      "ABCD\n",
      "Correct Rows: 709595\n",
      "Wrong Rows: 9\n"
     ]
    },
    {
     "name": "stderr",
     "output_type": "stream",
     "text": [
      "Processing rows: 1108955it [00:14, 77294.04it/s] \n"
     ]
    },
    {
     "name": "stdout",
     "output_type": "stream",
     "text": [
      "MNOP\n",
      "Correct Rows: 1108949\n",
      "Wrong Rows: 6\n"
     ]
    },
    {
     "name": "stderr",
     "output_type": "stream",
     "text": [
      "Processing rows: 429757it [00:03, 125363.40it/s]"
     ]
    },
    {
     "name": "stdout",
     "output_type": "stream",
     "text": [
      "ZYXW\n",
      "Correct Rows: 429755\n",
      "Wrong Rows: 2\n"
     ]
    },
    {
     "name": "stderr",
     "output_type": "stream",
     "text": [
      "\n"
     ]
    }
   ],
   "source": [
    "def read_csv(file_path):\n",
    "    correct_row = 0\n",
    "    wrong_row = 0\n",
    "    \n",
    "    with open(file_path, mode='r', encoding='utf-8') as file:\n",
    "        reader = csv.reader(file)\n",
    "        columns = next(reader)  # Read the header\n",
    "        for row in tqdm(reader, desc=\"Processing rows\"):\n",
    "            if len(row) > 10:\n",
    "                #print(\"Row with more than 10 columns:\", row)\n",
    "                wrong_row += 1\n",
    "            else:\n",
    "                correct_row +=1\n",
    "                \n",
    "    return correct_row, wrong_row\n",
    "\n",
    "csv_file = \"data/ABCD_tripfiles.csv\" \n",
    "correct_row, wrong_row = read_csv(csv_file)\n",
    "print(\"ABCD\")\n",
    "print(\"Correct Rows:\", correct_row)\n",
    "print(\"Wrong Rows:\", wrong_row)\n",
    "\n",
    "csv_file = \"data/MNOP_tripfiles.csv\" \n",
    "correct_row, wrong_row = read_csv(csv_file)\n",
    "print(\"MNOP\")\n",
    "print(\"Correct Rows:\", correct_row)\n",
    "print(\"Wrong Rows:\", wrong_row)\n",
    "\n",
    "csv_file = \"data/ZYXW_tripfiles.csv\" \n",
    "correct_row, wrong_row = read_csv(csv_file)\n",
    "print(\"ZYXW\")\n",
    "print(\"Correct Rows:\", correct_row)\n",
    "print(\"Wrong Rows:\", wrong_row)"
   ]
  }
 ],
 "metadata": {
  "kernelspec": {
   "display_name": "Python 3",
   "language": "python",
   "name": "python3"
  },
  "language_info": {
   "codemirror_mode": {
    "name": "ipython",
    "version": 3
   },
   "file_extension": ".py",
   "mimetype": "text/x-python",
   "name": "python",
   "nbconvert_exporter": "python",
   "pygments_lexer": "ipython3",
   "version": "3.11.4"
  }
 },
 "nbformat": 4,
 "nbformat_minor": 2
}
