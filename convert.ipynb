{
 "cells": [
  {
   "cell_type": "code",
   "execution_count": 5,
   "metadata": {},
   "outputs": [],
   "source": [
    "import pandas as pd\n",
    "\n",
    "file1 = \"data/ABCD_tripfiles.csv\"\n",
    "file2 = \"data/MNOP_tripfiles.csv\"\n",
    "file3 = \"data/ZYXW_tripfiles.csv\"\n",
    "parquet_file1 = \"data/ABCD_tripfiles.parquet\"\n",
    "parquet_file2 = \"data/MNOP_tripfiles.parquet\"\n",
    "parquet_file3 = \"data/ZYXW_tripfiles.parquet\""
   ]
  },
  {
   "cell_type": "code",
   "execution_count": 6,
   "metadata": {},
   "outputs": [],
   "source": [
    "df = pd.read_csv(file1)\n",
    "df.to_parquet(parquet_file1, engine=\"pyarrow\", compression=\"brotli\")\n",
    "\n",
    "df = pd.read_csv(file2)\n",
    "df.to_parquet(parquet_file2, engine=\"pyarrow\", compression=\"brotli\")\n",
    "\n",
    "df = pd.read_csv(file3)\n",
    "df.to_parquet(parquet_file3, engine=\"pyarrow\", compression=\"brotli\")"
   ]
  },
  {
   "cell_type": "code",
   "execution_count": 6,
   "metadata": {},
   "outputs": [],
   "source": [
    "data = pd.read_parquet(parquet_file1, engine=\"pyarrow\")"
   ]
  }
 ],
 "metadata": {
  "kernelspec": {
   "display_name": "AERO",
   "language": "python",
   "name": "python3"
  },
  "language_info": {
   "codemirror_mode": {
    "name": "ipython",
    "version": 3
   },
   "file_extension": ".py",
   "mimetype": "text/x-python",
   "name": "python",
   "nbconvert_exporter": "python",
   "pygments_lexer": "ipython3",
   "version": "3.12.3"
  }
 },
 "nbformat": 4,
 "nbformat_minor": 2
}
