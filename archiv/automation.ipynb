{
 "cells": [
  {
   "cell_type": "code",
   "execution_count": 14,
   "metadata": {},
   "outputs": [],
   "source": [
    "import pandas as pd\n",
    "import json"
   ]
  },
  {
   "cell_type": "code",
   "execution_count": 15,
   "metadata": {},
   "outputs": [],
   "source": [
    "AIRLINE_CODE = \"MNOP\""
   ]
  },
  {
   "cell_type": "code",
   "execution_count": 16,
   "metadata": {},
   "outputs": [],
   "source": [
    "# Read in the MNOP data\n",
    "df_airline = pd.read_parquet(f\"../data/{AIRLINE_CODE}_tripfiles_conv.parquet\", engine=\"pyarrow\")"
   ]
  },
  {
   "cell_type": "code",
   "execution_count": 17,
   "metadata": {},
   "outputs": [],
   "source": [
    "# create a flightid column that is a combination of airline_code, flight_number, flight_date and departure_airport\n",
    "df_airline[\"flightid\"] = df_airline.apply(\n",
    "    lambda x: f\"{x['airline_code']}_{x['flight_number']}_{x['flight_date']}_{x['departure_airport']}\",\n",
    "    axis=1,\n",
    ")\n",
    "df_airline = df_airline.drop_duplicates(subset=list(df_airline.columns).remove(\"id\"))\n",
    "# drop all columns that are not needed for the analysis\n",
    "df_airline.drop(\n",
    "    columns=[\n",
    "        \"id\",\n",
    "        \"header_line\",\n",
    "        \"entry_details\",\n",
    "    ],\n",
    "    inplace=True,\n",
    ")\n",
    "\n",
    "# drop all duplicates from the MNOP dataframe not considering the id"
   ]
  },
  {
   "cell_type": "code",
   "execution_count": 18,
   "metadata": {},
   "outputs": [],
   "source": [
    "# make creation_time a datetime object\n",
    "df_airline[\"creation_time\"] = pd.to_datetime(df_airline[\"creation_time\"])\n",
    "# df_airline = df_airline.convert_dtypes()"
   ]
  },
  {
   "cell_type": "code",
   "execution_count": 19,
   "metadata": {},
   "outputs": [],
   "source": [
    "df_airline.to_csv(f\"../data/{AIRLINE_CODE}_tableau_automation.csv\", index=False)"
   ]
  }
 ],
 "metadata": {
  "kernelspec": {
   "display_name": "Python 3",
   "language": "python",
   "name": "python3"
  },
  "language_info": {
   "codemirror_mode": {
    "name": "ipython",
    "version": 3
   },
   "file_extension": ".py",
   "mimetype": "text/x-python",
   "name": "python",
   "nbconvert_exporter": "python",
   "pygments_lexer": "ipython3",
   "version": "3.10.0"
  }
 },
 "nbformat": 4,
 "nbformat_minor": 2
}
