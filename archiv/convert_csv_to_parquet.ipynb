{
 "cells": [
  {
   "cell_type": "code",
   "execution_count": 5,
   "metadata": {},
   "outputs": [],
   "source": [
    "import pandas as pd\n",
    "from pathlib import Path\n",
    "\n",
    "csv_abcd = Path(\"data/ABCD_tripfiles.csv\")\n",
    "csv_mnop = Path(\"data/MNOP_tripfiles.csv\")\n",
    "csv_zyxw = Path(\"data/ZYXW_tripfiles.csv\")\n",
    "parquet_abcd = Path(\"data/ABCD_tripfiles.parquet\")\n",
    "parquet_mnop = Path(\"data/MNOP_tripfiles.parquet\")\n",
    "parquet_zyxw = Path(\"data/ZYXW_tripfiles.parquet\")"
   ]
  },
  {
   "cell_type": "code",
   "execution_count": 6,
   "metadata": {},
   "outputs": [],
   "source": [
    "df_abcd = pd.read_csv(csv_abcd)\n",
    "df_abcd.to_parquet(parquet_abcd, engine=\"pyarrow\", compression=\"brotli\")\n",
    "\n",
    "df_mnop = pd.read_csv(csv_mnop)\n",
    "df_mnop.to_parquet(parquet_mnop, engine=\"pyarrow\", compression=\"brotli\")\n",
    "\n",
    "df_zyxw = pd.read_csv(csv_zyxw)\n",
    "df_zyxw.to_parquet(parquet_zyxw, engine=\"pyarrow\", compression=\"brotli\")"
   ]
  },
  {
   "cell_type": "code",
   "execution_count": 6,
   "metadata": {},
   "outputs": [],
   "source": [
    "data = pd.read_parquet(parquet_abcd, engine=\"pyarrow\")"
   ]
  }
 ],
 "metadata": {
  "kernelspec": {
   "display_name": "AERO",
   "language": "python",
   "name": "python3"
  },
  "language_info": {
   "codemirror_mode": {
    "name": "ipython",
    "version": 3
   },
   "file_extension": ".py",
   "mimetype": "text/x-python",
   "name": "python",
   "nbconvert_exporter": "python",
   "pygments_lexer": "ipython3",
   "version": "3.11.9"
  }
 },
 "nbformat": 4,
 "nbformat_minor": 2
}
