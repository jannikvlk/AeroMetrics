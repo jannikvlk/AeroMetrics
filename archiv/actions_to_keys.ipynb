{
 "cells": [
  {
   "cell_type": "code",
   "execution_count": 4,
   "metadata": {},
   "outputs": [],
   "source": [
    "import json\n",
    "import re\n",
    "import io\n",
    "\n",
    "import pandas as pd\n",
    "from pathlib import Path\n",
    "\n",
    "from utils import *"
   ]
  },
  {
   "cell_type": "code",
   "execution_count": 120,
   "metadata": {},
   "outputs": [
    {
     "name": "stdout",
     "output_type": "stream",
     "text": [
      "..\\data\\ABCD_tripfiles_conv.parquet ..\\data\\MNOP_tripfiles_conv.parquet ..\\data\\ZYXW_tripfiles_conv.parquet\n"
     ]
    }
   ],
   "source": [
    "# Define the file paths\n",
    "\n",
    "parquet_file_abcd_conv = Path(\"../data/ABCD_tripfiles_conv.parquet\")\n",
    "parquet_file_mnop_conv = Path(\"../data/MNOP_tripfiles_conv.parquet\")\n",
    "parquet_file_zyxw_conv = Path(\"../data/ZYXW_tripfiles_conv.parquet\")\n",
    "print(\n",
    "    parquet_file_abcd_conv,\n",
    "    parquet_file_mnop_conv,\n",
    "    parquet_file_zyxw_conv,\n",
    ")"
   ]
  },
  {
   "cell_type": "code",
   "execution_count": 121,
   "metadata": {},
   "outputs": [],
   "source": [
    "ab = pd.read_parquet(parquet_file_abcd_conv)\n",
    "mn = pd.read_parquet(parquet_file_mnop_conv)\n",
    "zy = pd.read_parquet(parquet_file_zyxw_conv)"
   ]
  },
  {
   "cell_type": "code",
   "execution_count": 5,
   "metadata": {},
   "outputs": [],
   "source": [
    "def print_structure(data, indent=1, output=None, toplvl=True):\n",
    "\n",
    "    if output is None:\n",
    "        output = io.StringIO()\n",
    "\n",
    "    \"\"\"\n",
    "    Recursively prints the structure of a dictionary or list, showing types and keys.\n",
    "    \"\"\"\n",
    "\n",
    "    indent_str = \"  \" * indent\n",
    "    print(indent_str[2:], \"{\", file=output)\n",
    "\n",
    "    if isinstance(data, dict):\n",
    "        for key, value in data.items():\n",
    "            if isinstance(value, (dict, list)):\n",
    "                print(f\"{indent_str}'{key}':\", file=output)\n",
    "                print_structure(value, indent + 1, output=output, toplvl=False)\n",
    "            else:\n",
    "                print(f\"{indent_str}'{key}'\", file=output)\n",
    "    elif isinstance(data, list):\n",
    "        if len(data) > 0:\n",
    "            print(f\"{indent_str}[\", file=output)\n",
    "            for item in data[:3]:  # Print first 3 items only for brevity\n",
    "                # print(f\"{indent_str}[{index}]\")\n",
    "                print_structure(item, indent + 1, output=output, toplvl=False)\n",
    "            print(f\"{indent_str}]\", file=output)\n",
    "        else:\n",
    "            print(f\"{indent_str}[]]\", file=output)\n",
    "    else:\n",
    "        print(f\"{indent_str}{data} ({type(data).__name__})\", file=output)\n",
    "    print(indent_str[2:], \"},\", file=output)\n",
    "    if toplvl:\n",
    "        contents = output.getvalue()\n",
    "        output.close()\n",
    "        return contents\n",
    "\n",
    "\n",
    "# Print the structure of the example dictionary"
   ]
  },
  {
   "cell_type": "code",
   "execution_count": 7,
   "metadata": {},
   "outputs": [
    {
     "name": "stdout",
     "output_type": "stream",
     "text": [
      " {\n",
      "  'TOTAL TRAFFIC LOAD'\n",
      "  'DRY OPERATING WEIGHT'\n",
      "  'ZERO FUEL WEIGHT ACTUAL'\n",
      "  'TAKE OFF FUEL'\n",
      "  'TAKE OFF WEIGHT ACTUAL'\n",
      "  'TRIP'\n",
      "  'LANDING WEIGHT ACTUAL'\n",
      "  'TAXI FUEL'\n",
      "  'PANTRY'\n",
      " },\n",
      "\n"
     ]
    }
   ],
   "source": [
    "foo = {\n",
    "    \"TOTAL TRAFFIC LOAD\": 12997,\n",
    "    \"DRY OPERATING WEIGHT\": 44966,\n",
    "    \"ZERO FUEL WEIGHT ACTUAL\": 57963,\n",
    "    \"TAKE OFF FUEL\": 5514,\n",
    "    \"TAKE OFF WEIGHT ACTUAL\": 63477,\n",
    "    \"TRIP\": 2212,\n",
    "    \"LANDING WEIGHT ACTUAL\": 61265,\n",
    "    \"TAXI FUEL\": 286,\n",
    "    \"PANTRY\": 414,\n",
    "}\n",
    "bar = print_structure(foo)\n",
    "print(bar)"
   ]
  },
  {
   "cell_type": "markdown",
   "metadata": {},
   "source": [
    "# Parse Data"
   ]
  },
  {
   "cell_type": "code",
   "execution_count": 123,
   "metadata": {},
   "outputs": [],
   "source": [
    "# Define the action here\n",
    "\n",
    "action = \"TransferCargoAction\""
   ]
  },
  {
   "cell_type": "code",
   "execution_count": 124,
   "metadata": {},
   "outputs": [],
   "source": [
    "# All the data will be parsed and loaded from the data column \n",
    "ab_action = ab[(ab.action_name == action) & ~(ab[f\"data_{action}\"]).isna()][\n",
    "    f\"data_{action}\"\n",
    "].apply(json.loads)\n",
    "\n",
    "\n",
    "mn_action = mn[(mn.action_name == action) & ~(mn[f\"data_{action}\"]).isna()][\n",
    "    f\"data_{action}\"\n",
    "].apply(json.loads)\n",
    "\n",
    "\n",
    "zy_action = zy[(zy.action_name == action) & ~(zy[f\"data_{action}\"]).isna()][\n",
    "    f\"data_{action}\"\n",
    "].apply(json.loads)"
   ]
  },
  {
   "cell_type": "code",
   "execution_count": 125,
   "metadata": {},
   "outputs": [],
   "source": [
    "# Here a new dataframe is generated containing the structure of the data. If this doesn't work you have to adjust the function print_structure.\n",
    "ab_action_data = pd.DataFrame()\n",
    "ab_action_data[\"data\"] = ab_action.apply(print_structure)\n",
    "\n",
    "mn_action_data = pd.DataFrame()\n",
    "mn_action_data[\"data\"] = mn_action.apply(print_structure)\n",
    "\n",
    "zy_action_data = pd.DataFrame()\n",
    "zy_action_data[\"data\"] = zy_action.apply(print_structure)"
   ]
  },
  {
   "cell_type": "code",
   "execution_count": 132,
   "metadata": {},
   "outputs": [],
   "source": [
    "# Set df to one of the dataframes\n",
    "# Go through every dataframe and check the unique structures with the following code\n",
    "df = mn_action_data"
   ]
  },
  {
   "cell_type": "code",
   "execution_count": 133,
   "metadata": {},
   "outputs": [
    {
     "name": "stdout",
     "output_type": "stream",
     "text": [
      "\" {\\n  'LoadDTO':\\n   {\\n    'id'\\n    'flightId'\\n    'legId'\\n    'deleted'\\n    'fragmentId'\\n   },\\n  'BULK':\\n   {\\n    []]\\n   },\\n  'ULD':\\n   {\\n    [\\n     {\\n      'Item Id'\\n      'ULD'\\n      'Number'\\n      'Airline'\\n      'Special'\\n      'Status'\\n      'Weight'\\n      'Weight unit'\\n      'Pieces'\\n      'Volume'\\n      'Origin'\\n      'Onl.Sta.'\\n      'Dest.'\\n      'Category'\\n      'Position'\\n      'Confirmed'\\n      'Remarks'\\n     },\\n     {\\n      'Item Id'\\n      'ULD'\\n      'Number'\\n      'Airline'\\n      'Special'\\n      'Status'\\n      'Weight'\\n      'Weight unit'\\n      'Pieces'\\n      'Volume'\\n      'Origin'\\n      'Onl.Sta.'\\n      'Dest.'\\n      'Category'\\n      'Position'\\n      'Confirmed'\\n      'Remarks'\\n     },\\n    ]\\n   },\\n  'Totals':\\n   {\\n    'Total baggage'\\n    'Total cargo'\\n    'Total EIC'\\n    'Total mail'\\n   },\\n },\\n\"\n",
      "\n",
      "\" {\\n  'LoadDTO':\\n   {\\n    'id'\\n    'flightId'\\n    'legId'\\n    'deleted'\\n    'fragmentId'\\n   },\\n  'BULK':\\n   {\\n    [\\n     {\\n      'Item Id'\\n      'Status'\\n      'Weight'\\n      'Weight unit'\\n      'Pieces'\\n      'Volume'\\n      'Origin'\\n      'Onl.Sta.'\\n      'Dest.'\\n      'Category'\\n      'Position'\\n      'Confirmed'\\n      'Remarks'\\n     },\\n     {\\n      'Item Id'\\n      'Status'\\n      'Weight'\\n      'Weight unit'\\n      'Pieces'\\n      'Volume'\\n      'Origin'\\n      'Onl.Sta.'\\n      'Dest.'\\n      'Category'\\n      'Position'\\n      'Confirmed'\\n      'Remarks'\\n     },\\n    ]\\n   },\\n  'ULD':\\n   {\\n    [\\n     {\\n      'Item Id'\\n      'ULD'\\n      'Number'\\n      'Airline'\\n      'Special'\\n      'Status'\\n      'Weight'\\n      'Weight unit'\\n      'Pieces'\\n      'Volume'\\n      'Origin'\\n      'Onl.Sta.'\\n      'Dest.'\\n      'Category'\\n      'Position'\\n      'Confirmed'\\n      'Remarks'\\n     },\\n     {\\n      'Item Id'\\n      'ULD'\\n      'Number'\\n      'Airline'\\n      'Special'\\n      'Status'\\n      'Weight'\\n      'Weight unit'\\n      'Pieces'\\n      'Volume'\\n      'Origin'\\n      'Onl.Sta.'\\n      'Dest.'\\n      'Category'\\n      'Position'\\n      'Confirmed'\\n      'Remarks'\\n     },\\n    ]\\n   },\\n  'Totals':\\n   {\\n    'Total baggage'\\n    'Total cargo'\\n    'Total EIC'\\n    'Total mail'\\n   },\\n },\\n\"\n",
      "\n",
      "\" {\\n  'LoadDTO':\\n   {\\n    'id'\\n    'flightId'\\n    'legId'\\n    'deleted'\\n    'fragmentId'\\n   },\\n  'BULK':\\n   {\\n    []]\\n   },\\n  'ULD':\\n   {\\n    [\\n     {\\n      'Item Id'\\n      'ULD'\\n      'Number'\\n      'Airline'\\n      'Special'\\n      'Status'\\n      'Weight'\\n      'Weight unit'\\n      'Pieces'\\n      'Volume'\\n      'Origin'\\n      'Onl.Sta.'\\n      'Dest.'\\n      'Category'\\n      'Position'\\n      'Confirmed'\\n      'Remarks'\\n     },\\n     {\\n      'Item Id'\\n      'ULD'\\n      'Number'\\n      'Airline'\\n      'Special'\\n      'Status'\\n      'Weight'\\n      'Weight unit'\\n      'Pieces'\\n      'Volume'\\n      'Origin'\\n      'Onl.Sta.'\\n      'Dest.'\\n      'Category'\\n      'Position'\\n      'Confirmed'\\n      'Remarks'\\n     },\\n     {\\n      'Item Id'\\n      'ULD'\\n      'Number'\\n      'Airline'\\n      'Special'\\n      'Status'\\n      'Weight'\\n      'Weight unit'\\n      'Pieces'\\n      'Volume'\\n      'Origin'\\n      'Onl.Sta.'\\n      'Dest.'\\n      'Category'\\n      'Position'\\n      'Confirmed'\\n      'Remarks'\\n     },\\n    ]\\n   },\\n  'Totals':\\n   {\\n    'Total baggage'\\n    'Total cargo'\\n    'Total EIC'\\n    'Total mail'\\n   },\\n },\\n\"\n",
      "\n",
      "\" {\\n  'LoadDTO':\\n   {\\n    'id'\\n    'flightId'\\n    'legId'\\n    'deleted'\\n    'fragmentId'\\n   },\\n  'BULK':\\n   {\\n    [\\n     {\\n      'Item Id'\\n      'Status'\\n      'Weight'\\n      'Weight unit'\\n      'Pieces'\\n      'Volume'\\n      'Origin'\\n      'Onl.Sta.'\\n      'Dest.'\\n      'Category'\\n      'Position'\\n      'Confirmed'\\n      'Remarks'\\n     },\\n    ]\\n   },\\n  'ULD':\\n   {\\n    [\\n     {\\n      'Item Id'\\n      'ULD'\\n      'Number'\\n      'Airline'\\n      'Special'\\n      'Status'\\n      'Weight'\\n      'Weight unit'\\n      'Pieces'\\n      'Volume'\\n      'Origin'\\n      'Onl.Sta.'\\n      'Dest.'\\n      'Category'\\n      'Position'\\n      'Confirmed'\\n      'Remarks'\\n     },\\n     {\\n      'Item Id'\\n      'ULD'\\n      'Number'\\n      'Airline'\\n      'Special'\\n      'Status'\\n      'Weight'\\n      'Weight unit'\\n      'Pieces'\\n      'Volume'\\n      'Origin'\\n      'Onl.Sta.'\\n      'Dest.'\\n      'Category'\\n      'Position'\\n      'Confirmed'\\n      'Remarks'\\n     },\\n     {\\n      'Item Id'\\n      'ULD'\\n      'Number'\\n      'Airline'\\n      'Special'\\n      'Status'\\n      'Weight'\\n      'Weight unit'\\n      'Pieces'\\n      'Volume'\\n      'Origin'\\n      'Onl.Sta.'\\n      'Dest.'\\n      'Category'\\n      'Position'\\n      'Confirmed'\\n      'Remarks'\\n     },\\n    ]\\n   },\\n  'Totals':\\n   {\\n    'Total baggage'\\n    'Total cargo'\\n    'Total EIC'\\n    'Total mail'\\n   },\\n },\\n\"\n",
      "\n",
      "\" {\\n  'LoadDTO':\\n   {\\n    'id'\\n    'flightId'\\n    'legId'\\n    'deleted'\\n    'fragmentId'\\n   },\\n  'BULK':\\n   {\\n    [\\n     {\\n      'Item Id'\\n      'Status'\\n      'Weight'\\n      'Weight unit'\\n      'Pieces'\\n      'Volume'\\n      'Origin'\\n      'Onl.Sta.'\\n      'Dest.'\\n      'Category'\\n      'Position'\\n      'Confirmed'\\n      'Remarks'\\n     },\\n     {\\n      'Item Id'\\n      'Status'\\n      'Weight'\\n      'Weight unit'\\n      'Pieces'\\n      'Volume'\\n      'Origin'\\n      'Onl.Sta.'\\n      'Dest.'\\n      'Category'\\n      'Position'\\n      'Confirmed'\\n      'Remarks'\\n     },\\n     {\\n      'Item Id'\\n      'Status'\\n      'Weight'\\n      'Weight unit'\\n      'Pieces'\\n      'Volume'\\n      'Origin'\\n      'Onl.Sta.'\\n      'Dest.'\\n      'Category'\\n      'Position'\\n      'Confirmed'\\n      'Remarks'\\n     },\\n    ]\\n   },\\n  'ULD':\\n   {\\n    [\\n     {\\n      'Item Id'\\n      'ULD'\\n      'Number'\\n      'Airline'\\n      'Special'\\n      'Status'\\n      'Weight'\\n      'Weight unit'\\n      'Pieces'\\n      'Volume'\\n      'Origin'\\n      'Onl.Sta.'\\n      'Dest.'\\n      'Category'\\n      'Position'\\n      'Confirmed'\\n      'Remarks'\\n     },\\n     {\\n      'Item Id'\\n      'ULD'\\n      'Number'\\n      'Airline'\\n      'Special'\\n      'Status'\\n      'Weight'\\n      'Weight unit'\\n      'Pieces'\\n      'Volume'\\n      'Origin'\\n      'Onl.Sta.'\\n      'Dest.'\\n      'Category'\\n      'Position'\\n      'Confirmed'\\n      'Remarks'\\n     },\\n     {\\n      'Item Id'\\n      'ULD'\\n      'Number'\\n      'Airline'\\n      'Special'\\n      'Status'\\n      'Weight'\\n      'Weight unit'\\n      'Pieces'\\n      'Volume'\\n      'Origin'\\n      'Onl.Sta.'\\n      'Dest.'\\n      'Category'\\n      'Position'\\n      'Confirmed'\\n      'Remarks'\\n     },\\n    ]\\n   },\\n  'Totals':\\n   {\\n    'Total baggage'\\n    'Total cargo'\\n    'Total EIC'\\n    'Total mail'\\n   },\\n },\\n\"\n",
      "\n",
      "\" {\\n  'LoadDTO':\\n   {\\n    'id'\\n    'flightId'\\n    'legId'\\n    'deleted'\\n    'fragmentId'\\n   },\\n  'BULK':\\n   {\\n    [\\n     {\\n      'Item Id'\\n      'Status'\\n      'Weight'\\n      'Weight unit'\\n      'Pieces'\\n      'Volume'\\n      'Origin'\\n      'Onl.Sta.'\\n      'Dest.'\\n      'Category'\\n      'Position'\\n      'Confirmed'\\n      'Remarks'\\n     },\\n     {\\n      'Item Id'\\n      'Status'\\n      'Weight'\\n      'Weight unit'\\n      'Pieces'\\n      'Volume'\\n      'Origin'\\n      'Onl.Sta.'\\n      'Dest.'\\n      'Category'\\n      'Position'\\n      'Confirmed'\\n      'Remarks'\\n     },\\n    ]\\n   },\\n  'ULD':\\n   {\\n    [\\n     {\\n      'Item Id'\\n      'ULD'\\n      'Number'\\n      'Airline'\\n      'Special'\\n      'Status'\\n      'Weight'\\n      'Weight unit'\\n      'Pieces'\\n      'Volume'\\n      'Origin'\\n      'Onl.Sta.'\\n      'Dest.'\\n      'Category'\\n      'Position'\\n      'Confirmed'\\n      'Remarks'\\n     },\\n     {\\n      'Item Id'\\n      'ULD'\\n      'Number'\\n      'Airline'\\n      'Special'\\n      'Status'\\n      'Weight'\\n      'Weight unit'\\n      'Pieces'\\n      'Volume'\\n      'Origin'\\n      'Onl.Sta.'\\n      'Dest.'\\n      'Category'\\n      'Position'\\n      'Confirmed'\\n      'Remarks'\\n     },\\n     {\\n      'Item Id'\\n      'ULD'\\n      'Number'\\n      'Airline'\\n      'Special'\\n      'Status'\\n      'Weight'\\n      'Weight unit'\\n      'Pieces'\\n      'Volume'\\n      'Origin'\\n      'Onl.Sta.'\\n      'Dest.'\\n      'Category'\\n      'Position'\\n      'Confirmed'\\n      'Remarks'\\n     },\\n    ]\\n   },\\n  'Totals':\\n   {\\n    'Total baggage'\\n    'Total cargo'\\n    'Total EIC'\\n    'Total mail'\\n   },\\n },\\n\"\n",
      "\n",
      "\" {\\n  'LoadDTO':\\n   {\\n    'id'\\n    'flightId'\\n    'legId'\\n    'deleted'\\n    'fragmentId'\\n   },\\n  'BULK':\\n   {\\n    []]\\n   },\\n  'ULD':\\n   {\\n    []]\\n   },\\n  'Totals':\\n   {\\n    'Total baggage'\\n    'Total cargo'\\n    'Total EIC'\\n    'Total mail'\\n   },\\n },\\n\"\n",
      "\n",
      "\" {\\n  'LoadDTO':\\n   {\\n    'id'\\n    'flightId'\\n    'legId'\\n    'deleted'\\n    'fragmentId'\\n   },\\n  'BULK':\\n   {\\n    [\\n     {\\n      'Item Id'\\n      'Status'\\n      'Weight'\\n      'Weight unit'\\n      'Pieces'\\n      'Volume'\\n      'Origin'\\n      'Onl.Sta.'\\n      'Dest.'\\n      'Category'\\n      'Position'\\n      'Confirmed'\\n      'Remarks'\\n     },\\n     {\\n      'Item Id'\\n      'Status'\\n      'Weight'\\n      'Weight unit'\\n      'Pieces'\\n      'Volume'\\n      'Origin'\\n      'Onl.Sta.'\\n      'Dest.'\\n      'Category'\\n      'Position'\\n      'Confirmed'\\n      'Remarks'\\n     },\\n     {\\n      'Item Id'\\n      'Status'\\n      'Weight'\\n      'Weight unit'\\n      'Pieces'\\n      'Volume'\\n      'Origin'\\n      'Onl.Sta.'\\n      'Dest.'\\n      'Category'\\n      'Position'\\n      'Confirmed'\\n      'Remarks'\\n     },\\n    ]\\n   },\\n  'ULD':\\n   {\\n    [\\n     {\\n      'Item Id'\\n      'ULD'\\n      'Number'\\n      'Airline'\\n      'Special'\\n      'Status'\\n      'Weight'\\n      'Weight unit'\\n      'Pieces'\\n      'Volume'\\n      'Origin'\\n      'Onl.Sta.'\\n      'Dest.'\\n      'Category'\\n      'Position'\\n      'Confirmed'\\n      'Remarks'\\n     },\\n     {\\n      'Item Id'\\n      'ULD'\\n      'Number'\\n      'Airline'\\n      'Special'\\n      'Status'\\n      'Weight'\\n      'Weight unit'\\n      'Pieces'\\n      'Volume'\\n      'Origin'\\n      'Onl.Sta.'\\n      'Dest.'\\n      'Category'\\n      'Position'\\n      'Confirmed'\\n      'Remarks'\\n     },\\n    ]\\n   },\\n  'Totals':\\n   {\\n    'Total baggage'\\n    'Total cargo'\\n    'Total EIC'\\n    'Total mail'\\n   },\\n },\\n\"\n",
      "\n",
      "\" {\\n  'LoadDTO':\\n   {\\n    'id'\\n    'flightId'\\n    'legId'\\n    'deleted'\\n    'fragmentId'\\n   },\\n  'BULK':\\n   {\\n    []]\\n   },\\n  'ULD':\\n   {\\n    [\\n     {\\n      'Item Id'\\n      'ULD'\\n      'Number'\\n      'Airline'\\n      'Special'\\n      'Status'\\n      'Weight'\\n      'Weight unit'\\n      'Pieces'\\n      'Volume'\\n      'Origin'\\n      'Onl.Sta.'\\n      'Dest.'\\n      'Category'\\n      'Position'\\n      'Confirmed'\\n      'Remarks'\\n     },\\n    ]\\n   },\\n  'Totals':\\n   {\\n    'Total baggage'\\n    'Total cargo'\\n    'Total EIC'\\n    'Total mail'\\n   },\\n },\\n\"\n",
      "\n",
      "\" {\\n  'LoadDTO':\\n   {\\n    'id'\\n    'flightId'\\n    'legId'\\n    'deleted'\\n    'fragmentId'\\n   },\\n  'BULK':\\n   {\\n    [\\n     {\\n      'Item Id'\\n      'Status'\\n      'Weight'\\n      'Weight unit'\\n      'Pieces'\\n      'Volume'\\n      'Origin'\\n      'Onl.Sta.'\\n      'Dest.'\\n      'Category'\\n      'Position'\\n      'Confirmed'\\n      'Remarks'\\n     },\\n    ]\\n   },\\n  'ULD':\\n   {\\n    [\\n     {\\n      'Item Id'\\n      'ULD'\\n      'Number'\\n      'Airline'\\n      'Special'\\n      'Status'\\n      'Weight'\\n      'Weight unit'\\n      'Pieces'\\n      'Volume'\\n      'Origin'\\n      'Onl.Sta.'\\n      'Dest.'\\n      'Category'\\n      'Position'\\n      'Confirmed'\\n      'Remarks'\\n     },\\n    ]\\n   },\\n  'Totals':\\n   {\\n    'Total baggage'\\n    'Total cargo'\\n    'Total EIC'\\n    'Total mail'\\n   },\\n },\\n\"\n",
      "\n",
      "\" {\\n  'LoadDTO':\\n   {\\n    'id'\\n    'flightId'\\n    'legId'\\n    'deleted'\\n    'fragmentId'\\n   },\\n  'BULK':\\n   {\\n    [\\n     {\\n      'Item Id'\\n      'Status'\\n      'Weight'\\n      'Weight unit'\\n      'Pieces'\\n      'Volume'\\n      'Origin'\\n      'Onl.Sta.'\\n      'Dest.'\\n      'Category'\\n      'Position'\\n      'Confirmed'\\n      'Remarks'\\n     },\\n     {\\n      'Item Id'\\n      'Status'\\n      'Weight'\\n      'Weight unit'\\n      'Pieces'\\n      'Volume'\\n      'Origin'\\n      'Onl.Sta.'\\n      'Dest.'\\n      'Category'\\n      'Position'\\n      'Confirmed'\\n      'Remarks'\\n     },\\n    ]\\n   },\\n  'ULD':\\n   {\\n    [\\n     {\\n      'Item Id'\\n      'ULD'\\n      'Number'\\n      'Airline'\\n      'Special'\\n      'Status'\\n      'Weight'\\n      'Weight unit'\\n      'Pieces'\\n      'Volume'\\n      'Origin'\\n      'Onl.Sta.'\\n      'Dest.'\\n      'Category'\\n      'Position'\\n      'Confirmed'\\n      'Remarks'\\n     },\\n    ]\\n   },\\n  'Totals':\\n   {\\n    'Total baggage'\\n    'Total cargo'\\n    'Total EIC'\\n    'Total mail'\\n   },\\n },\\n\"\n",
      "\n",
      "\" {\\n  'LoadDTO':\\n   {\\n    'id'\\n    'flightId'\\n    'legId'\\n    'deleted'\\n    'fragmentId'\\n   },\\n  'BULK':\\n   {\\n    [\\n     {\\n      'Item Id'\\n      'Status'\\n      'Weight'\\n      'Weight unit'\\n      'Pieces'\\n      'Volume'\\n      'Origin'\\n      'Onl.Sta.'\\n      'Dest.'\\n      'Category'\\n      'Position'\\n      'Confirmed'\\n      'Remarks'\\n     },\\n     {\\n      'Item Id'\\n      'Status'\\n      'Weight'\\n      'Weight unit'\\n      'Pieces'\\n      'Volume'\\n      'Origin'\\n      'Onl.Sta.'\\n      'Dest.'\\n      'Category'\\n      'Position'\\n      'Confirmed'\\n      'Remarks'\\n     },\\n     {\\n      'Item Id'\\n      'Status'\\n      'Weight'\\n      'Weight unit'\\n      'Pieces'\\n      'Volume'\\n      'Origin'\\n      'Onl.Sta.'\\n      'Dest.'\\n      'Category'\\n      'Position'\\n      'Confirmed'\\n      'Remarks'\\n     },\\n    ]\\n   },\\n  'ULD':\\n   {\\n    [\\n     {\\n      'Item Id'\\n      'ULD'\\n      'Number'\\n      'Airline'\\n      'Special'\\n      'Status'\\n      'Weight'\\n      'Weight unit'\\n      'Pieces'\\n      'Volume'\\n      'Origin'\\n      'Onl.Sta.'\\n      'Dest.'\\n      'Category'\\n      'Position'\\n      'Confirmed'\\n      'Remarks'\\n     },\\n    ]\\n   },\\n  'Totals':\\n   {\\n    'Total baggage'\\n    'Total cargo'\\n    'Total EIC'\\n    'Total mail'\\n   },\\n },\\n\"\n",
      "\n",
      "\" {\\n  'LoadDTO':\\n   {\\n    'id'\\n    'flightId'\\n    'legId'\\n    'deleted'\\n    'fragmentId'\\n   },\\n  'BULK':\\n   {\\n    [\\n     {\\n      'Item Id'\\n      'Status'\\n      'Weight'\\n      'Weight unit'\\n      'Pieces'\\n      'Volume'\\n      'Origin'\\n      'Onl.Sta.'\\n      'Dest.'\\n      'Category'\\n      'Position'\\n      'Confirmed'\\n      'Remarks'\\n     },\\n    ]\\n   },\\n  'ULD':\\n   {\\n    [\\n     {\\n      'Item Id'\\n      'ULD'\\n      'Number'\\n      'Airline'\\n      'Special'\\n      'Status'\\n      'Weight'\\n      'Weight unit'\\n      'Pieces'\\n      'Volume'\\n      'Origin'\\n      'Onl.Sta.'\\n      'Dest.'\\n      'Category'\\n      'Position'\\n      'Confirmed'\\n      'Remarks'\\n     },\\n     {\\n      'Item Id'\\n      'ULD'\\n      'Number'\\n      'Airline'\\n      'Special'\\n      'Status'\\n      'Weight'\\n      'Weight unit'\\n      'Pieces'\\n      'Volume'\\n      'Origin'\\n      'Onl.Sta.'\\n      'Dest.'\\n      'Category'\\n      'Position'\\n      'Confirmed'\\n      'Remarks'\\n     },\\n    ]\\n   },\\n  'Totals':\\n   {\\n    'Total baggage'\\n    'Total cargo'\\n    'Total EIC'\\n    'Total mail'\\n   },\\n },\\n\"\n",
      "\n"
     ]
    }
   ],
   "source": [
    "# Now every unique data structure is printed. \n",
    "if len(df) > 0:\n",
    "    for item in df.data.unique():\n",
    "        print(repr(item))\n",
    "        print()"
   ]
  },
  {
   "cell_type": "code",
   "execution_count": 285,
   "metadata": {},
   "outputs": [
    {
     "data": {
      "text/plain": [
       "\" {\\n  'AIRBORNE'\\n  'AIRCRAFT_CONFIG'\\n  'ALLOWANCE_CHECK_PERFORMED'\\n  'AUTOMATION_STARTED'\\n  'AUTO_MODE_ACTIVE'\\n  'BAG_LOAD_ITEMS_GEN'\\n  'BAG_ULD_ORD'\\n  'CABIN_CONFIG'\\n  'CALC_HIST_DATA'\\n  'CARGO_FINAL'\\n  'CARGO_TRANSFER'\\n  'CHECK_IN_FINAL'\\n  'CHECK_IN_OPEN'\\n  'DGR_ITEMS'\\n  'EZFW'\\n  'EZFW_COUNTER'\\n  'FINAL_RELEASE'\\n  'FUEL'\\n  'FUEL_ORDER'\\n  'LDM'\\n  'LOADING_INSTRUCTION'\\n  'LOADSHEET'\\n  'OFFBLOCK'\\n  'OFP'\\n  'PDM'\\n  'RAMP_FINAL'\\n  'REGISTRATION'\\n  'REGISTRATION_CHANGE'\\n  'TRANSIT_ACCEPTANCE'\\n  'TRANSIT_PAX'\\n },\\n\""
      ]
     },
     "execution_count": 285,
     "metadata": {},
     "output_type": "execute_result"
    }
   ],
   "source": [
    "# Here as an example these were the unique structures for one of the actions from the three files. \n",
    "# As you can see the first three and the last two are the same. \n",
    "\n",
    "\" {\\n  'AIRBORNE'\\n  'AIRCRAFT_CONFIG'\\n  'ALLOWANCE_CHECK_PERFORMED'\\n  'AUTOMATION_STARTED'\\n  'AUTO_MODE_ACTIVE'\\n  'BAG_LOAD_ITEMS_GEN'\\n  'BAG_ULD_ORD'\\n  'CABIN_CONFIG'\\n  'CALC_HIST_DATA'\\n  'CARGO_FINAL'\\n  'CARGO_TRANSFER'\\n  'CHECK_IN_FINAL'\\n  'CHECK_IN_OPEN'\\n  'DGR_ITEMS'\\n  'EZFW'\\n  'EZFW_COUNTER'\\n  'FINAL_RELEASE'\\n  'FUEL'\\n  'FUEL_ORDER'\\n  'LDM'\\n  'LOADING_INSTRUCTION'\\n  'LOADSHEET'\\n  'OFFBLOCK'\\n  'OFP'\\n  'PDM'\\n  'RAMP_FINAL'\\n  'REGISTRATION'\\n  'REGISTRATION_CHANGE'\\n  'TRANSIT_ACCEPTANCE'\\n  'TRANSIT_PAX'\\n },\\n\"\n",
    "\" {\\n  'AIRBORNE'\\n  'AIRCRAFT_CONFIG'\\n  'ALLOWANCE_CHECK_PERFORMED'\\n  'AUTOMATION_STARTED'\\n  'AUTO_MODE_ACTIVE'\\n  'BAG_LOAD_ITEMS_GEN'\\n  'BAG_ULD_ORD'\\n  'CABIN_CONFIG'\\n  'CALC_HIST_DATA'\\n  'CARGO_FINAL'\\n  'CARGO_TRANSFER'\\n  'CHECK_IN_FINAL'\\n  'CHECK_IN_OPEN'\\n  'DGR_ITEMS'\\n  'EZFW'\\n  'EZFW_COUNTER'\\n  'FINAL_RELEASE'\\n  'FUEL'\\n  'FUEL_ORDER'\\n  'LDM'\\n  'LOADING_INSTRUCTION'\\n  'LOADSHEET'\\n  'OFFBLOCK'\\n  'OFP'\\n  'PDM'\\n  'RAMP_FINAL'\\n  'REGISTRATION'\\n  'REGISTRATION_CHANGE'\\n  'TRANSIT_ACCEPTANCE'\\n  'TRANSIT_PAX'\\n },\\n\"\n",
    "\" {\\n  'AIRBORNE'\\n  'AIRCRAFT_CONFIG'\\n  'ALLOWANCE_CHECK_PERFORMED'\\n  'AUTOMATION_STARTED'\\n  'AUTO_MODE_ACTIVE'\\n  'BAG_LOAD_ITEMS_GEN'\\n  'BAG_ULD_ORD'\\n  'CABIN_CONFIG'\\n  'CALC_HIST_DATA'\\n  'CARGO_FINAL'\\n  'CARGO_TRANSFER'\\n  'CHECK_IN_FINAL'\\n  'CHECK_IN_OPEN'\\n  'DGR_ITEMS'\\n  'EZFW'\\n  'EZFW_COUNTER'\\n  'FINAL_RELEASE'\\n  'FUEL'\\n  'FUEL_ORDER'\\n  'LDM'\\n  'LOADING_INSTRUCTION'\\n  'LOADSHEET'\\n  'OFFBLOCK'\\n  'OFP'\\n  'PDM'\\n  'RAMP_FINAL'\\n  'REGISTRATION'\\n  'REGISTRATION_CHANGE'\\n  'TRANSIT_ACCEPTANCE'\\n  'TRANSIT_PAX'\\n },\\n\"\n",
    "\n",
    "\" {\\n  'Discrepancy check result':\\n   {\\n    'Discrepancy happened'\\n   },\\n  'Discrepancies':\\n   {\\n    [\\n     {\\n      'Type'\\n      'Destination'\\n      'Bag pieces'\\n      'Bag weight'\\n     },\\n     {\\n      'Type'\\n      'Destination'\\n      'Bag pieces'\\n      'Bag weight'\\n     },\\n     {\\n      'Type'\\n      'Destination'\\n      'Bag pieces'\\n      'Bag weight'\\n     },\\n    ]\\n   },\\n },\\n\"\n",
    "\" {\\n  'Discrepancy check result':\\n   {\\n    'Discrepancy happened'\\n   },\\n  'Discrepancies':\\n   {\\n    [\\n     {\\n      'Type'\\n      'Destination'\\n      'Bag pieces'\\n      'Bag weight'\\n     },\\n     {\\n      'Type'\\n      'Destination'\\n      'Bag pieces'\\n      'Bag weight'\\n     },\\n     {\\n      'Type'\\n      'Destination'\\n      'Bag pieces'\\n      'Bag weight'\\n     },\\n    ]\\n   },\\n },\\n\"\n",
    "\n",
    "\n"
   ]
  },
  {
   "cell_type": "code",
   "execution_count": 103,
   "metadata": {},
   "outputs": [],
   "source": [
    "i = 0"
   ]
  },
  {
   "cell_type": "code",
   "execution_count": 114,
   "metadata": {},
   "outputs": [
    {
     "name": "stdout",
     "output_type": "stream",
     "text": [
      "10\n"
     ]
    },
    {
     "ename": "IndexError",
     "evalue": "index 10 is out of bounds for axis 0 with size 10",
     "output_type": "error",
     "traceback": [
      "\u001b[1;31m---------------------------------------------------------------------------\u001b[0m",
      "\u001b[1;31mIndexError\u001b[0m                                Traceback (most recent call last)",
      "Cell \u001b[1;32mIn[114], line 6\u001b[0m\n\u001b[0;32m      1\u001b[0m \u001b[38;5;66;03m# You can now print the desired structure without \\n ignored so that you can paste it into excel.\u001b[39;00m\n\u001b[0;32m      4\u001b[0m \u001b[38;5;28mprint\u001b[39m(\u001b[38;5;28mlen\u001b[39m(df\u001b[38;5;241m.\u001b[39mdata\u001b[38;5;241m.\u001b[39munique()))\n\u001b[1;32m----> 6\u001b[0m \u001b[38;5;28mprint\u001b[39m(\u001b[43mdf\u001b[49m\u001b[38;5;241;43m.\u001b[39;49m\u001b[43mdata\u001b[49m\u001b[38;5;241;43m.\u001b[39;49m\u001b[43munique\u001b[49m\u001b[43m(\u001b[49m\u001b[43m)\u001b[49m\u001b[43m[\u001b[49m\u001b[43mi\u001b[49m\u001b[43m]\u001b[49m)\n\u001b[0;32m      7\u001b[0m i \u001b[38;5;241m+\u001b[39m\u001b[38;5;241m=\u001b[39m \u001b[38;5;241m1\u001b[39m\n",
      "\u001b[1;31mIndexError\u001b[0m: index 10 is out of bounds for axis 0 with size 10"
     ]
    }
   ],
   "source": [
    "# You can now print the desired structure without \\n ignored so that you can paste it into excel.\n",
    "\n",
    "\n",
    "print(len(df.data.unique()))\n",
    "\n",
    "print(df.data.unique()[i])\n",
    "i += 1"
   ]
  },
  {
   "cell_type": "markdown",
   "metadata": {},
   "source": [
    "## Extract all keywords\n",
    "\n",
    "This can be used to extract all the keywords from e.g. this:\n",
    "\n",
    "\"\"\"Pax Weight = 11850.0 KG Bag Weight = 1920.0 KG Cargo = 56.1 KG Mail = 0.0 KG DOW = 44584.0 KG ZFW = 56434.0 KG\\r\\n\n",
    "            STATUS FUEL 2 AIRCRAFT_CONFIG 1 EZFW 2 CARGO_TRANSFER 1 CABIN_CONFIG 1 CALC_HIST_DATA 1 AUTO_MODE_ACTIVE 1 AUTOMATION_STARTED 0 BAG_LOAD_ITEMS_GEN 1 EZFW_COUNTER 2 REGISTRATION 1 REGISTRATION_CHANGE 2',\"\"\"\n",
    "\n",
    "This is helpfull if you realize that there are a lot of unique structures because some keywords are missing sometimes. \n",
    "I used this to adjust the extract function of the action so that it always includes every keyword even if it's not in the message (it fills it with null)"
   ]
  },
  {
   "cell_type": "code",
   "execution_count": 46,
   "metadata": {},
   "outputs": [],
   "source": [
    "s = set()"
   ]
  },
  {
   "cell_type": "code",
   "execution_count": 50,
   "metadata": {},
   "outputs": [],
   "source": [
    "# Set df to one of the dataframes\n",
    "# Go through every dataframe and check the unique structures with the following code\n",
    "df = mn_action_data"
   ]
  },
  {
   "cell_type": "code",
   "execution_count": 53,
   "metadata": {},
   "outputs": [
    {
     "data": {
      "text/plain": [
       "array([\" {\\n  'start_weight'\\n  'start_index'\\n  'crew'\\n  'water(%)'\\n  'Galley_Codes':\\n   {\\n    [\\n     {\\n      'TTL'\\n      'Weight'\\n      'unit'\\n      'Index'\\n     },\\n     {\\n      'TTL'\\n      'Weight'\\n      'unit'\\n      'Index'\\n     },\\n    ]\\n   },\\n  'Corrections':\\n   {\\n    [\\n     {\\n      'DOW'\\n      'Unit'\\n      'DOI'\\n      'Pos'\\n      'Remark'\\n     },\\n     {\\n      'DOW'\\n      'Unit'\\n      'DOI'\\n      'Pos'\\n      'Remark'\\n     },\\n    ]\\n   },\\n  'Weight_Tables':\\n   {\\n    [\\n     {\\n      'Table'\\n      'Airline'\\n      'Weight'\\n      'Unit'\\n     },\\n     {\\n      'Table'\\n      'Airline'\\n      'Weight'\\n      'Unit'\\n     },\\n     {\\n      'Table'\\n      'Airline'\\n      'Weight'\\n      'Unit'\\n     },\\n    ]\\n   },\\n  'Max_Weights':\\n   {\\n    [\\n     {\\n      'Type'\\n      'Left_Value'\\n      'Left_Unit'\\n      'Right_Value'\\n      'Right_Unit'\\n     },\\n     {\\n      'Type'\\n      'Left_Value'\\n      'Left_Unit'\\n      'Right_Value'\\n      'Right_Unit'\\n     },\\n     {\\n      'Type'\\n      'Left_Value'\\n      'Left_Unit'\\n      'Right_Value'\\n      'Right_Unit'\\n     },\\n    ]\\n   },\\n  'Status':\\n   {\\n   },\\n },\\n\",\n",
       "       \" {\\n  'start_weight'\\n  'start_index'\\n  'crew'\\n  'water(%)'\\n  'Galley_Codes':\\n   {\\n    [\\n     {\\n      'TTL'\\n      'Weight'\\n      'unit'\\n      'Index'\\n     },\\n     {\\n      'TTL'\\n      'Weight'\\n      'unit'\\n      'Index'\\n     },\\n     {\\n      'TTL'\\n      'Weight'\\n      'unit'\\n      'Index'\\n     },\\n    ]\\n   },\\n  'Corrections':\\n   {\\n    []]\\n   },\\n  'Weight_Tables':\\n   {\\n    []]\\n   },\\n  'Max_Weights':\\n   {\\n    []]\\n   },\\n  'Status':\\n   {\\n    'FUEL'\\n    'AIRCRAFT_CONFIG'\\n    'EZFW'\\n    'CARGO_TRANSFER'\\n    'OFP'\\n    'CABIN_CONFIG'\\n    'AUTO_MODE_ACTIVE'\\n    'AUTOMATION_STARTED'\\n    'BAG_LOAD_ITEMS_GEN'\\n    'EZFW_COUNTER'\\n    'REGISTRATION'\\n    'REGISTRATION_CHANGE'\\n    'FUEL_ORDER'\\n   },\\n },\\n\",\n",
       "       \" {\\n  'start_weight'\\n  'start_index'\\n  'crew'\\n  'water(%)'\\n  'Galley_Codes':\\n   {\\n    [\\n     {\\n      'TTL'\\n      'Weight'\\n      'unit'\\n      'Index'\\n     },\\n     {\\n      'TTL'\\n      'Weight'\\n      'unit'\\n      'Index'\\n     },\\n     {\\n      'TTL'\\n      'Weight'\\n      'unit'\\n      'Index'\\n     },\\n    ]\\n   },\\n  'Corrections':\\n   {\\n    []]\\n   },\\n  'Weight_Tables':\\n   {\\n    []]\\n   },\\n  'Max_Weights':\\n   {\\n    []]\\n   },\\n  'Status':\\n   {\\n    'AIRCRAFT_CONFIG'\\n    'EZFW'\\n    'CARGO_TRANSFER'\\n    'CABIN_CONFIG'\\n    'AUTO_MODE_ACTIVE'\\n    'AUTOMATION_STARTED'\\n    'BAG_LOAD_ITEMS_GEN'\\n    'EZFW_COUNTER'\\n    'REGISTRATION'\\n    'REGISTRATION_CHANGE'\\n   },\\n },\\n\",\n",
       "       \" {\\n  'start_weight'\\n  'start_index'\\n  'crew'\\n  'water(%)'\\n  'Galley_Codes':\\n   {\\n    [\\n     {\\n      'TTL'\\n      'Weight'\\n      'unit'\\n      'Index'\\n     },\\n     {\\n      'TTL'\\n      'Weight'\\n      'unit'\\n      'Index'\\n     },\\n    ]\\n   },\\n  'Corrections':\\n   {\\n    [\\n     {\\n      'DOW'\\n      'Unit'\\n      'DOI'\\n      'Pos'\\n      'Remark'\\n     },\\n    ]\\n   },\\n  'Weight_Tables':\\n   {\\n    [\\n     {\\n      'Table'\\n      'Airline'\\n      'Weight'\\n      'Unit'\\n     },\\n     {\\n      'Table'\\n      'Airline'\\n      'Weight'\\n      'Unit'\\n     },\\n     {\\n      'Table'\\n      'Airline'\\n      'Weight'\\n      'Unit'\\n     },\\n    ]\\n   },\\n  'Max_Weights':\\n   {\\n    [\\n     {\\n      'Type'\\n      'Left_Value'\\n      'Left_Unit'\\n      'Right_Value'\\n      'Right_Unit'\\n     },\\n     {\\n      'Type'\\n      'Left_Value'\\n      'Left_Unit'\\n      'Right_Value'\\n      'Right_Unit'\\n     },\\n     {\\n      'Type'\\n      'Left_Value'\\n      'Left_Unit'\\n      'Right_Value'\\n      'Right_Unit'\\n     },\\n    ]\\n   },\\n  'Status':\\n   {\\n   },\\n },\\n\",\n",
       "       \" {\\n  'start_weight'\\n  'start_index'\\n  'crew'\\n  'water(%)'\\n  'Galley_Codes':\\n   {\\n    [\\n     {\\n      'TTL'\\n      'Weight'\\n      'unit'\\n      'Index'\\n     },\\n     {\\n      'TTL'\\n      'Weight'\\n      'unit'\\n      'Index'\\n     },\\n     {\\n      'TTL'\\n      'Weight'\\n      'unit'\\n      'Index'\\n     },\\n    ]\\n   },\\n  'Corrections':\\n   {\\n    []]\\n   },\\n  'Weight_Tables':\\n   {\\n    []]\\n   },\\n  'Max_Weights':\\n   {\\n    []]\\n   },\\n  'Status':\\n   {\\n    'LOADING_INSTRUCTION'\\n    'FUEL'\\n    'AIRCRAFT_CONFIG'\\n    'EZFW'\\n    'CARGO_FINAL'\\n    'CHECK_IN_FINAL'\\n    'CARGO_TRANSFER'\\n    'OFP'\\n    'CABIN_CONFIG'\\n    'AUTO_MODE_ACTIVE'\\n    'AUTOMATION_STARTED'\\n    'BAG_LOAD_ITEMS_GEN'\\n    'EZFW_COUNTER'\\n    'REGISTRATION'\\n    'REGISTRATION_CHANGE'\\n    'FUEL_ORDER'\\n   },\\n },\\n\",\n",
       "       \" {\\n  'start_weight'\\n  'start_index'\\n  'crew'\\n  'water(%)'\\n  'Galley_Codes':\\n   {\\n    [\\n     {\\n      'TTL'\\n      'Weight'\\n      'unit'\\n      'Index'\\n     },\\n     {\\n      'TTL'\\n      'Weight'\\n      'unit'\\n      'Index'\\n     },\\n     {\\n      'TTL'\\n      'Weight'\\n      'unit'\\n      'Index'\\n     },\\n    ]\\n   },\\n  'Corrections':\\n   {\\n    []]\\n   },\\n  'Weight_Tables':\\n   {\\n    []]\\n   },\\n  'Max_Weights':\\n   {\\n    []]\\n   },\\n  'Status':\\n   {\\n    'LOADSHEET'\\n    'LOADING_INSTRUCTION'\\n    'FUEL'\\n    'AIRCRAFT_CONFIG'\\n    'EZFW'\\n    'CARGO_FINAL'\\n    'RAMP_FINAL'\\n    'CHECK_IN_FINAL'\\n    'CARGO_TRANSFER'\\n    'OFP'\\n    'CABIN_CONFIG'\\n    'AUTO_MODE_ACTIVE'\\n    'AUTOMATION_STARTED'\\n    'BAG_LOAD_ITEMS_GEN'\\n    'EZFW_COUNTER'\\n    'REGISTRATION'\\n    'REGISTRATION_CHANGE'\\n    'FUEL_ORDER'\\n    'ALLOWANCE_CHECK_PERFORMED'\\n   },\\n },\\n\",\n",
       "       \" {\\n  'start_weight'\\n  'start_index'\\n  'crew'\\n  'water(%)'\\n  'Galley_Codes':\\n   {\\n    [\\n     {\\n      'TTL'\\n      'Weight'\\n      'unit'\\n      'Index'\\n     },\\n     {\\n      'TTL'\\n      'Weight'\\n      'unit'\\n      'Index'\\n     },\\n     {\\n      'TTL'\\n      'Weight'\\n      'unit'\\n      'Index'\\n     },\\n    ]\\n   },\\n  'Corrections':\\n   {\\n    [\\n     {\\n      'DOW'\\n      'Unit'\\n      'DOI'\\n      'Pos'\\n      'Remark'\\n     },\\n     {\\n      'DOW'\\n      'Unit'\\n      'DOI'\\n      'Pos'\\n      'Remark'\\n     },\\n    ]\\n   },\\n  'Weight_Tables':\\n   {\\n    [\\n     {\\n      'Table'\\n      'Airline'\\n      'Weight'\\n      'Unit'\\n     },\\n     {\\n      'Table'\\n      'Airline'\\n      'Weight'\\n      'Unit'\\n     },\\n     {\\n      'Table'\\n      'Airline'\\n      'Weight'\\n      'Unit'\\n     },\\n    ]\\n   },\\n  'Max_Weights':\\n   {\\n    [\\n     {\\n      'Type'\\n      'Left_Value'\\n      'Left_Unit'\\n      'Right_Value'\\n      'Right_Unit'\\n     },\\n     {\\n      'Type'\\n      'Left_Value'\\n      'Left_Unit'\\n      'Right_Value'\\n      'Right_Unit'\\n     },\\n     {\\n      'Type'\\n      'Left_Value'\\n      'Left_Unit'\\n      'Right_Value'\\n      'Right_Unit'\\n     },\\n    ]\\n   },\\n  'Status':\\n   {\\n   },\\n },\\n\",\n",
       "       \" {\\n  'start_weight'\\n  'start_index'\\n  'crew'\\n  'water(%)'\\n  'Galley_Codes':\\n   {\\n    [\\n     {\\n      'TTL'\\n      'Weight'\\n      'unit'\\n      'Index'\\n     },\\n     {\\n      'TTL'\\n      'Weight'\\n      'unit'\\n      'Index'\\n     },\\n     {\\n      'TTL'\\n      'Weight'\\n      'unit'\\n      'Index'\\n     },\\n    ]\\n   },\\n  'Corrections':\\n   {\\n    []]\\n   },\\n  'Weight_Tables':\\n   {\\n    []]\\n   },\\n  'Max_Weights':\\n   {\\n    []]\\n   },\\n  'Status':\\n   {\\n    'LOADING_INSTRUCTION'\\n    'FUEL'\\n    'AIRCRAFT_CONFIG'\\n    'EZFW'\\n    'CARGO_FINAL'\\n    'CARGO_TRANSFER'\\n    'OFP'\\n    'CABIN_CONFIG'\\n    'AUTO_MODE_ACTIVE'\\n    'AUTOMATION_STARTED'\\n    'BAG_LOAD_ITEMS_GEN'\\n    'EZFW_COUNTER'\\n    'REGISTRATION'\\n    'REGISTRATION_CHANGE'\\n    'FUEL_ORDER'\\n   },\\n },\\n\",\n",
       "       \" {\\n  'start_weight'\\n  'start_index'\\n  'crew'\\n  'water(%)'\\n  'Galley_Codes':\\n   {\\n    [\\n     {\\n      'TTL'\\n      'Weight'\\n      'unit'\\n      'Index'\\n     },\\n     {\\n      'TTL'\\n      'Weight'\\n      'unit'\\n      'Index'\\n     },\\n     {\\n      'TTL'\\n      'Weight'\\n      'unit'\\n      'Index'\\n     },\\n    ]\\n   },\\n  'Corrections':\\n   {\\n    []]\\n   },\\n  'Weight_Tables':\\n   {\\n    []]\\n   },\\n  'Max_Weights':\\n   {\\n    []]\\n   },\\n  'Status':\\n   {\\n    'LOADING_INSTRUCTION'\\n    'FUEL'\\n    'AIRCRAFT_CONFIG'\\n    'EZFW'\\n    'CARGO_FINAL'\\n    'RAMP_FINAL'\\n    'CHECK_IN_FINAL'\\n    'CARGO_TRANSFER'\\n    'OFP'\\n    'CABIN_CONFIG'\\n    'AUTO_MODE_ACTIVE'\\n    'AUTOMATION_STARTED'\\n    'BAG_LOAD_ITEMS_GEN'\\n    'EZFW_COUNTER'\\n    'REGISTRATION'\\n    'REGISTRATION_CHANGE'\\n    'FUEL_ORDER'\\n   },\\n },\\n\",\n",
       "       \" {\\n  'start_weight'\\n  'start_index'\\n  'crew'\\n  'water(%)'\\n  'Galley_Codes':\\n   {\\n    [\\n     {\\n      'TTL'\\n      'Weight'\\n      'unit'\\n      'Index'\\n     },\\n     {\\n      'TTL'\\n      'Weight'\\n      'unit'\\n      'Index'\\n     },\\n     {\\n      'TTL'\\n      'Weight'\\n      'unit'\\n      'Index'\\n     },\\n    ]\\n   },\\n  'Corrections':\\n   {\\n    [\\n     {\\n      'DOW'\\n      'Unit'\\n      'DOI'\\n      'Pos'\\n      'Remark'\\n     },\\n     {\\n      'DOW'\\n      'Unit'\\n      'DOI'\\n      'Pos'\\n      'Remark'\\n     },\\n     {\\n      'DOW'\\n      'Unit'\\n      'DOI'\\n      'Pos'\\n      'Remark'\\n     },\\n    ]\\n   },\\n  'Weight_Tables':\\n   {\\n    [\\n     {\\n      'Table'\\n      'Airline'\\n      'Weight'\\n      'Unit'\\n     },\\n     {\\n      'Table'\\n      'Airline'\\n      'Weight'\\n      'Unit'\\n     },\\n     {\\n      'Table'\\n      'Airline'\\n      'Weight'\\n      'Unit'\\n     },\\n    ]\\n   },\\n  'Max_Weights':\\n   {\\n    [\\n     {\\n      'Type'\\n      'Left_Value'\\n      'Left_Unit'\\n      'Right_Value'\\n      'Right_Unit'\\n     },\\n     {\\n      'Type'\\n      'Left_Value'\\n      'Left_Unit'\\n      'Right_Value'\\n      'Right_Unit'\\n     },\\n     {\\n      'Type'\\n      'Left_Value'\\n      'Left_Unit'\\n      'Right_Value'\\n      'Right_Unit'\\n     },\\n    ]\\n   },\\n  'Status':\\n   {\\n   },\\n },\\n\",\n",
       "       \" {\\n  'start_weight'\\n  'start_index'\\n  'crew'\\n  'water(%)'\\n  'Galley_Codes':\\n   {\\n    [\\n     {\\n      'TTL'\\n      'Weight'\\n      'unit'\\n      'Index'\\n     },\\n     {\\n      'TTL'\\n      'Weight'\\n      'unit'\\n      'Index'\\n     },\\n     {\\n      'TTL'\\n      'Weight'\\n      'unit'\\n      'Index'\\n     },\\n    ]\\n   },\\n  'Corrections':\\n   {\\n    []]\\n   },\\n  'Weight_Tables':\\n   {\\n    []]\\n   },\\n  'Max_Weights':\\n   {\\n    []]\\n   },\\n  'Status':\\n   {\\n    'AIRCRAFT_CONFIG'\\n    'EZFW'\\n    'CARGO_FINAL'\\n    'CARGO_TRANSFER'\\n    'CABIN_CONFIG'\\n    'AUTO_MODE_ACTIVE'\\n    'AUTOMATION_STARTED'\\n    'BAG_LOAD_ITEMS_GEN'\\n    'EZFW_COUNTER'\\n    'REGISTRATION'\\n    'REGISTRATION_CHANGE'\\n    'DGR_ITEMS'\\n   },\\n },\\n\",\n",
       "       \" {\\n  'start_weight'\\n  'start_index'\\n  'crew'\\n  'water(%)'\\n  'Galley_Codes':\\n   {\\n    [\\n     {\\n      'TTL'\\n      'Weight'\\n      'unit'\\n      'Index'\\n     },\\n     {\\n      'TTL'\\n      'Weight'\\n      'unit'\\n      'Index'\\n     },\\n     {\\n      'TTL'\\n      'Weight'\\n      'unit'\\n      'Index'\\n     },\\n    ]\\n   },\\n  'Corrections':\\n   {\\n    []]\\n   },\\n  'Weight_Tables':\\n   {\\n    []]\\n   },\\n  'Max_Weights':\\n   {\\n    []]\\n   },\\n  'Status':\\n   {\\n    'AIRCRAFT_CONFIG'\\n    'CARGO_TRANSFER'\\n    'CABIN_CONFIG'\\n    'AUTO_MODE_ACTIVE'\\n    'AUTOMATION_STARTED'\\n    'BAG_LOAD_ITEMS_GEN'\\n    'REGISTRATION'\\n    'REGISTRATION_CHANGE'\\n   },\\n },\\n\",\n",
       "       \" {\\n  'start_weight'\\n  'start_index'\\n  'crew'\\n  'water(%)'\\n  'Galley_Codes':\\n   {\\n    [\\n     {\\n      'TTL'\\n      'Weight'\\n      'unit'\\n      'Index'\\n     },\\n     {\\n      'TTL'\\n      'Weight'\\n      'unit'\\n      'Index'\\n     },\\n     {\\n      'TTL'\\n      'Weight'\\n      'unit'\\n      'Index'\\n     },\\n    ]\\n   },\\n  'Corrections':\\n   {\\n    []]\\n   },\\n  'Weight_Tables':\\n   {\\n    []]\\n   },\\n  'Max_Weights':\\n   {\\n    []]\\n   },\\n  'Status':\\n   {\\n    'AIRCRAFT_CONFIG'\\n    'EZFW'\\n    'CARGO_FINAL'\\n    'CARGO_TRANSFER'\\n    'OFP'\\n    'CABIN_CONFIG'\\n    'AUTO_MODE_ACTIVE'\\n    'AUTOMATION_STARTED'\\n    'BAG_LOAD_ITEMS_GEN'\\n    'EZFW_COUNTER'\\n    'REGISTRATION'\\n    'REGISTRATION_CHANGE'\\n    'FUEL_ORDER'\\n   },\\n },\\n\",\n",
       "       \" {\\n  'start_weight'\\n  'start_index'\\n  'crew'\\n  'water(%)'\\n  'Galley_Codes':\\n   {\\n    [\\n     {\\n      'TTL'\\n      'Weight'\\n      'unit'\\n      'Index'\\n     },\\n     {\\n      'TTL'\\n      'Weight'\\n      'unit'\\n      'Index'\\n     },\\n     {\\n      'TTL'\\n      'Weight'\\n      'unit'\\n      'Index'\\n     },\\n    ]\\n   },\\n  'Corrections':\\n   {\\n    []]\\n   },\\n  'Weight_Tables':\\n   {\\n    []]\\n   },\\n  'Max_Weights':\\n   {\\n    []]\\n   },\\n  'Status':\\n   {\\n    'AIRCRAFT_CONFIG'\\n    'EZFW'\\n    'CARGO_FINAL'\\n    'CARGO_TRANSFER'\\n    'OFP'\\n    'CABIN_CONFIG'\\n    'AUTO_MODE_ACTIVE'\\n    'AUTOMATION_STARTED'\\n    'BAG_LOAD_ITEMS_GEN'\\n    'EZFW_COUNTER'\\n    'REGISTRATION'\\n    'REGISTRATION_CHANGE'\\n    'FUEL_ORDER'\\n    'DGR_ITEMS'\\n   },\\n },\\n\",\n",
       "       \" {\\n  'start_weight'\\n  'start_index'\\n  'crew'\\n  'water(%)'\\n  'Galley_Codes':\\n   {\\n    [\\n     {\\n      'TTL'\\n      'Weight'\\n      'unit'\\n      'Index'\\n     },\\n     {\\n      'TTL'\\n      'Weight'\\n      'unit'\\n      'Index'\\n     },\\n     {\\n      'TTL'\\n      'Weight'\\n      'unit'\\n      'Index'\\n     },\\n    ]\\n   },\\n  'Corrections':\\n   {\\n    []]\\n   },\\n  'Weight_Tables':\\n   {\\n    []]\\n   },\\n  'Max_Weights':\\n   {\\n    []]\\n   },\\n  'Status':\\n   {\\n    'FUEL'\\n    'AIRCRAFT_CONFIG'\\n    'EZFW'\\n    'CARGO_TRANSFER'\\n    'OFP'\\n    'CABIN_CONFIG'\\n    'BAG_ULD_ORD'\\n    'AUTO_MODE_ACTIVE'\\n    'AUTOMATION_STARTED'\\n    'BAG_LOAD_ITEMS_GEN'\\n    'EZFW_COUNTER'\\n    'REGISTRATION'\\n    'REGISTRATION_CHANGE'\\n    'FUEL_ORDER'\\n   },\\n },\\n\",\n",
       "       \" {\\n  'start_weight'\\n  'start_index'\\n  'crew'\\n  'water(%)'\\n  'Galley_Codes':\\n   {\\n    [\\n     {\\n      'TTL'\\n      'Weight'\\n      'unit'\\n      'Index'\\n     },\\n     {\\n      'TTL'\\n      'Weight'\\n      'unit'\\n      'Index'\\n     },\\n     {\\n      'TTL'\\n      'Weight'\\n      'unit'\\n      'Index'\\n     },\\n    ]\\n   },\\n  'Corrections':\\n   {\\n    []]\\n   },\\n  'Weight_Tables':\\n   {\\n    []]\\n   },\\n  'Max_Weights':\\n   {\\n    []]\\n   },\\n  'Status':\\n   {\\n    'LOADING_INSTRUCTION'\\n    'FUEL'\\n    'AIRCRAFT_CONFIG'\\n    'EZFW'\\n    'CARGO_FINAL'\\n    'CARGO_TRANSFER'\\n    'OFP'\\n    'CABIN_CONFIG'\\n    'AUTO_MODE_ACTIVE'\\n    'AUTOMATION_STARTED'\\n    'BAG_LOAD_ITEMS_GEN'\\n    'EZFW_COUNTER'\\n    'REGISTRATION'\\n    'REGISTRATION_CHANGE'\\n    'FUEL_ORDER'\\n    'DGR_ITEMS'\\n   },\\n },\\n\",\n",
       "       \" {\\n  'start_weight'\\n  'start_index'\\n  'crew'\\n  'water(%)'\\n  'Galley_Codes':\\n   {\\n    [\\n     {\\n      'TTL'\\n      'Weight'\\n      'unit'\\n      'Index'\\n     },\\n     {\\n      'TTL'\\n      'Weight'\\n      'unit'\\n      'Index'\\n     },\\n     {\\n      'TTL'\\n      'Weight'\\n      'unit'\\n      'Index'\\n     },\\n    ]\\n   },\\n  'Corrections':\\n   {\\n    []]\\n   },\\n  'Weight_Tables':\\n   {\\n    []]\\n   },\\n  'Max_Weights':\\n   {\\n    []]\\n   },\\n  'Status':\\n   {\\n    'LOADING_INSTRUCTION'\\n    'FUEL'\\n    'AIRCRAFT_CONFIG'\\n    'EZFW'\\n    'CARGO_FINAL'\\n    'RAMP_FINAL'\\n    'CHECK_IN_FINAL'\\n    'CARGO_TRANSFER'\\n    'OFP'\\n    'CABIN_CONFIG'\\n    'AUTO_MODE_ACTIVE'\\n    'AUTOMATION_STARTED'\\n    'BAG_LOAD_ITEMS_GEN'\\n    'EZFW_COUNTER'\\n    'REGISTRATION'\\n    'REGISTRATION_CHANGE'\\n    'FUEL_ORDER'\\n    'DGR_ITEMS'\\n   },\\n },\\n\",\n",
       "       \" {\\n  'start_weight'\\n  'start_index'\\n  'crew'\\n  'water(%)'\\n  'Galley_Codes':\\n   {\\n    [\\n     {\\n      'TTL'\\n      'Weight'\\n      'unit'\\n      'Index'\\n     },\\n     {\\n      'TTL'\\n      'Weight'\\n      'unit'\\n      'Index'\\n     },\\n     {\\n      'TTL'\\n      'Weight'\\n      'unit'\\n      'Index'\\n     },\\n    ]\\n   },\\n  'Corrections':\\n   {\\n    []]\\n   },\\n  'Weight_Tables':\\n   {\\n    []]\\n   },\\n  'Max_Weights':\\n   {\\n    []]\\n   },\\n  'Status':\\n   {\\n    'AIRCRAFT_CONFIG'\\n    'EZFW'\\n    'CARGO_FINAL'\\n    'CARGO_TRANSFER'\\n    'CABIN_CONFIG'\\n    'AUTO_MODE_ACTIVE'\\n    'AUTOMATION_STARTED'\\n    'BAG_LOAD_ITEMS_GEN'\\n    'EZFW_COUNTER'\\n    'REGISTRATION'\\n    'REGISTRATION_CHANGE'\\n   },\\n },\\n\",\n",
       "       \" {\\n  'start_weight'\\n  'start_index'\\n  'crew'\\n  'water(%)'\\n  'Galley_Codes':\\n   {\\n    [\\n     {\\n      'TTL'\\n      'Weight'\\n      'unit'\\n      'Index'\\n     },\\n     {\\n      'TTL'\\n      'Weight'\\n      'unit'\\n      'Index'\\n     },\\n     {\\n      'TTL'\\n      'Weight'\\n      'unit'\\n      'Index'\\n     },\\n    ]\\n   },\\n  'Corrections':\\n   {\\n    []]\\n   },\\n  'Weight_Tables':\\n   {\\n    []]\\n   },\\n  'Max_Weights':\\n   {\\n    []]\\n   },\\n  'Status':\\n   {\\n    'LOADING_INSTRUCTION'\\n    'AIRCRAFT_CONFIG'\\n    'EZFW'\\n    'CARGO_FINAL'\\n    'CARGO_TRANSFER'\\n    'CABIN_CONFIG'\\n    'AUTO_MODE_ACTIVE'\\n    'AUTOMATION_STARTED'\\n    'BAG_LOAD_ITEMS_GEN'\\n    'EZFW_COUNTER'\\n    'REGISTRATION'\\n    'REGISTRATION_CHANGE'\\n   },\\n },\\n\",\n",
       "       \" {\\n  'start_weight'\\n  'start_index'\\n  'crew'\\n  'water(%)'\\n  'Galley_Codes':\\n   {\\n    [\\n     {\\n      'TTL'\\n      'Weight'\\n      'unit'\\n      'Index'\\n     },\\n     {\\n      'TTL'\\n      'Weight'\\n      'unit'\\n      'Index'\\n     },\\n     {\\n      'TTL'\\n      'Weight'\\n      'unit'\\n      'Index'\\n     },\\n    ]\\n   },\\n  'Corrections':\\n   {\\n    []]\\n   },\\n  'Weight_Tables':\\n   {\\n    []]\\n   },\\n  'Max_Weights':\\n   {\\n    []]\\n   },\\n  'Status':\\n   {\\n    'FUEL'\\n    'AIRCRAFT_CONFIG'\\n    'EZFW'\\n    'CARGO_FINAL'\\n    'CARGO_TRANSFER'\\n    'OFP'\\n    'CABIN_CONFIG'\\n    'AUTO_MODE_ACTIVE'\\n    'AUTOMATION_STARTED'\\n    'BAG_LOAD_ITEMS_GEN'\\n    'EZFW_COUNTER'\\n    'REGISTRATION'\\n    'REGISTRATION_CHANGE'\\n    'FUEL_ORDER'\\n   },\\n },\\n\",\n",
       "       \" {\\n  'start_weight'\\n  'start_index'\\n  'crew'\\n  'water(%)'\\n  'Galley_Codes':\\n   {\\n    [\\n     {\\n      'TTL'\\n      'Weight'\\n      'unit'\\n      'Index'\\n     },\\n     {\\n      'TTL'\\n      'Weight'\\n      'unit'\\n      'Index'\\n     },\\n     {\\n      'TTL'\\n      'Weight'\\n      'unit'\\n      'Index'\\n     },\\n    ]\\n   },\\n  'Corrections':\\n   {\\n    []]\\n   },\\n  'Weight_Tables':\\n   {\\n    []]\\n   },\\n  'Max_Weights':\\n   {\\n    []]\\n   },\\n  'Status':\\n   {\\n    'LOADING_INSTRUCTION'\\n    'FUEL'\\n    'AIRCRAFT_CONFIG'\\n    'EZFW'\\n    'CARGO_TRANSFER'\\n    'OFP'\\n    'CABIN_CONFIG'\\n    'AUTO_MODE_ACTIVE'\\n    'AUTOMATION_STARTED'\\n    'BAG_LOAD_ITEMS_GEN'\\n    'EZFW_COUNTER'\\n    'REGISTRATION'\\n    'REGISTRATION_CHANGE'\\n    'FUEL_ORDER'\\n   },\\n },\\n\",\n",
       "       \" {\\n  'start_weight'\\n  'start_index'\\n  'crew'\\n  'water(%)'\\n  'Galley_Codes':\\n   {\\n    [\\n     {\\n      'TTL'\\n      'Weight'\\n      'unit'\\n      'Index'\\n     },\\n     {\\n      'TTL'\\n      'Weight'\\n      'unit'\\n      'Index'\\n     },\\n     {\\n      'TTL'\\n      'Weight'\\n      'unit'\\n      'Index'\\n     },\\n    ]\\n   },\\n  'Corrections':\\n   {\\n    []]\\n   },\\n  'Weight_Tables':\\n   {\\n    []]\\n   },\\n  'Max_Weights':\\n   {\\n    []]\\n   },\\n  'Status':\\n   {\\n    'LOADING_INSTRUCTION'\\n    'FUEL'\\n    'AIRCRAFT_CONFIG'\\n    'EZFW'\\n    'CARGO_FINAL'\\n    'CHECK_IN_FINAL'\\n    'CARGO_TRANSFER'\\n    'OFP'\\n    'CABIN_CONFIG'\\n    'AUTO_MODE_ACTIVE'\\n    'AUTOMATION_STARTED'\\n    'BAG_LOAD_ITEMS_GEN'\\n    'EZFW_COUNTER'\\n    'REGISTRATION'\\n    'REGISTRATION_CHANGE'\\n    'FUEL_ORDER'\\n    'DGR_ITEMS'\\n   },\\n },\\n\",\n",
       "       \" {\\n  'start_weight'\\n  'start_index'\\n  'crew'\\n  'water(%)'\\n  'Galley_Codes':\\n   {\\n    [\\n     {\\n      'TTL'\\n      'Weight'\\n      'unit'\\n      'Index'\\n     },\\n     {\\n      'TTL'\\n      'Weight'\\n      'unit'\\n      'Index'\\n     },\\n     {\\n      'TTL'\\n      'Weight'\\n      'unit'\\n      'Index'\\n     },\\n    ]\\n   },\\n  'Corrections':\\n   {\\n    []]\\n   },\\n  'Weight_Tables':\\n   {\\n    []]\\n   },\\n  'Max_Weights':\\n   {\\n    []]\\n   },\\n  'Status':\\n   {\\n    'FUEL'\\n    'AIRCRAFT_CONFIG'\\n    'EZFW'\\n    'CARGO_TRANSFER'\\n    'OFP'\\n    'CABIN_CONFIG'\\n    'AUTO_MODE_ACTIVE'\\n    'AUTOMATION_STARTED'\\n    'BAG_LOAD_ITEMS_GEN'\\n    'EZFW_COUNTER'\\n    'REGISTRATION'\\n    'REGISTRATION_CHANGE'\\n    'FUEL_ORDER'\\n    'DGR_ITEMS'\\n   },\\n },\\n\",\n",
       "       \" {\\n  'start_weight'\\n  'start_index'\\n  'crew'\\n  'water(%)'\\n  'Galley_Codes':\\n   {\\n    [\\n     {\\n      'TTL'\\n      'Weight'\\n      'unit'\\n      'Index'\\n     },\\n     {\\n      'TTL'\\n      'Weight'\\n      'unit'\\n      'Index'\\n     },\\n     {\\n      'TTL'\\n      'Weight'\\n      'unit'\\n      'Index'\\n     },\\n    ]\\n   },\\n  'Corrections':\\n   {\\n    []]\\n   },\\n  'Weight_Tables':\\n   {\\n    []]\\n   },\\n  'Max_Weights':\\n   {\\n    []]\\n   },\\n  'Status':\\n   {\\n    'LOADING_INSTRUCTION'\\n    'FUEL'\\n    'AIRCRAFT_CONFIG'\\n    'EZFW'\\n    'CARGO_TRANSFER'\\n    'OFP'\\n    'CABIN_CONFIG'\\n    'AUTO_MODE_ACTIVE'\\n    'AUTOMATION_STARTED'\\n    'BAG_LOAD_ITEMS_GEN'\\n    'EZFW_COUNTER'\\n    'REGISTRATION'\\n    'REGISTRATION_CHANGE'\\n    'FUEL_ORDER'\\n    'DGR_ITEMS'\\n   },\\n },\\n\",\n",
       "       \" {\\n  'start_weight'\\n  'start_index'\\n  'crew'\\n  'water(%)'\\n  'Galley_Codes':\\n   {\\n    [\\n     {\\n      'TTL'\\n      'Weight'\\n      'unit'\\n      'Index'\\n     },\\n     {\\n      'TTL'\\n      'Weight'\\n      'unit'\\n      'Index'\\n     },\\n     {\\n      'TTL'\\n      'Weight'\\n      'unit'\\n      'Index'\\n     },\\n    ]\\n   },\\n  'Corrections':\\n   {\\n    [\\n     {\\n      'DOW'\\n      'Unit'\\n      'DOI'\\n      'Pos'\\n      'Remark'\\n     },\\n    ]\\n   },\\n  'Weight_Tables':\\n   {\\n    [\\n     {\\n      'Table'\\n      'Airline'\\n      'Weight'\\n      'Unit'\\n     },\\n     {\\n      'Table'\\n      'Airline'\\n      'Weight'\\n      'Unit'\\n     },\\n     {\\n      'Table'\\n      'Airline'\\n      'Weight'\\n      'Unit'\\n     },\\n    ]\\n   },\\n  'Max_Weights':\\n   {\\n    [\\n     {\\n      'Type'\\n      'Left_Value'\\n      'Left_Unit'\\n      'Right_Value'\\n      'Right_Unit'\\n     },\\n     {\\n      'Type'\\n      'Left_Value'\\n      'Left_Unit'\\n      'Right_Value'\\n      'Right_Unit'\\n     },\\n     {\\n      'Type'\\n      'Left_Value'\\n      'Left_Unit'\\n      'Right_Value'\\n      'Right_Unit'\\n     },\\n    ]\\n   },\\n  'Status':\\n   {\\n   },\\n },\\n\",\n",
       "       \" {\\n  'start_weight'\\n  'start_index'\\n  'crew'\\n  'water(%)'\\n  'Galley_Codes':\\n   {\\n    [\\n     {\\n      'TTL'\\n      'Weight'\\n      'unit'\\n      'Index'\\n     },\\n     {\\n      'TTL'\\n      'Weight'\\n      'unit'\\n      'Index'\\n     },\\n     {\\n      'TTL'\\n      'Weight'\\n      'unit'\\n      'Index'\\n     },\\n    ]\\n   },\\n  'Corrections':\\n   {\\n    []]\\n   },\\n  'Weight_Tables':\\n   {\\n    []]\\n   },\\n  'Max_Weights':\\n   {\\n    []]\\n   },\\n  'Status':\\n   {\\n    'FUEL'\\n    'AIRCRAFT_CONFIG'\\n    'EZFW'\\n    'CARGO_FINAL'\\n    'CARGO_TRANSFER'\\n    'OFP'\\n    'CABIN_CONFIG'\\n    'BAG_ULD_ORD'\\n    'AUTO_MODE_ACTIVE'\\n    'AUTOMATION_STARTED'\\n    'BAG_LOAD_ITEMS_GEN'\\n    'EZFW_COUNTER'\\n    'REGISTRATION'\\n    'REGISTRATION_CHANGE'\\n    'FUEL_ORDER'\\n   },\\n },\\n\",\n",
       "       \" {\\n  'start_weight'\\n  'start_index'\\n  'crew'\\n  'water(%)'\\n  'Galley_Codes':\\n   {\\n    [\\n     {\\n      'TTL'\\n      'Weight'\\n      'unit'\\n      'Index'\\n     },\\n     {\\n      'TTL'\\n      'Weight'\\n      'unit'\\n      'Index'\\n     },\\n     {\\n      'TTL'\\n      'Weight'\\n      'unit'\\n      'Index'\\n     },\\n    ]\\n   },\\n  'Corrections':\\n   {\\n    []]\\n   },\\n  'Weight_Tables':\\n   {\\n    []]\\n   },\\n  'Max_Weights':\\n   {\\n    []]\\n   },\\n  'Status':\\n   {\\n    'AIRCRAFT_CONFIG'\\n    'CARGO_TRANSFER'\\n    'CABIN_CONFIG'\\n    'AUTO_MODE_ACTIVE'\\n    'BAG_LOAD_ITEMS_GEN'\\n    'REGISTRATION'\\n    'REGISTRATION_CHANGE'\\n   },\\n },\\n\",\n",
       "       \" {\\n  'start_weight'\\n  'start_index'\\n  'crew'\\n  'water(%)'\\n  'Galley_Codes':\\n   {\\n    [\\n     {\\n      'TTL'\\n      'Weight'\\n      'unit'\\n      'Index'\\n     },\\n     {\\n      'TTL'\\n      'Weight'\\n      'unit'\\n      'Index'\\n     },\\n     {\\n      'TTL'\\n      'Weight'\\n      'unit'\\n      'Index'\\n     },\\n    ]\\n   },\\n  'Corrections':\\n   {\\n    []]\\n   },\\n  'Weight_Tables':\\n   {\\n    []]\\n   },\\n  'Max_Weights':\\n   {\\n    []]\\n   },\\n  'Status':\\n   {\\n    'LOADING_INSTRUCTION'\\n    'FUEL'\\n    'AIRCRAFT_CONFIG'\\n    'EZFW'\\n    'CARGO_FINAL'\\n    'CARGO_TRANSFER'\\n    'OFP'\\n    'CABIN_CONFIG'\\n    'BAG_ULD_ORD'\\n    'AUTO_MODE_ACTIVE'\\n    'AUTOMATION_STARTED'\\n    'BAG_LOAD_ITEMS_GEN'\\n    'EZFW_COUNTER'\\n    'REGISTRATION'\\n    'REGISTRATION_CHANGE'\\n    'FUEL_ORDER'\\n   },\\n },\\n\",\n",
       "       \" {\\n  'start_weight'\\n  'start_index'\\n  'crew'\\n  'water(%)'\\n  'Galley_Codes':\\n   {\\n    [\\n     {\\n      'TTL'\\n      'Weight'\\n      'unit'\\n      'Index'\\n     },\\n     {\\n      'TTL'\\n      'Weight'\\n      'unit'\\n      'Index'\\n     },\\n     {\\n      'TTL'\\n      'Weight'\\n      'unit'\\n      'Index'\\n     },\\n    ]\\n   },\\n  'Corrections':\\n   {\\n    []]\\n   },\\n  'Weight_Tables':\\n   {\\n    []]\\n   },\\n  'Max_Weights':\\n   {\\n    []]\\n   },\\n  'Status':\\n   {\\n    'LOADING_INSTRUCTION'\\n    'FUEL'\\n    'AIRCRAFT_CONFIG'\\n    'EZFW'\\n    'CARGO_FINAL'\\n    'CHECK_IN_FINAL'\\n    'CARGO_TRANSFER'\\n    'OFP'\\n    'CABIN_CONFIG'\\n    'BAG_ULD_ORD'\\n    'AUTO_MODE_ACTIVE'\\n    'AUTOMATION_STARTED'\\n    'BAG_LOAD_ITEMS_GEN'\\n    'EZFW_COUNTER'\\n    'REGISTRATION'\\n    'REGISTRATION_CHANGE'\\n    'FUEL_ORDER'\\n   },\\n },\\n\",\n",
       "       \" {\\n  'start_weight'\\n  'start_index'\\n  'crew'\\n  'water(%)'\\n  'Galley_Codes':\\n   {\\n    [\\n     {\\n      'TTL'\\n      'Weight'\\n      'unit'\\n      'Index'\\n     },\\n     {\\n      'TTL'\\n      'Weight'\\n      'unit'\\n      'Index'\\n     },\\n     {\\n      'TTL'\\n      'Weight'\\n      'unit'\\n      'Index'\\n     },\\n    ]\\n   },\\n  'Corrections':\\n   {\\n    []]\\n   },\\n  'Weight_Tables':\\n   {\\n    []]\\n   },\\n  'Max_Weights':\\n   {\\n    []]\\n   },\\n  'Status':\\n   {\\n    'FUEL'\\n    'AIRCRAFT_CONFIG'\\n    'CARGO_TRANSFER'\\n    'OFP'\\n    'CABIN_CONFIG'\\n    'AUTO_MODE_ACTIVE'\\n    'AUTOMATION_STARTED'\\n    'REGISTRATION'\\n    'REGISTRATION_CHANGE'\\n    'FUEL_ORDER'\\n   },\\n },\\n\",\n",
       "       \" {\\n  'start_weight'\\n  'start_index'\\n  'crew'\\n  'water(%)'\\n  'Galley_Codes':\\n   {\\n    [\\n     {\\n      'TTL'\\n      'Weight'\\n      'unit'\\n      'Index'\\n     },\\n     {\\n      'TTL'\\n      'Weight'\\n      'unit'\\n      'Index'\\n     },\\n     {\\n      'TTL'\\n      'Weight'\\n      'unit'\\n      'Index'\\n     },\\n    ]\\n   },\\n  'Corrections':\\n   {\\n    []]\\n   },\\n  'Weight_Tables':\\n   {\\n    []]\\n   },\\n  'Max_Weights':\\n   {\\n    []]\\n   },\\n  'Status':\\n   {\\n    'LOADING_INSTRUCTION'\\n    'FUEL'\\n    'AIRCRAFT_CONFIG'\\n    'EZFW'\\n    'CARGO_FINAL'\\n    'RAMP_FINAL'\\n    'CHECK_IN_FINAL'\\n    'CARGO_TRANSFER'\\n    'OFP'\\n    'CABIN_CONFIG'\\n    'BAG_ULD_ORD'\\n    'AUTO_MODE_ACTIVE'\\n    'AUTOMATION_STARTED'\\n    'BAG_LOAD_ITEMS_GEN'\\n    'EZFW_COUNTER'\\n    'REGISTRATION'\\n    'REGISTRATION_CHANGE'\\n    'FUEL_ORDER'\\n   },\\n },\\n\",\n",
       "       \" {\\n  'start_weight'\\n  'start_index'\\n  'crew'\\n  'water(%)'\\n  'Galley_Codes':\\n   {\\n    [\\n     {\\n      'TTL'\\n      'Weight'\\n      'unit'\\n      'Index'\\n     },\\n     {\\n      'TTL'\\n      'Weight'\\n      'unit'\\n      'Index'\\n     },\\n     {\\n      'TTL'\\n      'Weight'\\n      'unit'\\n      'Index'\\n     },\\n    ]\\n   },\\n  'Corrections':\\n   {\\n    []]\\n   },\\n  'Weight_Tables':\\n   {\\n    []]\\n   },\\n  'Max_Weights':\\n   {\\n    []]\\n   },\\n  'Status':\\n   {\\n    'AIRCRAFT_CONFIG'\\n    'EZFW'\\n    'CARGO_FINAL'\\n    'CARGO_TRANSFER'\\n    'CABIN_CONFIG'\\n    'BAG_ULD_ORD'\\n    'AUTO_MODE_ACTIVE'\\n    'AUTOMATION_STARTED'\\n    'BAG_LOAD_ITEMS_GEN'\\n    'EZFW_COUNTER'\\n    'REGISTRATION'\\n    'REGISTRATION_CHANGE'\\n   },\\n },\\n\",\n",
       "       \" {\\n  'start_weight'\\n  'start_index'\\n  'crew'\\n  'water(%)'\\n  'Galley_Codes':\\n   {\\n    [\\n     {\\n      'TTL'\\n      'Weight'\\n      'unit'\\n      'Index'\\n     },\\n     {\\n      'TTL'\\n      'Weight'\\n      'unit'\\n      'Index'\\n     },\\n     {\\n      'TTL'\\n      'Weight'\\n      'unit'\\n      'Index'\\n     },\\n    ]\\n   },\\n  'Corrections':\\n   {\\n    []]\\n   },\\n  'Weight_Tables':\\n   {\\n    []]\\n   },\\n  'Max_Weights':\\n   {\\n    []]\\n   },\\n  'Status':\\n   {\\n    'FUEL'\\n    'AIRCRAFT_CONFIG'\\n    'CARGO_FINAL'\\n    'CARGO_TRANSFER'\\n    'OFP'\\n    'CABIN_CONFIG'\\n    'AUTO_MODE_ACTIVE'\\n    'AUTOMATION_STARTED'\\n    'BAG_LOAD_ITEMS_GEN'\\n    'REGISTRATION'\\n    'REGISTRATION_CHANGE'\\n    'FUEL_ORDER'\\n   },\\n },\\n\",\n",
       "       \" {\\n  'start_weight'\\n  'start_index'\\n  'crew'\\n  'water(%)'\\n  'Galley_Codes':\\n   {\\n    [\\n     {\\n      'TTL'\\n      'Weight'\\n      'unit'\\n      'Index'\\n     },\\n     {\\n      'TTL'\\n      'Weight'\\n      'unit'\\n      'Index'\\n     },\\n     {\\n      'TTL'\\n      'Weight'\\n      'unit'\\n      'Index'\\n     },\\n    ]\\n   },\\n  'Corrections':\\n   {\\n    []]\\n   },\\n  'Weight_Tables':\\n   {\\n    []]\\n   },\\n  'Max_Weights':\\n   {\\n    []]\\n   },\\n  'Status':\\n   {\\n    'LOADING_INSTRUCTION'\\n    'FUEL'\\n    'AIRCRAFT_CONFIG'\\n    'CARGO_FINAL'\\n    'CARGO_TRANSFER'\\n    'OFP'\\n    'CABIN_CONFIG'\\n    'AUTO_MODE_ACTIVE'\\n    'AUTOMATION_STARTED'\\n    'BAG_LOAD_ITEMS_GEN'\\n    'REGISTRATION'\\n    'REGISTRATION_CHANGE'\\n    'FUEL_ORDER'\\n   },\\n },\\n\",\n",
       "       \" {\\n  'start_weight'\\n  'start_index'\\n  'crew'\\n  'water(%)'\\n  'Galley_Codes':\\n   {\\n    [\\n     {\\n      'TTL'\\n      'Weight'\\n      'unit'\\n      'Index'\\n     },\\n     {\\n      'TTL'\\n      'Weight'\\n      'unit'\\n      'Index'\\n     },\\n     {\\n      'TTL'\\n      'Weight'\\n      'unit'\\n      'Index'\\n     },\\n    ]\\n   },\\n  'Corrections':\\n   {\\n    []]\\n   },\\n  'Weight_Tables':\\n   {\\n    []]\\n   },\\n  'Max_Weights':\\n   {\\n    []]\\n   },\\n  'Status':\\n   {\\n    'FUEL'\\n    'AIRCRAFT_CONFIG'\\n    'EZFW'\\n    'CARGO_FINAL'\\n    'CARGO_TRANSFER'\\n    'OFP'\\n    'CABIN_CONFIG'\\n    'AUTO_MODE_ACTIVE'\\n    'AUTOMATION_STARTED'\\n    'BAG_LOAD_ITEMS_GEN'\\n    'EZFW_COUNTER'\\n    'REGISTRATION'\\n    'REGISTRATION_CHANGE'\\n    'FUEL_ORDER'\\n    'DGR_ITEMS'\\n   },\\n },\\n\",\n",
       "       \" {\\n  'start_weight'\\n  'start_index'\\n  'crew'\\n  'water(%)'\\n  'Galley_Codes':\\n   {\\n    [\\n     {\\n      'TTL'\\n      'Weight'\\n      'unit'\\n      'Index'\\n     },\\n     {\\n      'TTL'\\n      'Weight'\\n      'unit'\\n      'Index'\\n     },\\n     {\\n      'TTL'\\n      'Weight'\\n      'unit'\\n      'Index'\\n     },\\n    ]\\n   },\\n  'Corrections':\\n   {\\n    []]\\n   },\\n  'Weight_Tables':\\n   {\\n    []]\\n   },\\n  'Max_Weights':\\n   {\\n    []]\\n   },\\n  'Status':\\n   {\\n    'LOADSHEET'\\n    'LOADING_INSTRUCTION'\\n    'FUEL'\\n    'AIRCRAFT_CONFIG'\\n    'EZFW'\\n    'CARGO_FINAL'\\n    'RAMP_FINAL'\\n    'CHECK_IN_FINAL'\\n    'CARGO_TRANSFER'\\n    'OFP'\\n    'CABIN_CONFIG'\\n    'AUTO_MODE_ACTIVE'\\n    'AUTOMATION_STARTED'\\n    'BAG_LOAD_ITEMS_GEN'\\n    'EZFW_COUNTER'\\n    'REGISTRATION'\\n    'REGISTRATION_CHANGE'\\n    'FUEL_ORDER'\\n    'ALLOWANCE_CHECK_PERFORMED'\\n    'DGR_ITEMS'\\n   },\\n },\\n\",\n",
       "       \" {\\n  'start_weight'\\n  'start_index'\\n  'crew'\\n  'water(%)'\\n  'Galley_Codes':\\n   {\\n    [\\n     {\\n      'TTL'\\n      'Weight'\\n      'unit'\\n      'Index'\\n     },\\n     {\\n      'TTL'\\n      'Weight'\\n      'unit'\\n      'Index'\\n     },\\n     {\\n      'TTL'\\n      'Weight'\\n      'unit'\\n      'Index'\\n     },\\n    ]\\n   },\\n  'Corrections':\\n   {\\n    []]\\n   },\\n  'Weight_Tables':\\n   {\\n    []]\\n   },\\n  'Max_Weights':\\n   {\\n    []]\\n   },\\n  'Status':\\n   {\\n    'AIRCRAFT_CONFIG'\\n    'CARGO_FINAL'\\n    'CARGO_TRANSFER'\\n    'CABIN_CONFIG'\\n    'AUTO_MODE_ACTIVE'\\n    'AUTOMATION_STARTED'\\n    'EZFW_COUNTER'\\n    'REGISTRATION'\\n    'REGISTRATION_CHANGE'\\n   },\\n },\\n\",\n",
       "       \" {\\n  'start_weight'\\n  'start_index'\\n  'crew'\\n  'water(%)'\\n  'Galley_Codes':\\n   {\\n    [\\n     {\\n      'TTL'\\n      'Weight'\\n      'unit'\\n      'Index'\\n     },\\n     {\\n      'TTL'\\n      'Weight'\\n      'unit'\\n      'Index'\\n     },\\n     {\\n      'TTL'\\n      'Weight'\\n      'unit'\\n      'Index'\\n     },\\n    ]\\n   },\\n  'Corrections':\\n   {\\n    []]\\n   },\\n  'Weight_Tables':\\n   {\\n    []]\\n   },\\n  'Max_Weights':\\n   {\\n    []]\\n   },\\n  'Status':\\n   {\\n    'AIRCRAFT_CONFIG'\\n    'EZFW'\\n    'CARGO_TRANSFER'\\n    'CABIN_CONFIG'\\n    'AUTO_MODE_ACTIVE'\\n    'AUTOMATION_STARTED'\\n    'EZFW_COUNTER'\\n    'REGISTRATION'\\n    'REGISTRATION_CHANGE'\\n   },\\n },\\n\",\n",
       "       \" {\\n  'start_weight'\\n  'start_index'\\n  'crew'\\n  'water(%)'\\n  'Galley_Codes':\\n   {\\n    [\\n     {\\n      'TTL'\\n      'Weight'\\n      'unit'\\n      'Index'\\n     },\\n     {\\n      'TTL'\\n      'Weight'\\n      'unit'\\n      'Index'\\n     },\\n     {\\n      'TTL'\\n      'Weight'\\n      'unit'\\n      'Index'\\n     },\\n    ]\\n   },\\n  'Corrections':\\n   {\\n    []]\\n   },\\n  'Weight_Tables':\\n   {\\n    []]\\n   },\\n  'Max_Weights':\\n   {\\n    []]\\n   },\\n  'Status':\\n   {\\n    'AIRCRAFT_CONFIG'\\n    'EZFW'\\n    'CARGO_TRANSFER'\\n    'CABIN_CONFIG'\\n    'BAG_ULD_ORD'\\n    'AUTO_MODE_ACTIVE'\\n    'AUTOMATION_STARTED'\\n    'BAG_LOAD_ITEMS_GEN'\\n    'EZFW_COUNTER'\\n    'REGISTRATION'\\n    'REGISTRATION_CHANGE'\\n   },\\n },\\n\",\n",
       "       \" {\\n  'start_weight'\\n  'start_index'\\n  'crew'\\n  'water(%)'\\n  'Galley_Codes':\\n   {\\n    [\\n     {\\n      'TTL'\\n      'Weight'\\n      'unit'\\n      'Index'\\n     },\\n     {\\n      'TTL'\\n      'Weight'\\n      'unit'\\n      'Index'\\n     },\\n     {\\n      'TTL'\\n      'Weight'\\n      'unit'\\n      'Index'\\n     },\\n    ]\\n   },\\n  'Corrections':\\n   {\\n    []]\\n   },\\n  'Weight_Tables':\\n   {\\n    []]\\n   },\\n  'Max_Weights':\\n   {\\n    []]\\n   },\\n  'Status':\\n   {\\n    'AIRCRAFT_CONFIG'\\n    'CARGO_FINAL'\\n    'CARGO_TRANSFER'\\n    'CABIN_CONFIG'\\n    'AUTO_MODE_ACTIVE'\\n    'AUTOMATION_STARTED'\\n    'BAG_LOAD_ITEMS_GEN'\\n    'EZFW_COUNTER'\\n    'REGISTRATION'\\n    'REGISTRATION_CHANGE'\\n   },\\n },\\n\",\n",
       "       \" {\\n  'start_weight'\\n  'start_index'\\n  'crew'\\n  'water(%)'\\n  'Galley_Codes':\\n   {\\n    [\\n     {\\n      'TTL'\\n      'Weight'\\n      'unit'\\n      'Index'\\n     },\\n     {\\n      'TTL'\\n      'Weight'\\n      'unit'\\n      'Index'\\n     },\\n     {\\n      'TTL'\\n      'Weight'\\n      'unit'\\n      'Index'\\n     },\\n    ]\\n   },\\n  'Corrections':\\n   {\\n    []]\\n   },\\n  'Weight_Tables':\\n   {\\n    []]\\n   },\\n  'Max_Weights':\\n   {\\n    []]\\n   },\\n  'Status':\\n   {\\n    'AIRCRAFT_CONFIG'\\n    'CARGO_TRANSFER'\\n    'CABIN_CONFIG'\\n    'AUTO_MODE_ACTIVE'\\n    'AUTOMATION_STARTED'\\n    'REGISTRATION'\\n    'REGISTRATION_CHANGE'\\n   },\\n },\\n\",\n",
       "       \" {\\n  'start_weight'\\n  'start_index'\\n  'crew'\\n  'water(%)'\\n  'Galley_Codes':\\n   {\\n    [\\n     {\\n      'TTL'\\n      'Weight'\\n      'unit'\\n      'Index'\\n     },\\n     {\\n      'TTL'\\n      'Weight'\\n      'unit'\\n      'Index'\\n     },\\n     {\\n      'TTL'\\n      'Weight'\\n      'unit'\\n      'Index'\\n     },\\n    ]\\n   },\\n  'Corrections':\\n   {\\n    []]\\n   },\\n  'Weight_Tables':\\n   {\\n    []]\\n   },\\n  'Max_Weights':\\n   {\\n    []]\\n   },\\n  'Status':\\n   {\\n    'LOADING_INSTRUCTION'\\n    'FUEL'\\n    'AIRCRAFT_CONFIG'\\n    'CARGO_FINAL'\\n    'CARGO_TRANSFER'\\n    'OFP'\\n    'CABIN_CONFIG'\\n    'AUTO_MODE_ACTIVE'\\n    'AUTOMATION_STARTED'\\n    'REGISTRATION'\\n    'REGISTRATION_CHANGE'\\n    'FUEL_ORDER'\\n   },\\n },\\n\",\n",
       "       \" {\\n  'start_weight'\\n  'start_index'\\n  'crew'\\n  'water(%)'\\n  'Galley_Codes':\\n   {\\n    [\\n     {\\n      'TTL'\\n      'Weight'\\n      'unit'\\n      'Index'\\n     },\\n     {\\n      'TTL'\\n      'Weight'\\n      'unit'\\n      'Index'\\n     },\\n     {\\n      'TTL'\\n      'Weight'\\n      'unit'\\n      'Index'\\n     },\\n    ]\\n   },\\n  'Corrections':\\n   {\\n    []]\\n   },\\n  'Weight_Tables':\\n   {\\n    []]\\n   },\\n  'Max_Weights':\\n   {\\n    []]\\n   },\\n  'Status':\\n   {\\n    'AIRCRAFT_CONFIG'\\n    'CARGO_FINAL'\\n    'CARGO_TRANSFER'\\n    'CABIN_CONFIG'\\n    'AUTO_MODE_ACTIVE'\\n    'BAG_LOAD_ITEMS_GEN'\\n    'REGISTRATION'\\n    'REGISTRATION_CHANGE'\\n   },\\n },\\n\",\n",
       "       \" {\\n  'start_weight'\\n  'start_index'\\n  'crew'\\n  'water(%)'\\n  'Galley_Codes':\\n   {\\n    []]\\n   },\\n  'Corrections':\\n   {\\n    [\\n     {\\n      'DOW'\\n      'Unit'\\n      'DOI'\\n      'Pos'\\n      'Remark'\\n     },\\n     {\\n      'DOW'\\n      'Unit'\\n      'DOI'\\n      'Pos'\\n      'Remark'\\n     },\\n     {\\n      'DOW'\\n      'Unit'\\n      'DOI'\\n      'Pos'\\n      'Remark'\\n     },\\n    ]\\n   },\\n  'Weight_Tables':\\n   {\\n    [\\n     {\\n      'Table'\\n      'Airline'\\n      'Weight'\\n      'Unit'\\n     },\\n     {\\n      'Table'\\n      'Airline'\\n      'Weight'\\n      'Unit'\\n     },\\n     {\\n      'Table'\\n      'Airline'\\n      'Weight'\\n      'Unit'\\n     },\\n    ]\\n   },\\n  'Max_Weights':\\n   {\\n    [\\n     {\\n      'Type'\\n      'Left_Value'\\n      'Left_Unit'\\n      'Right_Value'\\n      'Right_Unit'\\n     },\\n     {\\n      'Type'\\n      'Left_Value'\\n      'Left_Unit'\\n      'Right_Value'\\n      'Right_Unit'\\n     },\\n     {\\n      'Type'\\n      'Left_Value'\\n      'Left_Unit'\\n      'Right_Value'\\n      'Right_Unit'\\n     },\\n    ]\\n   },\\n  'Status':\\n   {\\n   },\\n },\\n\",\n",
       "       \" {\\n  'start_weight'\\n  'start_index'\\n  'crew'\\n  'water(%)'\\n  'Galley_Codes':\\n   {\\n    [\\n     {\\n      'TTL'\\n      'Weight'\\n      'unit'\\n      'Index'\\n     },\\n     {\\n      'TTL'\\n      'Weight'\\n      'unit'\\n      'Index'\\n     },\\n     {\\n      'TTL'\\n      'Weight'\\n      'unit'\\n      'Index'\\n     },\\n    ]\\n   },\\n  'Corrections':\\n   {\\n    []]\\n   },\\n  'Weight_Tables':\\n   {\\n    []]\\n   },\\n  'Max_Weights':\\n   {\\n    []]\\n   },\\n  'Status':\\n   {\\n    'CARGO_TRANSFER'\\n    'CABIN_CONFIG'\\n    'AUTO_MODE_ACTIVE'\\n    'BAG_LOAD_ITEMS_GEN'\\n    'REGISTRATION'\\n    'REGISTRATION_CHANGE'\\n   },\\n },\\n\",\n",
       "       \" {\\n  'start_weight'\\n  'start_index'\\n  'crew'\\n  'water(%)'\\n  'Galley_Codes':\\n   {\\n    [\\n     {\\n      'TTL'\\n      'Weight'\\n      'unit'\\n      'Index'\\n     },\\n     {\\n      'TTL'\\n      'Weight'\\n      'unit'\\n      'Index'\\n     },\\n    ]\\n   },\\n  'Corrections':\\n   {\\n    []]\\n   },\\n  'Weight_Tables':\\n   {\\n    [\\n     {\\n      'Table'\\n      'Airline'\\n      'Weight'\\n      'Unit'\\n     },\\n     {\\n      'Table'\\n      'Airline'\\n      'Weight'\\n      'Unit'\\n     },\\n     {\\n      'Table'\\n      'Airline'\\n      'Weight'\\n      'Unit'\\n     },\\n    ]\\n   },\\n  'Max_Weights':\\n   {\\n    [\\n     {\\n      'Type'\\n      'Left_Value'\\n      'Left_Unit'\\n      'Right_Value'\\n      'Right_Unit'\\n     },\\n     {\\n      'Type'\\n      'Left_Value'\\n      'Left_Unit'\\n      'Right_Value'\\n      'Right_Unit'\\n     },\\n     {\\n      'Type'\\n      'Left_Value'\\n      'Left_Unit'\\n      'Right_Value'\\n      'Right_Unit'\\n     },\\n    ]\\n   },\\n  'Status':\\n   {\\n   },\\n },\\n\",\n",
       "       \" {\\n  'start_weight'\\n  'start_index'\\n  'crew'\\n  'water(%)'\\n  'Galley_Codes':\\n   {\\n    [\\n     {\\n      'TTL'\\n      'Weight'\\n      'unit'\\n      'Index'\\n     },\\n     {\\n      'TTL'\\n      'Weight'\\n      'unit'\\n      'Index'\\n     },\\n     {\\n      'TTL'\\n      'Weight'\\n      'unit'\\n      'Index'\\n     },\\n    ]\\n   },\\n  'Corrections':\\n   {\\n    []]\\n   },\\n  'Weight_Tables':\\n   {\\n    []]\\n   },\\n  'Max_Weights':\\n   {\\n    []]\\n   },\\n  'Status':\\n   {\\n    'AIRCRAFT_CONFIG'\\n    'CARGO_TRANSFER'\\n    'CABIN_CONFIG'\\n    'AUTO_MODE_ACTIVE'\\n    'REGISTRATION'\\n    'REGISTRATION_CHANGE'\\n   },\\n },\\n\",\n",
       "       \" {\\n  'start_weight'\\n  'start_index'\\n  'crew'\\n  'water(%)'\\n  'Galley_Codes':\\n   {\\n    []]\\n   },\\n  'Corrections':\\n   {\\n    [\\n     {\\n      'DOW'\\n      'Unit'\\n      'DOI'\\n      'Pos'\\n      'Remark'\\n     },\\n     {\\n      'DOW'\\n      'Unit'\\n      'DOI'\\n      'Pos'\\n      'Remark'\\n     },\\n    ]\\n   },\\n  'Weight_Tables':\\n   {\\n    [\\n     {\\n      'Table'\\n      'Airline'\\n      'Weight'\\n      'Unit'\\n     },\\n     {\\n      'Table'\\n      'Airline'\\n      'Weight'\\n      'Unit'\\n     },\\n     {\\n      'Table'\\n      'Airline'\\n      'Weight'\\n      'Unit'\\n     },\\n    ]\\n   },\\n  'Max_Weights':\\n   {\\n    [\\n     {\\n      'Type'\\n      'Left_Value'\\n      'Left_Unit'\\n      'Right_Value'\\n      'Right_Unit'\\n     },\\n     {\\n      'Type'\\n      'Left_Value'\\n      'Left_Unit'\\n      'Right_Value'\\n      'Right_Unit'\\n     },\\n     {\\n      'Type'\\n      'Left_Value'\\n      'Left_Unit'\\n      'Right_Value'\\n      'Right_Unit'\\n     },\\n    ]\\n   },\\n  'Status':\\n   {\\n   },\\n },\\n\",\n",
       "       \" {\\n  'start_weight'\\n  'start_index'\\n  'crew'\\n  'water(%)'\\n  'Galley_Codes':\\n   {\\n    [\\n     {\\n      'TTL'\\n      'Weight'\\n      'unit'\\n      'Index'\\n     },\\n     {\\n      'TTL'\\n      'Weight'\\n      'unit'\\n      'Index'\\n     },\\n    ]\\n   },\\n  'Corrections':\\n   {\\n    []]\\n   },\\n  'Weight_Tables':\\n   {\\n    []]\\n   },\\n  'Max_Weights':\\n   {\\n    []]\\n   },\\n  'Status':\\n   {\\n    'CARGO_TRANSFER'\\n    'CABIN_CONFIG'\\n    'AUTO_MODE_ACTIVE'\\n    'BAG_LOAD_ITEMS_GEN'\\n    'REGISTRATION'\\n    'REGISTRATION_CHANGE'\\n   },\\n },\\n\",\n",
       "       \" {\\n  'start_weight'\\n  'start_index'\\n  'crew'\\n  'water(%)'\\n  'Galley_Codes':\\n   {\\n    [\\n     {\\n      'TTL'\\n      'Weight'\\n      'unit'\\n      'Index'\\n     },\\n     {\\n      'TTL'\\n      'Weight'\\n      'unit'\\n      'Index'\\n     },\\n     {\\n      'TTL'\\n      'Weight'\\n      'unit'\\n      'Index'\\n     },\\n    ]\\n   },\\n  'Corrections':\\n   {\\n    []]\\n   },\\n  'Weight_Tables':\\n   {\\n    []]\\n   },\\n  'Max_Weights':\\n   {\\n    []]\\n   },\\n  'Status':\\n   {\\n    'AIRCRAFT_CONFIG'\\n    'CARGO_FINAL'\\n    'CARGO_TRANSFER'\\n    'OFP'\\n    'CABIN_CONFIG'\\n    'AUTO_MODE_ACTIVE'\\n    'AUTOMATION_STARTED'\\n    'BAG_LOAD_ITEMS_GEN'\\n    'EZFW_COUNTER'\\n    'REGISTRATION'\\n    'REGISTRATION_CHANGE'\\n    'FUEL_ORDER'\\n   },\\n },\\n\",\n",
       "       \" {\\n  'start_weight'\\n  'start_index'\\n  'crew'\\n  'water(%)'\\n  'Galley_Codes':\\n   {\\n    [\\n     {\\n      'TTL'\\n      'Weight'\\n      'unit'\\n      'Index'\\n     },\\n     {\\n      'TTL'\\n      'Weight'\\n      'unit'\\n      'Index'\\n     },\\n     {\\n      'TTL'\\n      'Weight'\\n      'unit'\\n      'Index'\\n     },\\n    ]\\n   },\\n  'Corrections':\\n   {\\n    []]\\n   },\\n  'Weight_Tables':\\n   {\\n    []]\\n   },\\n  'Max_Weights':\\n   {\\n    []]\\n   },\\n  'Status':\\n   {\\n    'LOADING_INSTRUCTION'\\n    'AIRCRAFT_CONFIG'\\n    'EZFW'\\n    'CARGO_FINAL'\\n    'CARGO_TRANSFER'\\n    'CABIN_CONFIG'\\n    'BAG_ULD_ORD'\\n    'AUTO_MODE_ACTIVE'\\n    'AUTOMATION_STARTED'\\n    'BAG_LOAD_ITEMS_GEN'\\n    'EZFW_COUNTER'\\n    'REGISTRATION'\\n    'REGISTRATION_CHANGE'\\n   },\\n },\\n\"],\n",
       "      dtype=object)"
      ]
     },
     "execution_count": 53,
     "metadata": {},
     "output_type": "execute_result"
    }
   ],
   "source": [
    "df.data.unique()"
   ]
  },
  {
   "cell_type": "code",
   "execution_count": 66,
   "metadata": {},
   "outputs": [],
   "source": [
    "bar = set()"
   ]
  },
  {
   "cell_type": "code",
   "execution_count": 73,
   "metadata": {},
   "outputs": [],
   "source": [
    "df = zy_action"
   ]
  },
  {
   "cell_type": "code",
   "execution_count": 74,
   "metadata": {},
   "outputs": [],
   "source": [
    "for i in df:\n",
    "    # print(i[\"Status\"])\n",
    "    # foo =\n",
    "    bar.update(re.findall(r\"'(.*?)'\", str(i[\"Status\"])))\n",
    "    # print(foo)"
   ]
  },
  {
   "cell_type": "code",
   "execution_count": 75,
   "metadata": {},
   "outputs": [
    {
     "data": {
      "text/plain": [
       "{'AIRCRAFT_CONFIG',\n",
       " 'ALLOWANCE_CHECK_PERFORMED',\n",
       " 'AUTOMATION_STARTED',\n",
       " 'AUTO_MODE_ACTIVE',\n",
       " 'BAG_LOAD_ITEMS_GEN',\n",
       " 'BAG_ULD_ORD',\n",
       " 'CABIN_CONFIG',\n",
       " 'CALC_HIST_DATA',\n",
       " 'CARGO_FINAL',\n",
       " 'CARGO_TRANSFER',\n",
       " 'CHECK_IN_FINAL',\n",
       " 'CHECK_IN_OPEN',\n",
       " 'DGR_ITEMS',\n",
       " 'EZFW',\n",
       " 'EZFW_COUNTER',\n",
       " 'FINAL_RELEASE',\n",
       " 'FUEL',\n",
       " 'FUEL_ORDER',\n",
       " 'LOADING_INSTRUCTION',\n",
       " 'LOADSHEET',\n",
       " 'OFFBLOCK',\n",
       " 'OFP',\n",
       " 'RAMP_FINAL',\n",
       " 'REGISTRATION',\n",
       " 'REGISTRATION_CHANGE',\n",
       " 'TRANSIT_ACCEPTANCE',\n",
       " 'TRANSIT_PAX'}"
      ]
     },
     "execution_count": 75,
     "metadata": {},
     "output_type": "execute_result"
    }
   ],
   "source": [
    "bar"
   ]
  },
  {
   "cell_type": "code",
   "execution_count": 55,
   "metadata": {},
   "outputs": [
    {
     "ename": "TypeError",
     "evalue": "string indices must be integers, not 'str'",
     "output_type": "error",
     "traceback": [
      "\u001b[1;31m---------------------------------------------------------------------------\u001b[0m",
      "\u001b[1;31mTypeError\u001b[0m                                 Traceback (most recent call last)",
      "Cell \u001b[1;32mIn[55], line 2\u001b[0m\n\u001b[0;32m      1\u001b[0m \u001b[38;5;28;01mfor\u001b[39;00m item \u001b[38;5;129;01min\u001b[39;00m df\u001b[38;5;241m.\u001b[39mdata\u001b[38;5;241m.\u001b[39munique()[\u001b[38;5;241m1\u001b[39m:]:\n\u001b[1;32m----> 2\u001b[0m     item \u001b[38;5;241m=\u001b[39m \u001b[43mitem\u001b[49m\u001b[43m[\u001b[49m\u001b[38;5;124;43m\"\u001b[39;49m\u001b[38;5;124;43mSTATUS\u001b[39;49m\u001b[38;5;124;43m\"\u001b[39;49m\u001b[43m]\u001b[49m\n\u001b[0;32m      3\u001b[0m     s\u001b[38;5;241m.\u001b[39mupdate(re\u001b[38;5;241m.\u001b[39mfindall(\u001b[38;5;124mr\u001b[39m\u001b[38;5;124m\"\u001b[39m\u001b[38;5;124m'\u001b[39m\u001b[38;5;124m(.*?)\u001b[39m\u001b[38;5;124m'\u001b[39m\u001b[38;5;124m\"\u001b[39m, item))\n",
      "\u001b[1;31mTypeError\u001b[0m: string indices must be integers, not 'str'"
     ]
    }
   ],
   "source": [
    "for item in df.data.unique()[1:]:\n",
    "    s.update(re.findall(r\"'(.*?)'\", item))"
   ]
  },
  {
   "cell_type": "code",
   "execution_count": 52,
   "metadata": {},
   "outputs": [
    {
     "name": "stdout",
     "output_type": "stream",
     "text": [
      "['AIRCRAFT_CONFIG', 'ALLOWANCE_CHECK_PERFORMED', 'AUTOMATION_STARTED', 'AUTO_MODE_ACTIVE', 'Airline', 'BAG_LOAD_ITEMS_GEN', 'BAG_ULD_ORD', 'CABIN_CONFIG', 'CALC_HIST_DATA', 'CARGO_FINAL', 'CARGO_TRANSFER', 'CHECK_IN_FINAL', 'CHECK_IN_OPEN', 'Corrections', 'DGR_ITEMS', 'DOI', 'DOW', 'EZFW', 'EZFW_COUNTER', 'FINAL_RELEASE', 'FUEL', 'FUEL_ORDER', 'Galley_Codes', 'Index', 'LOADING_INSTRUCTION', 'LOADSHEET', 'Left_Unit', 'Left_Value', 'Max_Weights', 'OFFBLOCK', 'OFP', 'Pos', 'RAMP_FINAL', 'REGISTRATION', 'REGISTRATION_CHANGE', 'Remark', 'Right_Unit', 'Right_Value', 'Status', 'TRANSIT_ACCEPTANCE', 'TRANSIT_PAX', 'TTL', 'Table', 'Type', 'Unit', 'Weight', 'Weight_Tables', 'crew', 'start_index', 'start_weight', 'unit', 'water(%)']\n"
     ]
    }
   ],
   "source": [
    "print(sorted(list(s)))"
   ]
  },
  {
   "cell_type": "code",
   "execution_count": 35,
   "metadata": {},
   "outputs": [
    {
     "name": "stdout",
     "output_type": "stream",
     "text": [
      "['AIRCRAFT_CONFIG', 'ALLOWANCE_CHECK_PERFORMED', 'AUTOMATION_STARTED', 'AUTO_MODE_ACTIVE', 'Airline', 'BAG_LOAD_ITEMS_GEN', 'BAG_LOZY_ITEMS_GEN', 'CABIN_CONFIG', 'CALC_HIST_DATA', 'CARGO_FINAL', 'CARGO_TRANSFER', 'CHECK_IN_OPEN', 'Corrections', 'DGR_ITEMS', 'EZFW', 'EZFW_COUNTER', 'FINAL_RELEASE', 'FUEL', 'Galley_Codes', 'Index', 'LOADING_INSTRUCTION', 'LOADSHEET', 'LOZYING_INSTRUCTION', 'LOZYSHEET', 'Left_Unit', 'Left_Value', 'Max_Weights', 'OFFBLOCK', 'RAMP_FINAL', 'REGISTRATION', 'REGISTRATION_CHANGE', 'Right_Unit', 'Right_Value', 'Status', 'TRANSIT_ACCEPTANCE', 'TRANSIT_PAX', 'TTL', 'Table', 'Type', 'Unit', 'Weight', 'Weight_Tables', 'crew', 'start_index', 'start_weight', 'unit', 'water(%)']\n"
     ]
    }
   ],
   "source": [
    "print(sorted(list(s)))"
   ]
  },
  {
   "cell_type": "code",
   "execution_count": null,
   "metadata": {},
   "outputs": [],
   "source": [
    "['AIRCRAFT_CONFIG', 'AUTOMATION_STARTED', 'AUTO_MODE_ACTIVE', 'Airline', 'BAG_LOAD_ITEMS_GEN', 'CABIN_CONFIG', 'CALC_HIST_DATA', 'CARGO_FINAL', 'CARGO_TRANSFER', 'CHECK_IN_OPEN', 'Corrections', 'EZFW', 'EZFW_COUNTER', 'FINAL_RELEASE', 'FUEL', 'Galley_Codes', 'Index', 'LOADING_INSTRUCTION', 'LOADSHEET', 'Left_Unit', 'Left_Value', 'Max_Weights', 'OFFBLOCK', 'RAMP_FINAL', 'REGISTRATION', 'REGISTRATION_CHANGE', 'Right_Unit', 'Right_Value', 'Status', 'TRANSIT_ACCEPTANCE', 'TRANSIT_PAX', 'TTL', 'Table', 'Type', 'Unit', 'Weight', 'Weight_Tables', 'crew', 'start_index', 'start_weight', 'unit', 'water(%)']\n",
    "['AIRCRAFT_CONFIG', 'ALLOWANCE_CHECK_PERFORMED', 'AUTOMATION_STARTED', 'AUTO_MODE_ACTIVE', 'Airline', 'BAG_LOAD_ITEMS_GEN', 'BAG_ULD_ORD', 'CABIN_CONFIG', 'CALC_HIST_DATA', 'CARGO_FINAL', 'CARGO_TRANSFER', 'CHECK_IN_FINAL', 'CHECK_IN_OPEN', 'Corrections', 'DGR_ITEMS', 'DOI', 'DOW', 'EZFW', 'EZFW_COUNTER', 'FINAL_RELEASE', 'FUEL', 'FUEL_ORDER', 'Galley_Codes', 'Index', 'LOADING_INSTRUCTION', 'LOADSHEET', 'Left_Unit', 'Left_Value', 'Max_Weights', 'OFFBLOCK', 'OFP', 'Pos', 'RAMP_FINAL', 'REGISTRATION', 'REGISTRATION_CHANGE', 'Remark', 'Right_Unit', 'Right_Value', 'Status', 'TRANSIT_ACCEPTANCE', 'TRANSIT_PAX', 'TTL', 'Table', 'Type', 'Unit', 'Weight', 'Weight_Tables', 'crew', 'start_index', 'start_weight', 'unit', 'water(%)']\n"
   ]
  }
 ],
 "metadata": {
  "kernelspec": {
   "display_name": "AERO",
   "language": "python",
   "name": "python3"
  },
  "language_info": {
   "codemirror_mode": {
    "name": "ipython",
    "version": 3
   },
   "file_extension": ".py",
   "mimetype": "text/x-python",
   "name": "python",
   "nbconvert_exporter": "python",
   "pygments_lexer": "ipython3",
   "version": "3.11.9"
  }
 },
 "nbformat": 4,
 "nbformat_minor": 2
}
