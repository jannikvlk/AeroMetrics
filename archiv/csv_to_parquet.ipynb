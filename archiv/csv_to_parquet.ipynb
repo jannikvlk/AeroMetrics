{
 "cells": [
  {
   "cell_type": "code",
   "execution_count": 3,
   "metadata": {},
   "outputs": [],
   "source": [
    "import pandas\n",
    "from files import *"
   ]
  },
  {
   "cell_type": "code",
   "execution_count": 4,
   "metadata": {},
   "outputs": [],
   "source": [
    "conversion = {\n",
    "    PARQUET_AB_WEIGHTS: CSV_AB_WEIGHTS,\n",
    "    PARQUET_MN_WEIGHTS: CSV_MN_WEIGHTS,\n",
    "    PARQUET_ZY_WEIGHTS: CSV_ZY_WEIGHTS,\n",
    "    PARQUET_AB_FLIGHTTABLE: CSV_AB_FLIGHTTABLE,\n",
    "    PARQUET_MN_FLIGHTTABLE: CSV_MN_FLIGHTTABLE,\n",
    "    PARQUET_ZY_FLIGHTTABLE: CSV_ZY_FLIGHTTABLE,\n",
    "}"
   ]
  },
  {
   "cell_type": "code",
   "execution_count": 5,
   "metadata": {},
   "outputs": [],
   "source": [
    "for key, value in conversion.items():\n",
    "    pandas.read_parquet(path=key).to_csv(value)"
   ]
  },
  {
   "cell_type": "code",
   "execution_count": 6,
   "metadata": {},
   "outputs": [],
   "source": [
    "x = pandas.read_parquet(PARQUET_AB_WEIGHTS)\n"
   ]
  },
  {
   "cell_type": "code",
   "execution_count": 7,
   "metadata": {},
   "outputs": [
    {
     "data": {
      "text/plain": [
       "id                                                   int64\n",
       "creation_time                               datetime64[ns]\n",
       "airline_code                                        object\n",
       "flight_number                                        int64\n",
       "flight_date                                          int64\n",
       "departure_airport                                   object\n",
       "user_name                                           object\n",
       "action_name                                         object\n",
       "header_line                                         object\n",
       "entry_details                                       object\n",
       "flightid                                            object\n",
       "data_CalculateWeightAndTrimAction                   object\n",
       "data_CheckinMsgProcessor                            object\n",
       "data_CreateLoadingInstructionAction                 object\n",
       "data_CreateLoadsheetAction                          object\n",
       "data_CreateZFWMessageAction                         object\n",
       "data_EstimateStorePaxDataAction                     object\n",
       "data_RampFinalAction                                object\n",
       "data_SendLoadingInstructionAction                   object\n",
       "data_SendLoadsheetAction                            object\n",
       "data_SetActualBagWeightIndicatorAction              object\n",
       "data_StoreAircraftDataAction                        object\n",
       "data_StorePaxDataAction                             object\n",
       "data_StorePaxDataGuiAction                          object\n",
       "data_StoreRegistrationAndConfigurationAc            object\n",
       "data_TransferCargoAction                            object\n",
       "data_TransferCheckinDataAction                      object\n",
       "data_UpdateEstimatesAction                          object\n",
       "data_UpdateFuelDataAction                           object\n",
       "data_UpdateLoadTableAction                          object\n",
       "data_UpdateTransitLoadTableAction                   object\n",
       "MEW                                                float64\n",
       "DOW                                                float64\n",
       "PAXW                                               float64\n",
       "AZFW                                               float64\n",
       "EZFW                                               float64\n",
       "ATOW                                               float64\n",
       "ALAW                                               float64\n",
       "ETTL                                               float64\n",
       "ATTL                                               float64\n",
       "CARW                                               float64\n",
       "BAGW                                               float64\n",
       "TAOF                                               float64\n",
       "TRIF                                               float64\n",
       "MAIW                                               float64\n",
       "EICW                                               float64\n",
       "TAXF                                               float64\n",
       "dtype: object"
      ]
     },
     "execution_count": 7,
     "metadata": {},
     "output_type": "execute_result"
    }
   ],
   "source": [
    "x.dtypes"
   ]
  }
 ],
 "metadata": {
  "kernelspec": {
   "display_name": "aero2",
   "language": "python",
   "name": "python3"
  },
  "language_info": {
   "codemirror_mode": {
    "name": "ipython",
    "version": 3
   },
   "file_extension": ".py",
   "mimetype": "text/x-python",
   "name": "python",
   "nbconvert_exporter": "python",
   "pygments_lexer": "ipython3",
   "version": "3.11.9"
  }
 },
 "nbformat": 4,
 "nbformat_minor": 2
}
