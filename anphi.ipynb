{
 "cells": [
  {
   "cell_type": "code",
   "execution_count": null,
   "metadata": {},
   "outputs": [],
   "source": [
    "# wir wollen zusammenhang zwischen atow (actual takeoff weight), und estimated takeoff-weight mit den actions herausfinden, \n",
    "# dann interessanten Sachen bei Excel reinschreiben\n",
    "\n",
    "df_abcd_conv = pd.read_parquet(parquet_file_abcd_conv)\n",
    "json.loads(\n",
    "    df_abcd_conv[df_abcd_conv.action_name == \"UpdateLoadTableAction\"][\n",
    "        \"data_UpdateLoadTableAction\"\n",
    "    ].iloc[0]\n",
    ")"
   ]
  }
 ],
 "metadata": {
  "kernelspec": {
   "display_name": "myenv",
   "language": "python",
   "name": "python3"
  },
  "language_info": {
   "name": "python",
   "version": "3.8.8"
  }
 },
 "nbformat": 4,
 "nbformat_minor": 2
}
