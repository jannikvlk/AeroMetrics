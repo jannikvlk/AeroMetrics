{
 "cells": [
  {
   "cell_type": "code",
<<<<<<< HEAD
   "execution_count": 2,
   "metadata": {},
   "outputs": [],
   "source": [
    "#Imnports \n",
    "import pandas as pd"
   ]
  },
  {
   "cell_type": "code",
   "execution_count": 4,
   "metadata": {},
   "outputs": [
    {
     "ename": "NameError",
     "evalue": "name 'parquet_file_abcd_conv' is not defined",
     "output_type": "error",
     "traceback": [
      "\u001b[0;31m---------------------------------------------------------------------------\u001b[0m",
      "\u001b[0;31mNameError\u001b[0m                                 Traceback (most recent call last)",
      "Cell \u001b[0;32mIn[4], line 4\u001b[0m\n\u001b[1;32m      1\u001b[0m \u001b[38;5;66;03m# wir wollen zusammenhang zwischen atow (actual takeoff weight), und estimated takeoff-weight mit den actions herausfinden, \u001b[39;00m\n\u001b[1;32m      2\u001b[0m \u001b[38;5;66;03m# dann interessanten Sachen bei Excel reinschreiben\u001b[39;00m\n\u001b[0;32m----> 4\u001b[0m df_abcd_conv \u001b[38;5;241m=\u001b[39m pd\u001b[38;5;241m.\u001b[39mread_parquet(\u001b[43mparquet_file_abcd_conv\u001b[49m)\n\u001b[1;32m      5\u001b[0m json\u001b[38;5;241m.\u001b[39mloads(\n\u001b[1;32m      6\u001b[0m     df_abcd_conv[df_abcd_conv\u001b[38;5;241m.\u001b[39maction_name \u001b[38;5;241m==\u001b[39m \u001b[38;5;124m\"\u001b[39m\u001b[38;5;124mUpdateFuelDataAction\u001b[39m\u001b[38;5;124m\"\u001b[39m][\n\u001b[1;32m      7\u001b[0m         \u001b[38;5;124m\"\u001b[39m\u001b[38;5;124mdata_UpdateFuelDataAction\u001b[39m\u001b[38;5;124m\"\u001b[39m\n\u001b[1;32m      8\u001b[0m     ]\u001b[38;5;241m.\u001b[39miloc[\u001b[38;5;241m0\u001b[39m]\n\u001b[1;32m      9\u001b[0m )\n",
      "\u001b[0;31mNameError\u001b[0m: name 'parquet_file_abcd_conv' is not defined"
     ]
    }
   ],
   "source": [
=======
   "execution_count": null,
   "metadata": {},
   "outputs": [],
   "source": [
>>>>>>> APBranch
    "# wir wollen zusammenhang zwischen atow (actual takeoff weight), und estimated takeoff-weight mit den actions herausfinden, \n",
    "# dann interessanten Sachen bei Excel reinschreiben\n",
    "\n",
    "df_abcd_conv = pd.read_parquet(parquet_file_abcd_conv)\n",
    "json.loads(\n",
<<<<<<< HEAD
    "    df_abcd_conv[df_abcd_conv.action_name == \"UpdateFuelDataAction\"][\n",
    "        \"data_UpdateFuelDataAction\"\n",
    "    ].iloc[0]\n",
    ")"
   ]
  },
  {
   "cell_type": "code",
   "execution_count": null,
   "metadata": {},
   "outputs": [],
   "source": []
=======
    "    df_abcd_conv[df_abcd_conv.action_name == \"UpdateLoadTableAction\"][\n",
    "        \"data_UpdateLoadTableAction\"\n",
    "    ].iloc[0]\n",
    ")"
   ]
>>>>>>> APBranch
  }
 ],
 "metadata": {
  "kernelspec": {
   "display_name": "myenv",
   "language": "python",
   "name": "python3"
  },
  "language_info": {
<<<<<<< HEAD
   "codemirror_mode": {
    "name": "ipython",
    "version": 3
   },
   "file_extension": ".py",
   "mimetype": "text/x-python",
   "name": "python",
   "nbconvert_exporter": "python",
   "pygments_lexer": "ipython3",
=======
   "name": "python",
>>>>>>> APBranch
   "version": "3.8.8"
  }
 },
 "nbformat": 4,
 "nbformat_minor": 2
}
