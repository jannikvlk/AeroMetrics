{
 "cells": [
  {
   "cell_type": "code",
   "execution_count": 2,
   "metadata": {},
   "outputs": [],
   "source": [
    "import pandas as pd\n",
    "import os\n",
    "from utils import random_sample"
   ]
  },
  {
   "cell_type": "code",
   "execution_count": 19,
   "metadata": {},
   "outputs": [],
   "source": [
    "df_abcd = pd.read_parquet(\"../data/ABCD_tripfiles.parquet\", engine=\"pyarrow\")\n",
    "df_mnop = pd.read_parquet(\"../data/MNOP_tripfiles.parquet\", engine=\"pyarrow\")\n",
    "df_zyxw = pd.read_parquet(\"../data/ZYXW_tripfiles.parquet\", engine=\"pyarrow\")"
   ]
  },
  {
   "cell_type": "code",
   "execution_count": 81,
   "metadata": {},
   "outputs": [
    {
     "name": "stdout",
     "output_type": "stream",
     "text": [
      "TOTAL Pax: 174    Y: 174  Jump: 0    StandBy: NULL  Male: 125  Female: 49  Child: 0  Infant: 1  Total bag: 108  Total bag weight: 1068.0 KG  Baggage weight type: ACTUAL\n",
      " Distribution        : STANDARD_DISTRIBUTION    \n",
      " Section             : 0A                       0B                       0C                       0D                       0E                       0F                       \n",
      " Capacity            : Y12                      Y36                      Y30                      Y30                      Y30                      Y36                      \n",
      " Distribution        : Y12                      Y36                      Y30                      Y30                      Y30                      Y36\n"
     ]
    }
   ],
   "source": [
    "random_sample(df_abcd[df_abcd.action_name == \"SetActualBagWeightIndicatorAction\"])"
   ]
  },
  {
   "cell_type": "code",
   "execution_count": null,
   "metadata": {},
   "outputs": [],
   "source": []
  }
 ],
 "metadata": {
  "kernelspec": {
   "display_name": "Python 3",
   "language": "python",
   "name": "python3"
  },
  "language_info": {
   "codemirror_mode": {
    "name": "ipython",
    "version": 3
   },
   "file_extension": ".py",
   "mimetype": "text/x-python",
   "name": "python",
   "nbconvert_exporter": "python",
   "pygments_lexer": "ipython3",
   "version": "3.11.4"
  }
 },
 "nbformat": 4,
 "nbformat_minor": 2
}
