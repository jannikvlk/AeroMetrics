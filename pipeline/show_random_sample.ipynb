{
 "cells": [
  {
   "cell_type": "code",
   "execution_count": 70,
   "metadata": {},
   "outputs": [],
   "source": [
    "import pandas as pd\n",
    "import os\n",
    "from utils import random_sample"
   ]
  },
  {
   "cell_type": "code",
   "execution_count": 993,
   "metadata": {},
   "outputs": [],
   "source": [
    "df_abcd = pd.read_parquet(\"../data/ABCD_tripfiles.parquet\", engine=\"pyarrow\")\n",
    "df_mnop = pd.read_parquet(\"../data/MNOP_tripfiles.parquet\", engine=\"pyarrow\")\n",
    "df_zyxw = pd.read_parquet(\"../data/ZYXW_tripfiles.parquet\", engine=\"pyarrow\")"
   ]
  },
  {
   "cell_type": "code",
   "execution_count": 1025,
   "metadata": {},
   "outputs": [
    {
     "data": {
      "text/plain": [
       "4"
      ]
     },
     "execution_count": 1025,
     "metadata": {},
     "output_type": "execute_result"
    }
   ],
   "source": [
    "len(df_zyxw[df_zyxw.action_name == \"UpdateTransitLoadTableAction\"])"
   ]
  },
  {
   "cell_type": "code",
   "execution_count": 1041,
   "metadata": {},
   "outputs": [
    {
     "name": "stdout",
     "output_type": "stream",
     "text": [
      "com.systemone.lc2.manualloadplanning.dto.LoadDTO [ id = 9398702  flightId = 2293511 legId = 2404210  deleted = false  fragmentId = LoadFragment ]\n",
      "BULK\n",
      " Item Id   Number       Status    Weight         Pieces    Volume    Origin    Onl.Sta.  Dest.     Category  Position  Confirmed  Remarks  \n",
      " 42449172  NULL         ESTIMATE  60.00     KG   3         0.00      ORY       ORY       VCP       BJ        52        true      NULL \n",
      "ULD\n",
      " Item Id   ULD       Number    Airline   Special   Status    Weight         Pieces    Volume    Origin    Onl.Sta.  Dest.     Category  Position  Confirmed  Remarks  \n",
      " 42449180  PAG       3         ZY        NULL      ESTIMATE  4000.00   KG   0         0.00      ORY       ORY       VCP       C         41P       true      PER \n",
      " 42449171  PMC       6         ZY        NULL      ESTIMATE  4000.00   KG   0         0.00      ORY       ORY       VCP       C         33P       true      PER \n",
      " 42449184  AKE       9         ZY        NULL      ESTIMATE  600.00    KG   30        0.00      ORY       ORY       VCP       B         25L       true      NULL \n",
      " 42449175  AKE       16        ZY        NULL      ESTIMATE  600.00    KG   30        0.00      ORY       ORY       VCP       BJ        22L       true      NULL \n",
      " 42449177  AKE       13        ZY        NULL      ESTIMATE  600.00    KG   30        0.00      ORY       ORY       VCP       B         23L       true      NULL \n",
      " 42449181  AKE       10        ZY        NULL      ESTIMATE  600.00    KG   30        0.00      ORY       ORY       VCP       B         25R       true      NULL \n",
      " 42449176  LCR       1         ZY        NULL      ESTIMATE  0.00      KG   0         0.00      ORY       ORY       VCP       X         31P       true      NULL \n",
      " 42449178  PAG       4         ZY        NULL      ESTIMATE  1482.00   KG   0         0.00      ORY       ORY       VCP       C         32P       true      PER \n",
      " 42449169  AKE       11        ZY        NULL      ESTIMATE  600.00    KG   30        0.00      ORY       ORY       VCP       B         26R       true      NULL \n",
      " 42449182  PMC       2         ZY        NULL      ESTIMATE  4000.00   KG   0         0.00      ORY       ORY       VCP       C         42P       true      PER \n",
      " 42449173  AKE       12        ZY        NULL      ESTIMATE  600.00    KG   30        0.00      ORY       ORY       VCP       B         26L       true      NULL \n",
      " 42449170  AKE       15        ZY        NULL      ESTIMATE  500.00    KG   25        0.00      ORY       ORY       VCP       BJ        22R       true      NULL \n",
      " 42449179  AKE       8         ZY        NULL      ESTIMATE  600.00    KG   30        0.00      ORY       ORY       VCP       B         24R       true      NULL \n",
      " 42449174  AKE       7         ZY        NULL      ESTIMATE  600.00    KG   30        0.00      ORY       ORY       VCP       B         24L       true      NULL \n",
      " 42449183  AKE       14        ZY        NULL      ESTIMATE  600.00    KG   30        0.00      ORY       ORY       VCP       B         23R       true      NULL \n",
      "\n",
      "Total baggage      : 5960.00  KG               \n",
      "Total cargo        : 13482.00 KG               \n",
      "Total EIC          : 0.00     KG               \n",
      "Total mail         : 0.00     KG               \n",
      "STATUS AIRCRAFT_CONFIG 1 CARGO_TRANSFER 1 CABIN_CONFIG 1 TRANSIT_ACCEPTANCE 1 TRANSIT_PAX 1 AUTO_MODE_ACTIVE 1 REGISTRATION 1 REGISTRATION_CHANGE 1\n"
     ]
    }
   ],
   "source": [
    "random_sample(df_zyxw[df_zyxw.action_name == \"UpdateTransitLoadTableAction\"])"
   ]
  }
 ],
 "metadata": {
  "kernelspec": {
   "display_name": "Python 3",
   "language": "python",
   "name": "python3"
  },
  "language_info": {
   "codemirror_mode": {
    "name": "ipython",
    "version": 3
   },
   "file_extension": ".py",
   "mimetype": "text/x-python",
   "name": "python",
   "nbconvert_exporter": "python",
   "pygments_lexer": "ipython3",
   "version": "3.11.4"
  }
 },
 "nbformat": 4,
 "nbformat_minor": 2
}
