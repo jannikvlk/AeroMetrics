{
 "cells": [
  {
   "cell_type": "code",
   "execution_count": 2,
   "metadata": {},
   "outputs": [],
   "source": [
    "import pandas as pd\n",
    "import os\n",
    "from utils import random_sample"
   ]
  },
  {
   "cell_type": "code",
   "execution_count": 3,
   "metadata": {},
   "outputs": [],
   "source": [
    "df_abcd = pd.read_parquet(\"../data/ABCD_tripfiles.parquet\", engine=\"pyarrow\")\n",
    "df_mnop = pd.read_parquet(\"../data/MNOP_tripfiles.parquet\", engine=\"pyarrow\")\n",
    "df_zyxw = pd.read_parquet(\"../data/ZYXW_tripfiles.parquet\", engine=\"pyarrow\")"
   ]
  },
  {
   "cell_type": "code",
   "execution_count": 69,
   "metadata": {},
   "outputs": [
    {
     "name": "stdout",
     "output_type": "stream",
     "text": [
      "com.onesystem.lc2.paxactuals.dto.PaxDataDTO [ id = 2302962 ]\n",
      " Baggage weight type: HISTORIC       \n",
      "BLR            \n",
      "                Y              Jump           Standby        Male           Female         Child          Infant         Bags           BWgt           Average        \n",
      "Booked          177            NULL           0              121            52             4              2              134            2010.00 KG     15.00 KG       \n",
      "\n",
      " Distribution   : STANDARD_DISTRIBUTION \n",
      " Section        : 0A             0B             0C             0D             0E             0F             \n",
      " Capacity       : Y33            Y30            Y30            Y30            Y30            Y36            \n",
      " Distribution   : Y31            Y28            Y28            Y28            Y28            Y34\n"
     ]
    }
   ],
   "source": [
    "random_sample(df_abcd[df_abcd.action_name == \"EstimateStorePaxDataAction\"])"
   ]
  }
 ],
 "metadata": {
  "kernelspec": {
   "display_name": "Python 3",
   "language": "python",
   "name": "python3"
  },
  "language_info": {
   "codemirror_mode": {
    "name": "ipython",
    "version": 3
   },
   "file_extension": ".py",
   "mimetype": "text/x-python",
   "name": "python",
   "nbconvert_exporter": "python",
   "pygments_lexer": "ipython3",
   "version": "3.11.4"
  }
 },
 "nbformat": 4,
 "nbformat_minor": 2
}
