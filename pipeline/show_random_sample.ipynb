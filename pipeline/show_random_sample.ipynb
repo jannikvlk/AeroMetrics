{
 "cells": [
  {
   "cell_type": "code",
   "execution_count": 2,
   "metadata": {},
   "outputs": [],
   "source": [
    "import pandas as pd\n",
    "import os\n",
    "from utils import random_sample"
   ]
  },
  {
   "cell_type": "code",
   "execution_count": 3,
   "metadata": {},
   "outputs": [],
   "source": [
    "df_abcd = pd.read_parquet(\"../data/ABCD_tripfiles.parquet\", engine=\"pyarrow\")\n",
    "df_mnop = pd.read_parquet(\"../data/MNOP_tripfiles.parquet\", engine=\"pyarrow\")\n",
    "df_zyxw = pd.read_parquet(\"../data/ZYXW_tripfiles.parquet\", engine=\"pyarrow\")"
   ]
  },
  {
   "cell_type": "code",
   "execution_count": 7,
   "metadata": {},
   "outputs": [],
   "source": [
    "ACTION = \"UpdateFuelDataAction\""
   ]
  },
  {
   "cell_type": "code",
   "execution_count": 9,
   "metadata": {},
   "outputs": [
    {
     "name": "stdout",
     "output_type": "stream",
     "text": [
      "abcd: 3583\n",
      "mnop: 4845\n",
      "zyxw: 125\n"
     ]
    }
   ],
   "source": [
    "print(\"abcd: \" + str(len(df_abcd[df_abcd.action_name == ACTION])))\n",
    "print(\"mnop: \" + str(len(df_mnop[df_mnop.action_name == ACTION])))\n",
    "print(\"zyxw: \" + str(len(df_zyxw[df_zyxw.action_name == ACTION])))"
   ]
  },
  {
   "cell_type": "code",
   "execution_count": 11,
   "metadata": {},
   "outputs": [],
   "source": [
    "def show_rs(airline=\"abcd\", action=ACTION):\n",
    "    if airline == \"abcd\":\n",
    "        random_sample(df_abcd[df_abcd.action_name == \"UpdateFuelDataAction\"])\n",
    "    elif airline == \"mnop\":\n",
    "        random_sample(df_mnop[df_mnop.action_name == \"UpdateFuelDataAction\"])\n",
    "    else:\n",
    "        random_sample(df_zyxw[df_zyxw.action_name == \"UpdateFuelDataAction\"])\n"
   ]
  },
  {
   "cell_type": "code",
   "execution_count": 49,
   "metadata": {},
   "outputs": [
    {
     "name": "stdout",
     "output_type": "stream",
     "text": [
      "FUEL  trip=1200.0 KG taxi=70.0 KG takeoff=3800.0 KG ballast=null edno=12\n",
      "STATUS FUEL 9 AIRCRAFT_CONFIG 1 CARGO_TRANSFER 1 CABIN_CONFIG 1 CALC_HIST_DATA 1 AUTO_MODE_ACTIVE 1 AUTOMATION_STARTED 0 REGISTRATION 1 REGISTRATION_CHANGE 1\n"
     ]
    }
   ],
   "source": [
    "show_rs(\"zyxw\", ACTION)"
   ]
  }
 ],
 "metadata": {
  "kernelspec": {
   "display_name": "Python 3",
   "language": "python",
   "name": "python3"
  },
  "language_info": {
   "codemirror_mode": {
    "name": "ipython",
    "version": 3
   },
   "file_extension": ".py",
   "mimetype": "text/x-python",
   "name": "python",
   "nbconvert_exporter": "python",
   "pygments_lexer": "ipython3",
   "version": "3.11.4"
  }
 },
 "nbformat": 4,
 "nbformat_minor": 2
}
