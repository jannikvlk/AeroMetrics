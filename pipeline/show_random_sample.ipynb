{
 "cells": [
  {
   "cell_type": "code",
   "execution_count": 1,
   "metadata": {},
   "outputs": [],
   "source": [
    "import pandas as pd\n",
    "import os\n",
    "from utils import random_sample"
   ]
  },
  {
   "cell_type": "code",
   "execution_count": 15,
   "metadata": {},
   "outputs": [],
   "source": [
    "df_abcd = pd.read_parquet(\"../data/abcd_tripfiles.parquet\", engine=\"pyarrow\")"
   ]
  },
  {
   "cell_type": "code",
   "execution_count": 16,
   "metadata": {},
   "outputs": [
    {
     "name": "stdout",
     "output_type": "stream",
     "text": [
      "<?xml version=\"1.0\" encoding=\"UTF-8\"?>\n",
      "<n:PassengerCheckInFigures xmlns:n=\"http://www.lsb.de/iocc/PassengerCheckIn\"\n",
      "                           xmlns:xsi=\"http://www.w3.org/2001/XMLSchema-instance\">\n",
      "   <loadsystemHeader>\n",
      "      <airline>AB</airline>\n",
      "      <flightNumber>2318</flightNumber>\n",
      "      <departureStation>PNQ</departureStation>\n",
      "      <flightDateLocal>2024-05-02</flightDateLocal>\n",
      "   </loadsystemHeader>\n",
      "   <Action>\n",
      "      <originator>C</originator>\n",
      "      <type>O</type>\n",
      "   </Action>\n",
      "   <Equipment>\n",
      "      <configuration>Y189</configuration>\n",
      "   </Equipment>\n",
      "   <PaxTotals>\n",
      "      <destination>BLR</destination>\n",
      "      <paxNumber>136</paxNumber>\n",
      "      <PaxByClass>\n",
      "         <ClassBreakdown>\n",
      "            <code>Y</code>\n",
      "            <numberOfPax>136</numberOfPax>\n",
      "         </ClassBreakdown>\n",
      "      </PaxByClass>\n",
      "      <PaxByGender>\n",
      "         <GenderBreakdown>\n",
      "            <gender>M</gender>\n",
      "            <numberOfPax>87</numberOfPax>\n",
      "         </GenderBreakdown>\n",
      "         <GenderBreakdown>\n",
      "            <gender>F</gender>\n",
      "            <numberOfPax>43</numberOfPax>\n",
      "         </GenderBreakdown>\n",
      "         <GenderBreakdown>\n",
      "            <gender>C</gender>\n",
      "            <numberOfPax>6</numberOfPax>\n",
      "         </GenderBreakdown>\n",
      "         <GenderBreakdown>\n",
      "            <gender>I</gender>\n",
      "            <numberOfPax>1</numberOfPax>\n",
      "         </GenderBreakdown>\n",
      "      </PaxByGender>\n",
      "   </PaxTotals>\n",
      "   <BagTotals>\n",
      "      <destination>BLR</destination>\n",
      "      <totalPieces>72</totalPieces>\n",
      "      <TotalWeight>\n",
      "         <weight>651</weight>\n",
      "         <weightUnit>KG</weightUnit>\n",
      "      </TotalWeight>\n",
      "   </BagTotals>\n",
      "   <PaxDistribution>\n",
      "      <PaxPerZone>\n",
      "         <name>0A</name>\n",
      "         <male>12</male>\n",
      "         <female>7</female>\n",
      "         <child>1</child>\n",
      "         <infant>0</infant>\n",
      "      </PaxPerZone>\n",
      "      <PaxPerZone>\n",
      "         <name>0B</name>\n",
      "         <male>9</male>\n",
      "         <female>8</female>\n",
      "         <child>1</child>\n",
      "         <infant>0</infant>\n",
      "      </PaxPerZone>\n",
      "      <PaxPerZone>\n",
      "         <name>0C</name>\n",
      "         <male>14</male>\n",
      "         <female>6</female>\n",
      "         <child>0</child>\n",
      "         <infant>0</infant>\n",
      "      </PaxPerZone>\n",
      "      <PaxPerZone>\n",
      "         <name>0D</name>\n",
      "         <male>12</male>\n",
      "         <female>7</female>\n",
      "         <child>3</child>\n",
      "         <infant>0</infant>\n",
      "      </PaxPerZone>\n",
      "      <PaxPerZone>\n",
      "         <name>0E</name>\n",
      "         <male>13</male>\n",
      "         <female>8</female>\n",
      "         <child>0</child>\n",
      "         <infant>0</infant>\n",
      "      </PaxPerZone>\n",
      "      <PaxPerZone>\n",
      "         <name>0F</name>\n",
      "         <male>27</male>\n",
      "         <female>7</female>\n",
      "         <child>1</child>\n",
      "         <infant>1</infant>\n",
      "      </PaxPerZone>\n",
      "   </PaxDistribution>\n",
      "</n:PassengerCheckInFigures>\n"
     ]
    }
   ],
   "source": [
    "random_sample(df_abcd[df_abcd.action_name == \"CheckinMsgProcessor\"])"
   ]
  }
 ],
 "metadata": {
  "kernelspec": {
   "display_name": "Python 3",
   "language": "python",
   "name": "python3"
  },
  "language_info": {
   "codemirror_mode": {
    "name": "ipython",
    "version": 3
   },
   "file_extension": ".py",
   "mimetype": "text/x-python",
   "name": "python",
   "nbconvert_exporter": "python",
   "pygments_lexer": "ipython3",
   "version": "3.11.4"
  }
 },
 "nbformat": 4,
 "nbformat_minor": 2
}
