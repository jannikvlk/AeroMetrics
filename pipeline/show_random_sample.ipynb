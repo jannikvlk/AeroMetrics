{
 "cells": [
  {
   "cell_type": "code",
   "execution_count": 2,
   "metadata": {},
   "outputs": [],
   "source": [
    "import pandas as pd\n",
    "import os\n",
    "from utils import random_sample"
   ]
  },
  {
   "cell_type": "code",
   "execution_count": 3,
   "metadata": {},
   "outputs": [],
   "source": [
    "df_abcd = pd.read_parquet(\"../data/ABCD_tripfiles.parquet\", engine=\"pyarrow\")\n",
    "df_mnop = pd.read_parquet(\"../data/MNOP_tripfiles.parquet\", engine=\"pyarrow\")\n",
    "df_zyxw = pd.read_parquet(\"../data/ZYXW_tripfiles.parquet\", engine=\"pyarrow\")"
   ]
  },
  {
   "cell_type": "code",
   "execution_count": 13,
   "metadata": {},
   "outputs": [
    {
     "name": "stdout",
     "output_type": "stream",
     "text": [
      "******************** PRELIMINARY FUEL ORDER ********************\n",
      "FLT: MN01202    DATE: 06MAY24   ETD: 0530Z    DUB - MAN      OFP:4 \n",
      "320            FIN:            REG: MNDMN            FUEL SHEET:2 \n",
      "------------------------------------------------------------------\n",
      "BLOCK FUEL:   7400 KGS\n",
      "      |      |      |      |      |      |      |      |      |\n",
      "      |      |      |      |      |      |      |      |      |KGS\n",
      "------+------+------+------+------+------+------+------+------+\n",
      " AFTER FUELLING ENTER TANK FIGURES IF DIFFERENT THAN ABOVE\n",
      "      |      |      |      |      |      |      |      |      |\n",
      "------+------+------+------+------+------+------+------+------+\n",
      " BEFORE FUELLING FIGURES - (FUELLER TO ENTER)\n",
      "      |      |      |      |      |      |      |      |      |\n",
      "------+------+------+------+------+------+------+------+------+\n",
      "TOTAL FUEL ADDED:            (LITRES) (U.S.GAL) TYPE (A) (A1) (B)\n",
      "------------------------------------------------------------------\n",
      "SPECIFIC DENSITY\n",
      "------------------------------------------------------------------\n",
      "REMARKS:\n",
      "\n",
      "------------------------------------------------------------------\n",
      "NAME: preplanning duty\n",
      "              PLEASE REFUEL AIRCRAFT ACCURATELY\n",
      "SERVICED BY:(NAME/TRUCK)\n"
     ]
    }
   ],
   "source": [
    "random_sample(df_mnop[df_mnop.action_name == \"SendFuelOrderAction\"])"
   ]
  },
  {
   "cell_type": "code",
   "execution_count": null,
   "metadata": {},
   "outputs": [],
   "source": []
  }
 ],
 "metadata": {
  "kernelspec": {
   "display_name": "Python 3",
   "language": "python",
   "name": "python3"
  },
  "language_info": {
   "codemirror_mode": {
    "name": "ipython",
    "version": 3
   },
   "file_extension": ".py",
   "mimetype": "text/x-python",
   "name": "python",
   "nbconvert_exporter": "python",
   "pygments_lexer": "ipython3",
   "version": "3.11.4"
  }
 },
 "nbformat": 4,
 "nbformat_minor": 2
}
