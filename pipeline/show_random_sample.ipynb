{
 "cells": [
  {
   "cell_type": "code",
   "execution_count": 1,
   "metadata": {},
   "outputs": [],
   "source": [
    "import pandas as pd\n",
    "import os\n",
    "from utils import random_sample"
   ]
  },
  {
   "cell_type": "code",
   "execution_count": 2,
   "metadata": {},
   "outputs": [],
   "source": [
    "df_abcd = pd.read_parquet(\"../data/ABCD_tripfiles.parquet\", engine=\"pyarrow\")\n",
    "df_mnop = pd.read_parquet(\"../data/MNOP_tripfiles.parquet\", engine=\"pyarrow\")\n",
    "df_zyxw = pd.read_parquet(\"../data/ZYXW_tripfiles.parquet\", engine=\"pyarrow\")"
   ]
  },
  {
   "cell_type": "code",
   "execution_count": 130,
   "metadata": {},
   "outputs": [
    {
     "name": "stdout",
     "output_type": "stream",
     "text": [
      "\n",
      "Email receivers     :\n",
      "Message type        :   LOADSHEET\n",
      "Subject             :   AB2629/06MAY GOX-DEL; Loadsheet Edition 02\n",
      "Attachment file name:   AB2629_06MAY_GOXDEL_Loadsheet_Edition_02\n",
      "Body                :\n",
      " ABCD AIR\n",
      " L O A D S H E E T             CHECKED:         APPROVED     EDNO\n",
      " ALL WEIGHTS IN KILOGRAM       CLC 010                        02\n",
      "\n",
      " FROM/TO FLIGHT      A/C REG    CONFIG     CREW    DATE      TIME\n",
      " GOX DEL AB 2629/06  ABCAS      Y189       2/05   06MAY24    1712\n",
      " \n",
      "                             WEIGHT DISTRIBUTION\n",
      " LOAD IN COMPARTMENTS         1516   1/0  2/0  3/1218  4/298\n",
      "\n",
      "                             BAG/1516 CARGO/0 MAIL/0 EIC/0\n",
      "\n",
      " PASSENGER / CABIN BAG       13090  116/057/003/001     TTL 177\n",
      " CABIN CLASS                        Y  /176         \n",
      " CABIN AREA                          0A/33  0B/30  0C/30  0D/25  \n",
      "                                     0E/23  0F/35    \n",
      " TOB                                184\n",
      "\n",
      " TOTAL TRAFFIC LOAD          14606\n",
      " DRY OPERATING WEIGHT        44605\n",
      " ZERO FUEL WEIGHT ACTUAL     59211  MAX  65952         ADJ       \n",
      " TAKE OFF FUEL                8780\n",
      " TAKE OFF WEIGHT ACTUAL      67991  MAX  75024         ADJ       \n",
      " TRIP                         5030\n",
      " LANDING WEIGHT ACTUAL       62961  MAX  69308    L    ADJ  68958\n",
      " TAXI FUEL                     220\n",
      " \n",
      " PANTRY                        414\n",
      "\n",
      " BALANCE AND SEATING CONDITIONS           LAST MINUTE CHANGES\n",
      "                                   DEST  SPEC  CL/CPT + -  WEIGHT\n",
      " ZFI 45.95         MACZFW 20.39    ....  ....  ...... ...  ......\n",
      " TOI 53.39         MACTOW 22.80    ....  ....  ...... ...  ......\n",
      "                                   ....  ....  ...... ...  ......\n",
      "                                   ....  ....  ...... ...  ......\n",
      "\n",
      " UNDERLOAD BEFORE LMC  5997                  LMC TOTAL + -\n",
      "\n",
      " CAPTAINS INFORMATION/NOTES - RMKS\n",
      " SI: PREPARED BY HUMAN CLC010 AT CLC\n",
      " SI: BAGS IN C3/4\n",
      " SI: 12kgs grt weight added\n",
      "\n",
      " FWD ZFW LIMIT    21.97  / AFT ZFW LIMIT    65.56\n",
      " FWD TOW LIMIT    24.74  / AFT TOW LIMIT    73.10\n",
      " OPERATING EMPTY WEIGHT / INDEX:  44106 /   38.88\n",
      " B737 â€“ 8 / 8200 AIRCRAFT TYPE LOADSHEET\n",
      " THIS IS TO CERTIFY THAT THE AIRCRAFT IS LOADED IN ACCORDANCE\n",
      " WITH THE AFM\n",
      "\n",
      "\n",
      " CAPTAIN..............                 SIGNATURE ...............\n",
      "\n",
      " COMPUTERIZED LS VIDE APPROVAL NO. WR-AW0ORG(MG)/4/2022-DAW/MUM\n",
      " DATED 21.11.2022 \n",
      " LMC TOLERANCE FOR +/- 500 KGS PAYLOAD ONLY\n",
      " FUEL LMC IS NOT PERMITTED\n"
     ]
    }
   ],
   "source": [
    "random_sample(df_abcd[df_abcd.action_name == \"CreateLoadsheetAction\"])"
   ]
  }
 ],
 "metadata": {
  "kernelspec": {
   "display_name": "Python 3",
   "language": "python",
   "name": "python3"
  },
  "language_info": {
   "codemirror_mode": {
    "name": "ipython",
    "version": 3
   },
   "file_extension": ".py",
   "mimetype": "text/x-python",
   "name": "python",
   "nbconvert_exporter": "python",
   "pygments_lexer": "ipython3",
   "version": "3.11.4"
  }
 },
 "nbformat": 4,
 "nbformat_minor": 2
}
