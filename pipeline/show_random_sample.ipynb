{
 "cells": [
  {
   "cell_type": "code",
   "execution_count": 1,
   "metadata": {},
   "outputs": [],
   "source": [
    "import pandas as pd\n",
    "import os\n",
    "from utils import random_sample"
   ]
  },
  {
   "cell_type": "code",
   "execution_count": 594,
   "metadata": {},
   "outputs": [],
   "source": [
    "df_abcd = pd.read_parquet(\"../data/ABCD_tripfiles.parquet\", engine=\"pyarrow\")\n",
    "df_mnop = pd.read_parquet(\"../data/MNOP_tripfiles.parquet\", engine=\"pyarrow\")\n",
    "df_zyxw = pd.read_parquet(\"../data/ZYXW_tripfiles.parquet\", engine=\"pyarrow\")"
   ]
  },
  {
   "cell_type": "code",
   "execution_count": 1956,
   "metadata": {},
   "outputs": [
    {
     "name": "stdout",
     "output_type": "stream",
     "text": [
      "com.onesystem.lc2.manualloadplanning.dto.LoadDTO [ id = 2271446  flightId = 519628 legId = 545178  deleted = false  fragmentId = LoadFragment ]\n",
      "BULK\n",
      " Item Id   Number       Status    Weight         Pieces    Volume    Origin    Onl.Sta.  Dest.     Category  Position  Confirmed  Remarks  \n",
      " 7416493   NULL         ESTIMATE  714.00    KG   87        0.00      MAA       MAA       BLR       B         NULL      false      \n",
      " 7416494   NULL         ESTIMATE  0.00      KG   0         0.00      MAA       MAA       BLR       TB        NULL      false      \n",
      " 7417614   NULL         ESTIMATE  211.00    KG   23        0.00      IXZ       IXZ       BLR       B         2         true      NULL \n",
      "\n",
      "Total baggage      : 925.00   KG               \n",
      "Total cargo        : 0.00     KG               \n",
      "Total EIC          : 0.00     KG               \n",
      "Total mail         : 0.00     KG               \n",
      "STATUS FUEL 1 AIRCRAFT_CONFIG 1 EZFW 2 CARGO_TRANSFER 1 CABIN_CONFIG 1 TRANSIT_ACCEPTANCE 1 TRANSIT_PAX 1 CALC_HIST_DATA 1 CHECK_IN_OPEN 1 AUTO_MODE_ACTIVE 1 AUTOMATION_STARTED 0 BAG_LOAD_ITEMS_GEN 1 EZFW_COUNTER 2 REGISTRATION 1 REGISTRATION_CHANGE 6\n"
     ]
    }
   ],
   "source": [
    "random_sample(df_abcd[df_abcd.action_name == \"UpdateTransitLoadTableAction\"])"
   ]
  }
 ],
 "metadata": {
  "kernelspec": {
   "display_name": "Python 3",
   "language": "python",
   "name": "python3"
  },
  "language_info": {
   "codemirror_mode": {
    "name": "ipython",
    "version": 3
   },
   "file_extension": ".py",
   "mimetype": "text/x-python",
   "name": "python",
   "nbconvert_exporter": "python",
   "pygments_lexer": "ipython3",
   "version": "3.11.4"
  }
 },
 "nbformat": 4,
 "nbformat_minor": 2
}
