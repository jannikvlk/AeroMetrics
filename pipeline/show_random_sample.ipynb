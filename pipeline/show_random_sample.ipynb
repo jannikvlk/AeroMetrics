{
 "cells": [
  {
   "cell_type": "code",
   "execution_count": 2,
   "metadata": {},
   "outputs": [],
   "source": [
    "import pandas as pd\n",
    "import os\n",
    "from utils import random_sample"
   ]
  },
  {
   "cell_type": "code",
   "execution_count": 19,
   "metadata": {},
   "outputs": [],
   "source": [
    "df_abcd = pd.read_parquet(\"../data/ABCD_tripfiles.parquet\", engine=\"pyarrow\")\n",
    "df_mnop = pd.read_parquet(\"../data/MNOP_tripfiles.parquet\", engine=\"pyarrow\")\n",
    "df_zyxw = pd.read_parquet(\"../data/ZYXW_tripfiles.parquet\", engine=\"pyarrow\")"
   ]
  },
  {
   "cell_type": "code",
   "execution_count": 212,
   "metadata": {},
   "outputs": [
    {
     "name": "stdout",
     "output_type": "stream",
     "text": [
      "Configuration\n",
      "Start Weight : 29060.0 KG Start Index: 68.32\n",
      "Crew         : 2/3\n",
      "Water(%)     : 50.0\n",
      "Category    | Weight          | Index   \n",
      "Correction  | 400.00   KG     | -2.28    | REASON_CREW\n",
      "Correction  | 55.00    KG     | -1.24    | REASON_WATER\n",
      "Galley:\n",
      "SIMPLES     | 216.00   KG     | 1.55    \n",
      "Total Weight: 29731.00 KG     Index: 66.35   \n",
      "STATUS AIRCRAFT_CONFIG 1 CARGO_FINAL 1 CARGO_TRANSFER 1 CABIN_CONFIG 1 CALC_HIST_DATA 1 AUTO_MODE_ACTIVE 1 AUTOMATION_STARTED 0 BAG_LOZY_ITEMS_GEN 1 EZFW_COUNTER 1 REGISTRATION 1 REGISTRATION_CHANGE 2\n"
     ]
    }
   ],
   "source": [
    "random_sample(df_zyxw[df_zyxw.action_name == \"StoreRegistrationAndConfigurationAc\"])"
   ]
  },
  {
   "cell_type": "code",
   "execution_count": null,
   "metadata": {},
   "outputs": [],
   "source": []
  },
  {
   "cell_type": "code",
   "execution_count": null,
   "metadata": {},
   "outputs": [],
   "source": []
  }
 ],
 "metadata": {
  "kernelspec": {
   "display_name": "Python 3",
   "language": "python",
   "name": "python3"
  },
  "language_info": {
   "codemirror_mode": {
    "name": "ipython",
    "version": 3
   },
   "file_extension": ".py",
   "mimetype": "text/x-python",
   "name": "python",
   "nbconvert_exporter": "python",
   "pygments_lexer": "ipython3",
   "version": "3.11.4"
  }
 },
 "nbformat": 4,
 "nbformat_minor": 2
}
