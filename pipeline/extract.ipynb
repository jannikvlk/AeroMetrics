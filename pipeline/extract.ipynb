{
      "cells": [
            {
                  "cell_type": "code",
                  "execution_count": 1,
                  "metadata": {},
                  "outputs": [],
                  "source": [
                        "import pandas as pd\n",
                        "from tqdm.auto import tqdm\n",
                        "import actions\n",
                        "from pathlib import Path\n",
                        "from utils import *\n",
                        "import re\n",
                        "from tqdm.auto import tqdm\n",
                        "import json"
                  ]
            },
            {
                  "cell_type": "code",
                  "execution_count": 2,
                  "metadata": {},
                  "outputs": [
                        {
                              "name": "stdout",
                              "output_type": "stream",
                              "text": [
                                    "..\\data\\ABCD_tripfiles.parquet ..\\data\\ABCD_tripfiles_conv.parquet ..\\data\\MNOP_tripfiles.parquet ..\\data\\MNOP_tripfiles_conv.parquet ..\\data\\ZYXW_tripfiles.parquet ..\\data\\ZYXW_tripfiles_conv.parquet\n"
                              ]
                        }
                  ],
                  "source": [
                        "# Define the file paths\n",
                        "parquet_file_abcd = Path(\"../data/ABCD_tripfiles.parquet\")\n",
                        "parquet_file_abcd_conv = Path(\"../data/ABCD_tripfiles_conv.parquet\")\n",
                        "parquet_file_mnop = Path(\"../data/MNOP_tripfiles.parquet\")\n",
                        "parquet_file_mnop_conv = Path(\"../data/MNOP_tripfiles_conv.parquet\")\n",
                        "parquet_file_zyxw = Path(\"../data/ZYXW_tripfiles.parquet\")\n",
                        "parquet_file_zyxw_conv = Path(\"../data/ZYXW_tripfiles_conv.parquet\")\n",
                        "print(\n",
                        "    parquet_file_abcd,\n",
                        "    parquet_file_abcd_conv,\n",
                        "    parquet_file_mnop,\n",
                        "    parquet_file_mnop_conv,\n",
                        "    parquet_file_zyxw,\n",
                        "    parquet_file_zyxw_conv,\n",
                        ")"
                  ]
            },
            {
                  "cell_type": "code",
                  "execution_count": 3,
                  "metadata": {},
                  "outputs": [],
                  "source": [
                        "df_abcd = pd.read_parquet(parquet_file_abcd)\n",
                        "df_mnop = pd.read_parquet(parquet_file_mnop)\n",
                        "df_zyxw = pd.read_parquet(parquet_file_zyxw)"
                  ]
            },
            {
                  "cell_type": "code",
                  "execution_count": 4,
                  "metadata": {},
                  "outputs": [
                        {
                              "name": "stdout",
                              "output_type": "stream",
                              "text": [
                                    "1252.74 MB\n",
                                    "2278.75 MB\n",
                                    "608.15 MB\n"
                              ]
                        }
                  ],
                  "source": [
                        "print(round(df_abcd.memory_usage(deep=True).sum() / 1024**2, 2), \"MB\")\n",
                        "print(round(df_mnop.memory_usage(deep=True).sum() / 1024**2, 2), \"MB\")\n",
                        "print(round(df_zyxw.memory_usage(deep=True).sum() / 1024**2, 2), \"MB\")"
                  ]
            },
            {
                  "cell_type": "code",
                  "execution_count": 5,
                  "metadata": {},
                  "outputs": [
                        {
                              "name": "stdout",
                              "output_type": "stream",
                              "text": [
                                    "49\n",
                                    "62\n",
                                    "67\n"
                              ]
                        }
                  ],
                  "source": [
                        "action_names = set(df_abcd.action_name.unique())\n",
                        "print(len(action_names))\n",
                        "action_names.update(set(df_mnop.action_name.unique()))\n",
                        "print(len(action_names))\n",
                        "action_names.update(set(df_zyxw.action_name.unique()))\n",
                        "print(len(action_names))"
                  ]
            },
            {
                  "cell_type": "code",
                  "execution_count": 6,
                  "metadata": {},
                  "outputs": [],
                  "source": [
                        "import actions.CreateLoadingInstructionAction\n",
                        "import actions.SendLoadingInstructionAction\n",
                        "import actions.TransferCheckinDataAction\n",
                        "\n",
                        "\n",
                        "action_extractors = {\n",
                        "    \"CalculateWeightAndTrimAction\": None,\n",
                        "    \"CheckinMsgProcessor\": None,\n",
                        "    \"CreateLoadsheetAction\": None,\n",
                        "    \"CreateZFWMessageAction\": None,\n",
                        "    \"SendFuelOrderAction\": None,\n",
                        "    \"SendLoadsheetAction\": None,\n",
                        "    \"SetActualBagWeightIndicatorAction\": None,\n",
                        "    \"StorePaxDataAction\": None,\n",
                        "    \"StoreRegistrationAndConfigurationAc\": None,\n",
                        "    \"UpdateFuelDataAction\": actions.UpdateFuelDataAction.extract,\n",
                        "    \"RampFinalAction\": actions.RampFinalAction.extract,\n",
                        "    \"CreateLoadingInstructionAction\": actions.CreateLoadingInstructionAction.extract,\n",
                        "    \"CopyPaxDataAction\": None,\n",
                        "    \"CreateBaggageLoadItemsAction\": None,\n",
                        "    \"EstimateStorePaxDataAction\": actions.EstimateStorePaxDataAction.extract,\n",
                        "    \"SendLoadingInstructionAction\": actions.SendLoadingInstructionAction.extract,\n",
                        "    \"SetCKIPaxDistributionAction\": actions.SetCKIPaxDistributionAction.extract,\n",
                        "    \"SpecialPaxWeightAction\": None,\n",
                        "    \"StoreAircraftDataAction\": None,\n",
                        "    \"StoreCKIAverageWeightAction\": None,\n",
                        "    \"StorePaxDataGuiAction\": None,\n",
                        "    \"TdmCreateLoadingInstructionAction\": actions.TdmCreateLoadingInstructionAction.extract,\n",
                        "    \"TransferCargoAction\": None,\n",
                        "    \"TransferCheckinDataAction\": actions.TransferCheckinDataAction.extract,\n",
                        "    \"UpdateCargoMailEstimatesAction\": None,\n",
                        "    \"UpdateEstimatesAction\": actions.UpdateEstimatesAction.extract,\n",
                        "    \"UpdateLastEzfwSentAction\": None,\n",
                        "    \"UpdateLoadTableAction\": None,\n",
                        "}"
                  ]
            },
            {
                  "cell_type": "code",
                  "execution_count": 7,
                  "metadata": {},
                  "outputs": [
                        {
                              "name": "stdout",
                              "output_type": "stream",
                              "text": [
                                    "SendLoadingInstructionAction\n"
                              ]
                        },
                        {
                              "data": {
                                    "application/vnd.jupyter.widget-view+json": {
                                          "model_id": "34702bef073f4b5f877e93645589771d",
                                          "version_major": 2,
                                          "version_minor": 0
                                    },
                                    "text/plain": [
                                          "  0%|          | 0/4 [00:00<?, ?it/s]"
                                    ]
                              },
                              "metadata": {},
                              "output_type": "display_data"
                        },
                        {
                              "name": "stdout",
                              "output_type": "stream",
                              "text": [
                                    "SendLoadingInstructionAction\n"
                              ]
                        },
                        {
                              "data": {
                                    "application/vnd.jupyter.widget-view+json": {
                                          "model_id": "8f480bf4a8ce427cb08838be8bc5946c",
                                          "version_major": 2,
                                          "version_minor": 0
                                    },
                                    "text/plain": [
                                          "  0%|          | 0/96 [00:00<?, ?it/s]"
                                    ]
                              },
                              "metadata": {},
                              "output_type": "display_data"
                        },
                        {
                              "name": "stdout",
                              "output_type": "stream",
                              "text": [
                                    "SendLoadingInstructionAction\n"
                              ]
                        },
                        {
                              "data": {
                                    "application/vnd.jupyter.widget-view+json": {
                                          "model_id": "3946b702019d494994f396f22bf719ef",
                                          "version_major": 2,
                                          "version_minor": 0
                                    },
                                    "text/plain": [
                                          "  0%|          | 0/2 [00:00<?, ?it/s]"
                                    ]
                              },
                              "metadata": {},
                              "output_type": "display_data"
                        }
                  ],
                  "source": [
                        "def extract_df(df: pd.DataFrame):\n",
                        "    tqdm.pandas()\n",
                        "    for action_name, extractor in action_extractors.items():\n",
                        "\n",
                        "        if extractor is not None:\n",
                        "            print(action_name)\n",
                        "\n",
                        "            df[f\"data_{action_name}\"] = df[df.action_name == action_name][\n",
                        "                \"entry_details\"\n",
                        "            ].progress_apply(extractor)\n",
                        "    return df\n",
                        "\n",
                        "\n",
                        "df_abcd_conv = extract_df(df_abcd)\n",
                        "df_abcd_conv.to_parquet(parquet_file_abcd_conv, engine=\"pyarrow\", compression=\"brotli\")\n",
                        "\n",
                        "df_mnop_conv = extract_df(df_mnop)\n",
                        "df_mnop_conv.to_parquet(parquet_file_mnop_conv, engine=\"pyarrow\", compression=\"brotli\")\n",
                        "\n",
                        "df_zyxw_conv = extract_df(df_zyxw)\n",
                        "df_zyxw_conv.to_parquet(parquet_file_zyxw_conv, engine=\"pyarrow\", compression=\"brotli\")"
                  ]
            },
            {
                  "cell_type": "code",
                  "execution_count": 8,
                  "metadata": {},
                  "outputs": [
                        {
                              "ename": "KeyboardInterrupt",
                              "evalue": "",
                              "output_type": "error",
                              "traceback": [
                                    "\u001b[1;31m---------------------------------------------------------------------------\u001b[0m",
                                    "\u001b[1;31mKeyboardInterrupt\u001b[0m                         Traceback (most recent call last)",
                                    "Cell \u001b[1;32mIn[8], line 15\u001b[0m\n\u001b[0;32m      1\u001b[0m df \u001b[38;5;241m=\u001b[39m df_mnop\n\u001b[0;32m      4\u001b[0m x \u001b[38;5;241m=\u001b[39m df[\n\u001b[0;32m      5\u001b[0m     (df\u001b[38;5;241m.\u001b[39maction_name \u001b[38;5;241m==\u001b[39m \u001b[38;5;124m\"\u001b[39m\u001b[38;5;124mTdmCreateLoadingInstructionAction\u001b[39m\u001b[38;5;124m\"\u001b[39m)\n\u001b[0;32m      6\u001b[0m     \u001b[38;5;66;03m# & (~df[\"entry_details\"].isnull())\u001b[39;00m\n\u001b[0;32m      7\u001b[0m     \u001b[38;5;241m&\u001b[39m (\n\u001b[0;32m      8\u001b[0m         \u001b[38;5;241m~\u001b[39mdf[\u001b[38;5;124m\"\u001b[39m\u001b[38;5;124mentry_details\u001b[39m\u001b[38;5;124m\"\u001b[39m]\u001b[38;5;241m.\u001b[39mstr\u001b[38;5;241m.\u001b[39mcontains(\n\u001b[0;32m      9\u001b[0m             \u001b[38;5;124m\"\u001b[39m\u001b[38;5;124mcom.systemone.lc2.common.dto.SingleAttributeDTO\u001b[39m\u001b[38;5;124m\"\u001b[39m, na\u001b[38;5;241m=\u001b[39m\u001b[38;5;28;01mFalse\u001b[39;00m\n\u001b[0;32m     10\u001b[0m         )\n\u001b[0;32m     11\u001b[0m     )\n\u001b[0;32m     12\u001b[0m     \u001b[38;5;241m&\u001b[39m (\n\u001b[0;32m     13\u001b[0m         \u001b[38;5;241m~\u001b[39mdf[\u001b[38;5;124m\"\u001b[39m\u001b[38;5;124mentry_details\u001b[39m\u001b[38;5;124m\"\u001b[39m]\u001b[38;5;241m.\u001b[39mstr\u001b[38;5;241m.\u001b[39mcontains(\u001b[38;5;124m\"\u001b[39m\u001b[38;5;124mSTATUS LOADING_INSTRUCTION\u001b[39m\u001b[38;5;124m\"\u001b[39m, na\u001b[38;5;241m=\u001b[39m\u001b[38;5;28;01mFalse\u001b[39;00m)\n\u001b[0;32m     14\u001b[0m     )  \u001b[38;5;66;03m# STATUS LOZYING_INSTRUCTION also included\u001b[39;00m\n\u001b[1;32m---> 15\u001b[0m     \u001b[38;5;241m&\u001b[39m (\u001b[38;5;241m~\u001b[39m\u001b[43mdf\u001b[49m\u001b[43m[\u001b[49m\u001b[38;5;124;43m\"\u001b[39;49m\u001b[38;5;124;43mentry_details\u001b[39;49m\u001b[38;5;124;43m\"\u001b[39;49m\u001b[43m]\u001b[49m\u001b[38;5;241;43m.\u001b[39;49m\u001b[43mstr\u001b[49m\u001b[38;5;241;43m.\u001b[39;49m\u001b[43mcontains\u001b[49m\u001b[43m(\u001b[49m\u001b[38;5;124;43m\"\u001b[39;49m\u001b[38;5;124;43mSTATUS LOZYING_INSTRUCTION\u001b[39;49m\u001b[38;5;124;43m\"\u001b[39;49m\u001b[43m,\u001b[49m\u001b[43m \u001b[49m\u001b[43mna\u001b[49m\u001b[38;5;241;43m=\u001b[39;49m\u001b[38;5;28;43;01mFalse\u001b[39;49;00m\u001b[43m)\u001b[49m)\n\u001b[0;32m     16\u001b[0m     \u001b[38;5;241m&\u001b[39m (\n\u001b[0;32m     17\u001b[0m         \u001b[38;5;241m~\u001b[39mdf[\u001b[38;5;124m\"\u001b[39m\u001b[38;5;124mentry_details\u001b[39m\u001b[38;5;124m\"\u001b[39m]\u001b[38;5;241m.\u001b[39mstr\u001b[38;5;241m.\u001b[39mcontains(\u001b[38;5;124m\"\u001b[39m\u001b[38;5;124mEmail receivers\u001b[39m\u001b[38;5;124m\"\u001b[39m, na\u001b[38;5;241m=\u001b[39m\u001b[38;5;28;01mFalse\u001b[39;00m)\n\u001b[0;32m     18\u001b[0m     )  \u001b[38;5;66;03m# don't include this\u001b[39;00m\n\u001b[0;32m     19\u001b[0m     \u001b[38;5;241m&\u001b[39m (\n\u001b[0;32m     20\u001b[0m         \u001b[38;5;241m~\u001b[39mdf[\u001b[38;5;124m\"\u001b[39m\u001b[38;5;124mentry_details\u001b[39m\u001b[38;5;124m\"\u001b[39m]\u001b[38;5;241m.\u001b[39mstr\u001b[38;5;241m.\u001b[39mcontains(\u001b[38;5;124m\"\u001b[39m\u001b[38;5;124mTelex receivers\u001b[39m\u001b[38;5;124m\"\u001b[39m, na\u001b[38;5;241m=\u001b[39m\u001b[38;5;28;01mFalse\u001b[39;00m)\n\u001b[0;32m     21\u001b[0m     )  \u001b[38;5;66;03m# don't include this\u001b[39;00m\n\u001b[0;32m     22\u001b[0m ][\u001b[38;5;124m\"\u001b[39m\u001b[38;5;124mentry_details\u001b[39m\u001b[38;5;124m\"\u001b[39m]\u001b[38;5;241m.\u001b[39munique()\n",
                                    "File \u001b[1;32mc:\\Users\\Franziska\\AppData\\Local\\Programs\\Python\\Python310\\lib\\site-packages\\pandas\\core\\strings\\accessor.py:136\u001b[0m, in \u001b[0;36mforbid_nonstring_types.<locals>._forbid_nonstring_types.<locals>.wrapper\u001b[1;34m(self, *args, **kwargs)\u001b[0m\n\u001b[0;32m    131\u001b[0m     msg \u001b[38;5;241m=\u001b[39m (\n\u001b[0;32m    132\u001b[0m         \u001b[38;5;124mf\u001b[39m\u001b[38;5;124m\"\u001b[39m\u001b[38;5;124mCannot use .str.\u001b[39m\u001b[38;5;132;01m{\u001b[39;00mfunc_name\u001b[38;5;132;01m}\u001b[39;00m\u001b[38;5;124m with values of \u001b[39m\u001b[38;5;124m\"\u001b[39m\n\u001b[0;32m    133\u001b[0m         \u001b[38;5;124mf\u001b[39m\u001b[38;5;124m\"\u001b[39m\u001b[38;5;124minferred dtype \u001b[39m\u001b[38;5;124m'\u001b[39m\u001b[38;5;132;01m{\u001b[39;00m\u001b[38;5;28mself\u001b[39m\u001b[38;5;241m.\u001b[39m_inferred_dtype\u001b[38;5;132;01m}\u001b[39;00m\u001b[38;5;124m'\u001b[39m\u001b[38;5;124m.\u001b[39m\u001b[38;5;124m\"\u001b[39m\n\u001b[0;32m    134\u001b[0m     )\n\u001b[0;32m    135\u001b[0m     \u001b[38;5;28;01mraise\u001b[39;00m \u001b[38;5;167;01mTypeError\u001b[39;00m(msg)\n\u001b[1;32m--> 136\u001b[0m \u001b[38;5;28;01mreturn\u001b[39;00m func(\u001b[38;5;28mself\u001b[39m, \u001b[38;5;241m*\u001b[39margs, \u001b[38;5;241m*\u001b[39m\u001b[38;5;241m*\u001b[39mkwargs)\n",
                                    "File \u001b[1;32mc:\\Users\\Franziska\\AppData\\Local\\Programs\\Python\\Python310\\lib\\site-packages\\pandas\\core\\strings\\accessor.py:1310\u001b[0m, in \u001b[0;36mStringMethods.contains\u001b[1;34m(self, pat, case, flags, na, regex)\u001b[0m\n\u001b[0;32m   1302\u001b[0m \u001b[38;5;28;01mif\u001b[39;00m regex \u001b[38;5;129;01mand\u001b[39;00m re\u001b[38;5;241m.\u001b[39mcompile(pat)\u001b[38;5;241m.\u001b[39mgroups:\n\u001b[0;32m   1303\u001b[0m     warnings\u001b[38;5;241m.\u001b[39mwarn(\n\u001b[0;32m   1304\u001b[0m         \u001b[38;5;124m\"\u001b[39m\u001b[38;5;124mThis pattern is interpreted as a regular expression, and has \u001b[39m\u001b[38;5;124m\"\u001b[39m\n\u001b[0;32m   1305\u001b[0m         \u001b[38;5;124m\"\u001b[39m\u001b[38;5;124mmatch groups. To actually get the groups, use str.extract.\u001b[39m\u001b[38;5;124m\"\u001b[39m,\n\u001b[0;32m   1306\u001b[0m         \u001b[38;5;167;01mUserWarning\u001b[39;00m,\n\u001b[0;32m   1307\u001b[0m         stacklevel\u001b[38;5;241m=\u001b[39mfind_stack_level(),\n\u001b[0;32m   1308\u001b[0m     )\n\u001b[1;32m-> 1310\u001b[0m result \u001b[38;5;241m=\u001b[39m \u001b[38;5;28;43mself\u001b[39;49m\u001b[38;5;241;43m.\u001b[39;49m\u001b[43m_data\u001b[49m\u001b[38;5;241;43m.\u001b[39;49m\u001b[43marray\u001b[49m\u001b[38;5;241;43m.\u001b[39;49m\u001b[43m_str_contains\u001b[49m\u001b[43m(\u001b[49m\u001b[43mpat\u001b[49m\u001b[43m,\u001b[49m\u001b[43m \u001b[49m\u001b[43mcase\u001b[49m\u001b[43m,\u001b[49m\u001b[43m \u001b[49m\u001b[43mflags\u001b[49m\u001b[43m,\u001b[49m\u001b[43m \u001b[49m\u001b[43mna\u001b[49m\u001b[43m,\u001b[49m\u001b[43m \u001b[49m\u001b[43mregex\u001b[49m\u001b[43m)\u001b[49m\n\u001b[0;32m   1311\u001b[0m \u001b[38;5;28;01mreturn\u001b[39;00m \u001b[38;5;28mself\u001b[39m\u001b[38;5;241m.\u001b[39m_wrap_result(result, fill_value\u001b[38;5;241m=\u001b[39mna, returns_string\u001b[38;5;241m=\u001b[39m\u001b[38;5;28;01mFalse\u001b[39;00m)\n",
                                    "File \u001b[1;32mc:\\Users\\Franziska\\AppData\\Local\\Programs\\Python\\Python310\\lib\\site-packages\\pandas\\core\\strings\\object_array.py:145\u001b[0m, in \u001b[0;36mObjectStringArrayMixin._str_contains\u001b[1;34m(self, pat, case, flags, na, regex)\u001b[0m\n\u001b[0;32m    143\u001b[0m         upper_pat \u001b[38;5;241m=\u001b[39m pat\u001b[38;5;241m.\u001b[39mupper()\n\u001b[0;32m    144\u001b[0m         f \u001b[38;5;241m=\u001b[39m \u001b[38;5;28;01mlambda\u001b[39;00m x: upper_pat \u001b[38;5;129;01min\u001b[39;00m x\u001b[38;5;241m.\u001b[39mupper()\n\u001b[1;32m--> 145\u001b[0m \u001b[38;5;28;01mreturn\u001b[39;00m \u001b[38;5;28;43mself\u001b[39;49m\u001b[38;5;241;43m.\u001b[39;49m\u001b[43m_str_map\u001b[49m\u001b[43m(\u001b[49m\u001b[43mf\u001b[49m\u001b[43m,\u001b[49m\u001b[43m \u001b[49m\u001b[43mna\u001b[49m\u001b[43m,\u001b[49m\u001b[43m \u001b[49m\u001b[43mdtype\u001b[49m\u001b[38;5;241;43m=\u001b[39;49m\u001b[43mnp\u001b[49m\u001b[38;5;241;43m.\u001b[39;49m\u001b[43mdtype\u001b[49m\u001b[43m(\u001b[49m\u001b[38;5;124;43m\"\u001b[39;49m\u001b[38;5;124;43mbool\u001b[39;49m\u001b[38;5;124;43m\"\u001b[39;49m\u001b[43m)\u001b[49m\u001b[43m)\u001b[49m\n",
                                    "File \u001b[1;32mc:\\Users\\Franziska\\AppData\\Local\\Programs\\Python\\Python310\\lib\\site-packages\\pandas\\core\\strings\\object_array.py:78\u001b[0m, in \u001b[0;36mObjectStringArrayMixin._str_map\u001b[1;34m(self, f, na_value, dtype, convert)\u001b[0m\n\u001b[0;32m     76\u001b[0m map_convert \u001b[38;5;241m=\u001b[39m convert \u001b[38;5;129;01mand\u001b[39;00m \u001b[38;5;129;01mnot\u001b[39;00m np\u001b[38;5;241m.\u001b[39mall(mask)\n\u001b[0;32m     77\u001b[0m \u001b[38;5;28;01mtry\u001b[39;00m:\n\u001b[1;32m---> 78\u001b[0m     result \u001b[38;5;241m=\u001b[39m \u001b[43mlib\u001b[49m\u001b[38;5;241;43m.\u001b[39;49m\u001b[43mmap_infer_mask\u001b[49m\u001b[43m(\u001b[49m\u001b[43marr\u001b[49m\u001b[43m,\u001b[49m\u001b[43m \u001b[49m\u001b[43mf\u001b[49m\u001b[43m,\u001b[49m\u001b[43m \u001b[49m\u001b[43mmask\u001b[49m\u001b[38;5;241;43m.\u001b[39;49m\u001b[43mview\u001b[49m\u001b[43m(\u001b[49m\u001b[43mnp\u001b[49m\u001b[38;5;241;43m.\u001b[39;49m\u001b[43muint8\u001b[49m\u001b[43m)\u001b[49m\u001b[43m,\u001b[49m\u001b[43m \u001b[49m\u001b[43mmap_convert\u001b[49m\u001b[43m)\u001b[49m\n\u001b[0;32m     79\u001b[0m \u001b[38;5;28;01mexcept\u001b[39;00m (\u001b[38;5;167;01mTypeError\u001b[39;00m, \u001b[38;5;167;01mAttributeError\u001b[39;00m) \u001b[38;5;28;01mas\u001b[39;00m err:\n\u001b[0;32m     80\u001b[0m     \u001b[38;5;66;03m# Reraise the exception if callable `f` got wrong number of args.\u001b[39;00m\n\u001b[0;32m     81\u001b[0m     \u001b[38;5;66;03m# The user may want to be warned by this, instead of getting NaN\u001b[39;00m\n\u001b[0;32m     82\u001b[0m     p_err \u001b[38;5;241m=\u001b[39m (\n\u001b[0;32m     83\u001b[0m         \u001b[38;5;124mr\u001b[39m\u001b[38;5;124m\"\u001b[39m\u001b[38;5;124m((takes)|(missing)) (?(2)from \u001b[39m\u001b[38;5;124m\\\u001b[39m\u001b[38;5;124md+ to )?\u001b[39m\u001b[38;5;124m\\\u001b[39m\u001b[38;5;124md+ \u001b[39m\u001b[38;5;124m\"\u001b[39m\n\u001b[0;32m     84\u001b[0m         \u001b[38;5;124mr\u001b[39m\u001b[38;5;124m\"\u001b[39m\u001b[38;5;124m(?(3)required )positional arguments?\u001b[39m\u001b[38;5;124m\"\u001b[39m\n\u001b[0;32m     85\u001b[0m     )\n",
                                    "File \u001b[1;32mlib.pyx:2875\u001b[0m, in \u001b[0;36mpandas._libs.lib.map_infer_mask\u001b[1;34m()\u001b[0m\n",
                                    "File \u001b[1;32mc:\\Users\\Franziska\\AppData\\Local\\Programs\\Python\\Python310\\lib\\site-packages\\pandas\\core\\strings\\object_array.py:138\u001b[0m, in \u001b[0;36mObjectStringArrayMixin._str_contains.<locals>.<lambda>\u001b[1;34m(x)\u001b[0m\n\u001b[0;32m    134\u001b[0m         flags \u001b[38;5;241m|\u001b[39m\u001b[38;5;241m=\u001b[39m re\u001b[38;5;241m.\u001b[39mIGNORECASE\n\u001b[0;32m    136\u001b[0m     pat \u001b[38;5;241m=\u001b[39m re\u001b[38;5;241m.\u001b[39mcompile(pat, flags\u001b[38;5;241m=\u001b[39mflags)\n\u001b[1;32m--> 138\u001b[0m     f \u001b[38;5;241m=\u001b[39m \u001b[38;5;28;01mlambda\u001b[39;00m x: pat\u001b[38;5;241m.\u001b[39msearch(x) \u001b[38;5;129;01mis\u001b[39;00m \u001b[38;5;129;01mnot\u001b[39;00m \u001b[38;5;28;01mNone\u001b[39;00m\n\u001b[0;32m    139\u001b[0m \u001b[38;5;28;01melse\u001b[39;00m:\n\u001b[0;32m    140\u001b[0m     \u001b[38;5;28;01mif\u001b[39;00m case:\n",
                                    "\u001b[1;31mKeyboardInterrupt\u001b[0m: "
                              ]
                        }
                  ],
                  "source": [
                        "df = df_mnop\n",
                        "\n",
                        "\n",
                        "x = df[\n",
                        "    (df.action_name == \"TdmCreateLoadingInstructionAction\")\n",
                        "    # & (~df[\"entry_details\"].isnull())\n",
                        "    & (\n",
                        "        ~df[\"entry_details\"].str.contains(\n",
                        "            \"com.systemone.lc2.common.dto.SingleAttributeDTO\", na=False\n",
                        "        )\n",
                        "    )\n",
                        "    & (\n",
                        "        ~df[\"entry_details\"].str.contains(\"STATUS LOADING_INSTRUCTION\", na=False)\n",
                        "    )  # STATUS LOZYING_INSTRUCTION also included\n",
                        "    & (~df[\"entry_details\"].str.contains(\"STATUS LOZYING_INSTRUCTION\", na=False))\n",
                        "    & (\n",
                        "        ~df[\"entry_details\"].str.contains(\"Email receivers\", na=False)\n",
                        "    )  # don't include this\n",
                        "    & (\n",
                        "        ~df[\"entry_details\"].str.contains(\"Telex receivers\", na=False)\n",
                        "    )  # don't include this\n",
                        "][\"entry_details\"].unique()"
                  ]
            },
            {
                  "cell_type": "code",
                  "execution_count": null,
                  "metadata": {},
                  "outputs": [
                        {
                              "ename": "IndexError",
                              "evalue": "index 2 is out of bounds for axis 0 with size 0",
                              "output_type": "error",
                              "traceback": [
                                    "\u001b[1;31m---------------------------------------------------------------------------\u001b[0m",
                                    "\u001b[1;31mIndexError\u001b[0m                                Traceback (most recent call last)",
                                    "Cell \u001b[1;32mIn[9], line 1\u001b[0m\n\u001b[1;32m----> 1\u001b[0m \u001b[38;5;28mprint\u001b[39m(\u001b[43mx\u001b[49m\u001b[43m[\u001b[49m\u001b[38;5;241;43m2\u001b[39;49m\u001b[43m]\u001b[49m)\n",
                                    "\u001b[1;31mIndexError\u001b[0m: index 2 is out of bounds for axis 0 with size 0"
                              ]
                        }
                  ],
                  "source": [
                        "print(x[2])"
                  ]
            },
            {
                  "cell_type": "code",
                  "execution_count": null,
                  "metadata": {},
                  "outputs": [],
                  "source": [
                        "def extract(message: str):\n",
                        "    typos = {\n",
                        "        \"BAG_LOZY_ITEMS_GEN\": \"BAG_LOAD_ITEMS_GEN\",\n",
                        "        \"LOZYING_INSTRUCTION\": \"LOADING_INSTRUCTION\",\n",
                        "        \"LOZYSHEET\": \"LOADSHEET\",\n",
                        "    }  # Fix typos in the messages from zyxw\n",
                        "    for key, value in typos.items():\n",
                        "        message = message.replace(key, value)\n",
                        "\n",
                        "    if \"com.systemone.lc2.common.dto.SingleAttributeDTO\" in message:\n",
                        "        return None\n",
                        "    if \"STATUS LOADING_INSTRUCTION\" in message:\n",
                        "        \"\"\" \n",
                        "        Example Message: 'STATUS LOADING_INSTRUCTION 1 FUEL 2 AIRCRAFT_CONFIG 1 EZFW 1 \n",
                        "        CARGO_FINAL 1 CARGO_TRANSFER 1 OFP 2 CABIN_CONFIG 1 AUTO_MODE_ACTIVE 1 AUTOMATION_STARTED 0 \n",
                        "        BAG_LOAD_ITEMS_GEN 1 EZFW_COUNTER 1 REGISTRATION 1 REGISTRATION_CHANGE 1 FUEL_ORDER 2'\n",
                        "        \n",
                        "        All the keys are separated by a space and the values are the next element in the list.\n",
                        "        \"\"\"\n",
                        "        keys = [\n",
                        "            \"LOADING_INSTRUCTION\",\n",
                        "            \"FUEL\",\n",
                        "            \"AIRCRAFT_CONFIG\",\n",
                        "            \"EZFW\",\n",
                        "            \"CARGO_FINAL\",\n",
                        "            \"CARGO_TRANSFER\",\n",
                        "            \"OFP\",\n",
                        "            \"CABIN_CONFIG\",\n",
                        "            \"AUTO_MODE_ACTIVE\",\n",
                        "            \"AUTOMATION_STARTED\",\n",
                        "            \"BAG_LOAD_ITEMS_GEN\",\n",
                        "            \"EZFW_COUNTER\",\n",
                        "            \"REGISTRATION\",\n",
                        "            \"REGISTRATION_CHANGE\",\n",
                        "            \"FUEL_ORDER\",\n",
                        "            \"DGR_ITEMS\",\n",
                        "            \"CHECK_IN_FINAL\",\n",
                        "            \"OFFBLOCK\",\n",
                        "            \"AIRBORNE\",\n",
                        "            \"BAG_ULD_ORD\",\n",
                        "            \"CALC_HIST_DATA\",\n",
                        "        ]\n",
                        "\n",
                        "        # Initialize dictionary with None for all keys\n",
                        "        data = {key: None for key in keys}\n",
                        "\n",
                        "        # Split the message into parts\n",
                        "        parts = message.split()\n",
                        "\n",
                        "        # Iterate through parts and extract key-value pairs\n",
                        "        i = 0\n",
                        "        while i < len(parts):\n",
                        "            if parts[i] in keys:\n",
                        "                key = parts[i]\n",
                        "                if i + 1 < len(parts) and re.match(r\"^-?\\d+(\\.\\d+)?$\", parts[i + 1]):\n",
                        "                    value = parts[i + 1]\n",
                        "                    data[key] = int(value)\n",
                        "                    i += 2\n",
                        "                else:\n",
                        "                    i += 1\n",
                        "            else:\n",
                        "                i += 1\n",
                        "\n",
                        "        return  json.dumps(data)\n",
                        "    \n",
                        "    if \"Telex receivers\" in message or \"Email receivers\" in message: \n",
                        "       return None #not relevant enough\n",
                        "    raise NotImplementedError(\"This message is not supported yet\")"
                  ]
            },
            {
                  "cell_type": "code",
                  "execution_count": null,
                  "metadata": {},
                  "outputs": [],
                  "source": [
                        "tqdm.pandas()"
                  ]
            },
            {
                  "cell_type": "code",
                  "execution_count": null,
                  "metadata": {},
                  "outputs": [
                        {
                              "name": "stderr",
                              "output_type": "stream",
                              "text": [
                                    "100%|██████████| 1182/1182 [00:00<00:00, 38129.45it/s]\n"
                              ]
                        }
                  ],
                  "source": [
                        "foo = df_mnop[df_mnop.action_name == \"TdmCreateLoadingInstructionAction\"][\n",
                        "    \"entry_details\"\n",
                        "].progress_apply(extract)"
                  ]
            },
            {
                  "cell_type": "code",
                  "execution_count": null,
                  "metadata": {},
                  "outputs": [
                        {
                              "data": {
                                    "text/plain": [
                                          "394"
                                    ]
                              },
                              "execution_count": 27,
                              "metadata": {},
                              "output_type": "execute_result"
                        }
                  ],
                  "source": [
                        "foo[foo.str.contains(\"LOADING_INSTRUCTION\", na=False)].count()"
                  ]
            },
            {
                  "cell_type": "code",
                  "execution_count": null,
                  "metadata": {},
                  "outputs": [
                        {
                              "name": "stdout",
                              "output_type": "stream",
                              "text": [
                                    "{\n",
                                    "  \"Telex receivers\": \"ASRV1ZY\",\n",
                                    "  \"Message type\": \"LOADING_INSTRUCTION\",\n",
                                    "  \"Subject\": \"ZY2111/03MAY BVH-MCZ; Loading Instruction Edition 01\\r\",\n",
                                    "  \"Attachment file name\": null,\n",
                                    "  \"Compartments\": [],\n",
                                    "  \"Notes\": null\n",
                                    "}\n"
                              ]
                        }
                  ],
                  "source": [
                        "print(extract(x[0]))"
                  ]
            },
            {
                  "cell_type": "code",
                  "execution_count": null,
                  "metadata": {},
                  "outputs": [
                        {
                              "ename": "AttributeError",
                              "evalue": "'numpy.ndarray' object has no attribute 'action_name'",
                              "output_type": "error",
                              "traceback": [
                                    "\u001b[1;31m---------------------------------------------------------------------------\u001b[0m",
                                    "\u001b[1;31mAttributeError\u001b[0m                            Traceback (most recent call last)",
                                    "Cell \u001b[1;32mIn[13], line 1\u001b[0m\n\u001b[1;32m----> 1\u001b[0m x[\u001b[38;5;124m\"\u001b[39m\u001b[38;5;124mdata_UpdateEstimatesAction\u001b[39m\u001b[38;5;124m\"\u001b[39m] \u001b[38;5;241m=\u001b[39m x[\u001b[43mx\u001b[49m\u001b[38;5;241;43m.\u001b[39;49m\u001b[43maction_name\u001b[49m \u001b[38;5;241m==\u001b[39m \u001b[38;5;124m\"\u001b[39m\u001b[38;5;124mUpdateEstimatesAction\u001b[39m\u001b[38;5;124m\"\u001b[39m][\n\u001b[0;32m      2\u001b[0m     \u001b[38;5;124m\"\u001b[39m\u001b[38;5;124mentry_details\u001b[39m\u001b[38;5;124m\"\u001b[39m\n\u001b[0;32m      3\u001b[0m ]\u001b[38;5;241m.\u001b[39mprogress_apply(extract)\n",
                                    "\u001b[1;31mAttributeError\u001b[0m: 'numpy.ndarray' object has no attribute 'action_name'"
                              ]
                        }
                  ],
                  "source": [
                        "\n",
                        "x[\"data_UpdateEstimatesAction\"] = x[x.action_name == \"UpdateEstimatesAction\"][\n",
                        "    \"entry_details\"\n",
                        "].progress_apply(extract)"
                  ]
            },
            {
                  "cell_type": "code",
                  "execution_count": null,
                  "metadata": {},
                  "outputs": [],
                  "source": [
                        "x = df_abcd.copy()"
                  ]
            }
      ],
      "metadata": {
            "kernelspec": {
                  "display_name": "AERO",
                  "language": "python",
                  "name": "python3"
            },
            "language_info": {
                  "codemirror_mode": {
                        "name": "ipython",
                        "version": 3
                  },
                  "file_extension": ".py",
                  "mimetype": "text/x-python",
                  "name": "python",
                  "nbconvert_exporter": "python",
                  "pygments_lexer": "ipython3",
                  "version": "3.10.0"
            }
      },
      "nbformat": 4,
      "nbformat_minor": 2
}
