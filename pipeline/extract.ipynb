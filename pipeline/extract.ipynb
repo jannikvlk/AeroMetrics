{
      "cells": [
            {
                  "cell_type": "code",
                  "execution_count": 1,
                  "metadata": {},
                  "outputs": [],
                  "source": [
                        "import pandas as pd\n",
                        "\n",
                        "from tqdm.auto import tqdm\n",
                        "from pathlib import Path\n",
                        "from concurrent.futures import ThreadPoolExecutor"
                  ]
            },
            {
                  "cell_type": "code",
                  "execution_count": 28,
                  "metadata": {},
                  "outputs": [
                        {
                              "name": "stdout",
                              "output_type": "stream",
                              "text": [
                                    "..\\data\\ABCD_tripfiles.parquet ..\\data\\ABCD_tripfiles_conv.parquet ..\\data\\MNOP_tripfiles.parquet ..\\data\\MNOP_tripfiles_conv.parquet ..\\data\\ZYXW_tripfiles.parquet ..\\data\\ZYXW_tripfiles_conv.parquet\n"
                              ]
                        }
                  ],
                  "source": [
                        "# Define the file paths\n",
                        "parquet_file_abcd = Path(\"../data/ABCD_tripfiles.parquet\")\n",
                        "parquet_file_abcd_conv = Path(\"../data/ABCD_tripfiles_conv.parquet\")\n",
                        "parquet_file_mnop = Path(\"../data/MNOP_tripfiles.parquet\")\n",
                        "parquet_file_mnop_conv = Path(\"../data/MNOP_tripfiles_conv.parquet\")\n",
                        "parquet_file_zyxw = Path(\"../data/ZYXW_tripfiles.parquet\")\n",
                        "parquet_file_zyxw_conv = Path(\"../data/ZYXW_tripfiles_conv.parquet\")\n",
                        "print(\n",
                        "    parquet_file_abcd,\n",
                        "    parquet_file_abcd_conv,\n",
                        "    parquet_file_mnop,\n",
                        "    parquet_file_mnop_conv,\n",
                        "    parquet_file_zyxw,\n",
                        "    parquet_file_zyxw_conv,\n",
                        ")"
                  ]
            },
            {
                  "cell_type": "code",
                  "execution_count": 29,
                  "metadata": {},
                  "outputs": [],
                  "source": [
                        "df_abcd = pd.read_parquet(parquet_file_abcd)\n",
                        "df_mnop = pd.read_parquet(parquet_file_mnop)\n",
                        "df_zyxw = pd.read_parquet(parquet_file_zyxw)"
                  ]
            },
            {
                  "cell_type": "code",
                  "execution_count": 30,
                  "metadata": {},
                  "outputs": [],
                  "source": [
                        "# print(round(df_abcd.memory_usage(deep=True).sum() / 1024**2, 2), \"MB\")\n",
                        "# print(round(df_mnop.memory_usage(deep=True).sum() / 1024**2, 2), \"MB\")\n",
                        "# print(round(df_zyxw.memory_usage(deep=True).sum() / 1024**2, 2), \"MB\")"
                  ]
            },
            {
                  "cell_type": "code",
                  "execution_count": 31,
                  "metadata": {},
                  "outputs": [],
                  "source": [
                        "from actions import (\n",
                        "    CalculateWeightAndTrimAction,\n",
                        "    CheckinMsgProcessor,\n",
                        "    CreateLoadingInstructionAction,\n",
                        "    CreateLoadSheetAction,\n",
                        "    CreateZFWMessageAction,\n",
                        "    EstimateStorePaxDataAction,\n",
                        "    RampFinalAction,\n",
                        "    SendFuelOrderAction,\n",
                        "    SendLoadingInstructionAction,\n",
                        "    SendLoadsheetAction,\n",
                        "    SetActualBagWeightIndicatorAction,\n",
                        "    SetCKIPaxDistributionAction,\n",
                        "    StoreAircraftDataAction,\n",
                        "    StorePaxDataAction,\n",
                        "    StoreRegistrationAndConfigurationAc,\n",
                        "    TdmCreateLoadingInstructionAction,\n",
                        "    TransferCargoAction,\n",
                        "    TransferCheckinDataAction,\n",
                        "    UpdateEstimatesAction,\n",
                        "    UpdateFuelDataAction,\n",
                        "    UpdateLoadTableAction,\n",
                        "    UpdateTransitLoadTableAction,\n",
                        ")"
                  ]
            },
            {
                  "cell_type": "code",
                  "execution_count": 32,
                  "metadata": {},
                  "outputs": [],
                  "source": [
                        "action_extractors = {\n",
                        "    \"CalculateWeightAndTrimAction\": CalculateWeightAndTrimAction.extract,\n",
                        "    \"CheckinMsgProcessor\": CheckinMsgProcessor.extract,\n",
                        "    \"CreateLoadingInstructionAction\": CreateLoadingInstructionAction.extract,\n",
                        "    \"CreateLoadSheetAction\": CreateLoadSheetAction.extract,\n",
                        "    \"CreateZFWMessageAction\": CreateZFWMessageAction.extract,\n",
                        "    \"EstimateStorePaxDataAction\": EstimateStorePaxDataAction.extract,\n",
                        "    \"RampFinalAction\": RampFinalAction.extract,\n",
                        "    \"SendFuelOrderAction\": SendFuelOrderAction.extract,\n",
                        "    \"SendLoadingInstructionAction\": SendLoadingInstructionAction.extract,\n",
                        "    \"SendLoadsheetAction\": SendLoadsheetAction.extract,\n",
                        "    \"SetActualBagWeightIndicatorAction\": SetActualBagWeightIndicatorAction.extract,\n",
                        "    \"SetCKIPaxDistributionAction\": SetCKIPaxDistributionAction.extract,\n",
                        "    \"StoreAircraftDataAction\": StoreAircraftDataAction.extract,\n",
                        "    \"StorePaxDataAction\": StorePaxDataAction.extract,\n",
                        "    \"StorePaxDataGuiAction\": StorePaxDataAction.extract,\n",
                        "    \"StoreRegistrationAndConfigurationAc\": StoreRegistrationAndConfigurationAc.extract,\n",
                        "    \"TdmCreateLoadingInstructionAction\": TdmCreateLoadingInstructionAction.extract,\n",
                        "    \"TransferCargoAction\": TransferCargoAction.extract,\n",
                        "    \"TransferCheckinDataAction\": TransferCheckinDataAction.extract,\n",
                        "    \"UpdateEstimatesAction\": UpdateEstimatesAction.extract,\n",
                        "    \"UpdateFuelDataAction\": UpdateFuelDataAction.extract,\n",
                        "    \"UpdateLoadTableAction\": UpdateLoadTableAction.extract,\n",
                        "    \"UpdateTransitLoadTableAction\": UpdateTransitLoadTableAction.extract,\n",
                        "}"
                  ]
            },
            {
                  "cell_type": "code",
                  "execution_count": 33,
                  "metadata": {},
                  "outputs": [],
                  "source": [
                        "def extract_df(\n",
                        "    df: pd.DataFrame, progress_bar: bool = False, label: str | None = None\n",
                        ") -> pd.DataFrame:\n",
                        "    \"\"\"Extract specific data based on predefined action extractors, optionally displaying a progress bar and labels.\n",
                        "\n",
                        "    This function iterates over a dictionary of action names and their associated extractor functions, applying each\n",
                        "    extractor to the relevant entries in the DataFrame. The results are stored in new columns in the DataFrame.\n",
                        "\n",
                        "    Args:\n",
                        "        df (pd.DataFrame): The DataFrame from which data will be extracted.\n",
                        "            It must contain columns that match the keys in the action_extractors dictionary.\n",
                        "        progress_bar (bool, optional): If True, displays a progress bar during the data extraction process.\n",
                        "            Useful for visual feedback during long operations. Defaults to False.\n",
                        "        label (str | None, optional): An optional label that prefixes the print statements for better traceability during debugging.\n",
                        "            If None, only the action name is printed. Defaults to None.\n",
                        "\n",
                        "    Returns:\n",
                        "        pd.DataFrame: The original DataFrame with additional columns containing the extracted data.\n",
                        "    \"\"\"\n",
                        "\n",
                        "    if progress_bar:\n",
                        "        tqdm.pandas()\n",
                        "    for action_name, extractor in action_extractors.items():\n",
                        "        if extractor is not None:\n",
                        "            if label:\n",
                        "                print(label, action_name)\n",
                        "            else:\n",
                        "                print(action_name)\n",
                        "            if progress_bar:\n",
                        "                df[f\"data_{action_name}\"] = df[df.action_name == action_name][\n",
                        "                    \"entry_details\"\n",
                        "                ].progress_apply(extractor)\n",
                        "            else:\n",
                        "                df[f\"data_{action_name}\"] = df[df.action_name == action_name][\n",
                        "                    \"entry_details\"\n",
                        "                ].apply(extractor)\n",
                        "\n",
                        "    return df"
                  ]
            },
            {
                  "cell_type": "code",
                  "execution_count": 35,
                  "metadata": {},
                  "outputs": [
                        {
                              "name": "stdout",
                              "output_type": "stream",
                              "text": [
                                    "ABCD CalculateWeightAndTrimAction\n",
                                    "MNOP CalculateWeightAndTrimAction\n",
                                    "ZYXW CalculateWeightAndTrimAction\n",
                                    "ZYXW CheckinMsgProcessor\n",
                                    "ZYXW CreateLoadingInstructionAction\n",
                                    "ZYXW CreateLoadSheetAction\n",
                                    "ZYXW CreateZFWMessageAction\n",
                                    "ZYXW EstimateStorePaxDataAction\n",
                                    "ZYXW RampFinalAction\n",
                                    "ZYXW SendFuelOrderAction\n",
                                    "ZYXW SendLoadingInstructionAction\n",
                                    "ZYXW SendLoadsheetAction\n",
                                    "ZYXW SetActualBagWeightIndicatorAction\n",
                                    "ABCD CheckinMsgProcessor\n",
                                    "ZYXW SetCKIPaxDistributionAction\n",
                                    "ZYXW StoreAircraftDataAction\n",
                                    "ZYXW StorePaxDataAction\n",
                                    "ABCD CreateLoadingInstructionAction\n",
                                    "ABCD CreateLoadSheetAction\n",
                                    "ABCD CreateZFWMessageAction\n",
                                    "ABCD EstimateStorePaxDataAction\n",
                                    "ZYXW StorePaxDataGuiAction\n",
                                    "ABCD RampFinalAction\n",
                                    "ZYXW StoreRegistrationAndConfigurationAc\n",
                                    "ABCD SendFuelOrderAction\n",
                                    "ABCD SendLoadingInstructionAction\n",
                                    "ABCD SendLoadsheetAction\n",
                                    "ABCD SetActualBagWeightIndicatorAction\n",
                                    "ZYXW TdmCreateLoadingInstructionAction\n",
                                    "ZYXW TransferCargoAction\n",
                                    "ABCD SetCKIPaxDistributionAction\n",
                                    "ABCD StoreAircraftDataAction\n",
                                    "ABCD StorePaxDataAction\n",
                                    "ZYXW TransferCheckinDataAction\n",
                                    "ZYXW UpdateEstimatesAction\n",
                                    "ZYXW UpdateFuelDataAction\n",
                                    "ZYXW UpdateLoadTableAction\n",
                                    "ZYXW UpdateTransitLoadTableAction\n",
                                    "MNOP CheckinMsgProcessor\n",
                                    "MNOP CreateLoadingInstructionAction\n",
                                    "MNOP CreateLoadSheetAction\n",
                                    "MNOP CreateZFWMessageAction\n",
                                    "MNOP EstimateStorePaxDataAction\n",
                                    "MNOP RampFinalAction\n",
                                    "MNOP SendFuelOrderAction\n",
                                    "MNOP SendLoadingInstructionAction\n",
                                    "MNOP SendLoadsheetAction\n",
                                    "MNOP SetActualBagWeightIndicatorAction\n",
                                    "MNOP SetCKIPaxDistributionAction\n",
                                    "MNOP StoreAircraftDataAction\n",
                                    "MNOP StorePaxDataAction\n",
                                    "ABCD StorePaxDataGuiAction\n",
                                    "ABCD StoreRegistrationAndConfigurationAc\n",
                                    "ABCD TdmCreateLoadingInstructionAction\n",
                                    "ABCD TransferCargoAction\n",
                                    "ABCD TransferCheckinDataAction\n",
                                    "ABCD UpdateEstimatesAction\n",
                                    "ABCD UpdateFuelDataAction\n",
                                    "ABCD UpdateLoadTableAction\n",
                                    "ABCD UpdateTransitLoadTableAction\n",
                                    "MNOP StorePaxDataGuiAction\n",
                                    "MNOP StoreRegistrationAndConfigurationAc\n",
                                    "MNOP TdmCreateLoadingInstructionAction\n",
                                    "MNOP TransferCargoAction\n",
                                    "MNOP TransferCheckinDataAction\n",
                                    "MNOP UpdateEstimatesAction\n",
                                    "MNOP UpdateFuelDataAction\n",
                                    "MNOP UpdateLoadTableAction\n",
                                    "MNOP UpdateTransitLoadTableAction\n"
                              ]
                        }
                  ],
                  "source": [
                        "def process_data(df, file_path, label):\n",
                        "\n",
                        "    df_conv = extract_df(\n",
                        "        df,\n",
                        "        progress_bar=False,\n",
                        "        label=label,\n",
                        "    )\n",
                        "    df_conv.to_parquet(file_path, engine=\"pyarrow\", compression=\"brotli\")\n",
                        "\n",
                        "\n",
                        "# Create a ThreadPoolExecutor\n",
                        "\n",
                        "with ThreadPoolExecutor(max_workers=3) as executor:\n",
                        "    futures = [\n",
                        "        executor.submit(process_data, df_abcd, parquet_file_abcd_conv, \"ABCD\"),\n",
                        "        executor.submit(process_data, df_mnop, parquet_file_mnop_conv, \"MNOP\"),\n",
                        "        executor.submit(process_data, df_zyxw, parquet_file_zyxw_conv, \"ZYXW\"),\n",
                        "    ]\n",
                        "\n",
                        "    # Optional: Wait for all futures to complete\n",
                        "    for future in futures:\n",
                        "        future.result()  # This will re-raise any exceptions that occurred during task execution"
                  ]
            },
            {
                  "cell_type": "code",
                  "execution_count": null,
                  "metadata": {},
                  "outputs": [],
                  "source": [
                        "# print(\"ABCD\")\n",
                        "# df_abcd_conv = extract_df(df_abcd, progress_bar=True)\n",
                        "# df_abcd_conv.to_parquet(parquet_file_abcd_conv, engine=\"pyarrow\", compression=\"brotli\")\n",
                        "# print(\"MNOP\")\n",
                        "# df_mnop_conv = extract_df(df_mnop, progress_bar=True)\n",
                        "# df_mnop_conv.to_parquet(parquet_file_mnop_conv, engine=\"pyarrow\", compression=\"brotli\")\n",
                        "# print(\"ZYXW\")\n",
                        "# df_zyxw_conv = extract_df(df_zyxw, progress_bar=True)\n",
                        "# df_zyxw_conv.to_parquet(parquet_file_zyxw_conv, engine=\"pyarrow\", compression=\"brotli\")"
                  ]
            },
            {
                  "cell_type": "code",
                  "execution_count": 36,
                  "metadata": {},
                  "outputs": [
                        {
                              "data": {
                                    "text/plain": [
                                          "Index(['id', 'creation_time', 'airline_code', 'flight_number', 'flight_date',\n",
                                          "       'departure_airport', 'user_name', 'action_name', 'header_line',\n",
                                          "       'entry_details', 'data_CalculateWeightAndTrimAction',\n",
                                          "       'data_CheckinMsgProcessor', 'data_CreateLoadingInstructionAction',\n",
                                          "       'data_CreateLoadSheetAction', 'data_CreateZFWMessageAction',\n",
                                          "       'data_EstimateStorePaxDataAction', 'data_RampFinalAction',\n",
                                          "       'data_SendFuelOrderAction', 'data_SendLoadingInstructionAction',\n",
                                          "       'data_SendLoadsheetAction', 'data_SetActualBagWeightIndicatorAction',\n",
                                          "       'data_SetCKIPaxDistributionAction', 'data_StoreAircraftDataAction',\n",
                                          "       'data_StorePaxDataAction', 'data_StorePaxDataGuiAction',\n",
                                          "       'data_StoreRegistrationAndConfigurationAc',\n",
                                          "       'data_TdmCreateLoadingInstructionAction', 'data_TransferCargoAction',\n",
                                          "       'data_TransferCheckinDataAction', 'data_UpdateEstimatesAction',\n",
                                          "       'data_UpdateFuelDataAction', 'data_UpdateLoadTableAction',\n",
                                          "       'data_UpdateTransitLoadTableAction'],\n",
                                          "      dtype='object')"
                                    ]
                              },
                              "execution_count": 36,
                              "metadata": {},
                              "output_type": "execute_result"
                        }
                  ],
                  "source": [
                        "df_zyxw.columns"
                  ]
            },
            {
                  "cell_type": "code",
                  "execution_count": 31,
                  "metadata": {},
                  "outputs": [
                        {
                              "data": {
                                    "text/plain": [
                                          "array(['2024-05-06'], dtype=object)"
                                    ]
                              },
                              "execution_count": 31,
                              "metadata": {},
                              "output_type": "execute_result"
                        }
                  ],
                  "source": [
                        "df_zyxw[df_zyxw.flight_date == 13].creation_time.apply(lambda x: str(x)[0:10]).unique()"
                  ]
            },
            {
                  "cell_type": "code",
                  "execution_count": 35,
                  "metadata": {},
                  "outputs": [
                        {
                              "name": "stdout",
                              "output_type": "stream",
                              "text": [
                                    "['2024-05-01' '2024-05-02' '2024-05-03' '2024-05-04' '2024-05-06'\n",
                                    " '2024-05-05' '2024-04-30' '2024-05-07']\n",
                                    "['2024-04-30' '2024-05-01' '2024-05-02' '2024-05-03' '2024-05-04'\n",
                                    " '2024-05-05' '2024-05-06' '2024-05-07']\n",
                                    "['2024-04-30' '2024-05-01' '2024-05-02' '2024-05-03' '2024-05-04'\n",
                                    " '2024-05-05' '2024-05-06' '2024-05-07']\n"
                              ]
                        }
                  ],
                  "source": [
                        "print(df_abcd.creation_time.apply(lambda x: str(x)[0:10]).unique())\n",
                        "print(df_mnop.creation_time.apply(lambda x: str(x)[0:10]).unique())\n",
                        "print(df_zyxw.creation_time.apply(lambda x: str(x)[0:10]).unique())"
                  ]
            },
            {
                  "cell_type": "code",
                  "execution_count": null,
                  "metadata": {},
                  "outputs": [],
                  "source": [
                        "# Example on how to effectively filter out different variations of the same message\n",
                        "df = df_abcd\n",
                        "\n",
                        "\n",
                        "x = df[\n",
                        "    (df.action_name == \"UpdateEstimatesAction\")\n",
                        "    # & (~df[\"entry_details\"].isnull())\n",
                        "    & (\n",
                        "        ~df[\"entry_details\"].str.contains(\n",
                        "            \"com.onesystem.lc2.estimateshandling.dto.EstimateWeightsDTO\", na=False\n",
                        "        )\n",
                        "    )  # abcd\n",
                        "    & (\n",
                        "        ~df[\"entry_details\"].str.contains(\n",
                        "            \"com.systemone.lc2.estimateshandling.dto.EstimateWeightsDTO\", na=False\n",
                        "        )\n",
                        "    )  # zyxw\n",
                        "    # & (\n",
                        "    #     ~df[\"entry_details\"].str.contains(\"STATUS LOADING_INSTRUCTION\", na=False)\n",
                        "    # )  # STATUS LOZYING_INSTRUCTION also included\n",
                        "    # & (~df[\"entry_details\"].str.contains(\"STATUS LOZYING_INSTRUCTION\", na=False))\n",
                        "    # & (\n",
                        "    #     ~df[\"entry_details\"].str.contains(\"Email receivers\", na=False)\n",
                        "    # )  # don't include this\n",
                        "    # & (\n",
                        "    #     ~df[\"entry_details\"].str.contains(\"Telex receivers\", na=False)\n",
                        "    # )  # don't include this\n",
                        "][\"entry_details\"].unique()"
                  ]
            }
      ],
      "metadata": {
            "kernelspec": {
                  "display_name": "AERO",
                  "language": "python",
                  "name": "python3"
            },
            "language_info": {
                  "codemirror_mode": {
                        "name": "ipython",
                        "version": 3
                  },
                  "file_extension": ".py",
                  "mimetype": "text/x-python",
                  "name": "python",
                  "nbconvert_exporter": "python",
                  "pygments_lexer": "ipython3",
                  "version": "3.11.9"
            }
      },
      "nbformat": 4,
      "nbformat_minor": 2
}
