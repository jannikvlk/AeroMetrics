{
 "cells": [
  {
   "cell_type": "code",
   "execution_count": 2,
   "metadata": {},
   "outputs": [
    {
     "name": "stderr",
     "output_type": "stream",
     "text": [
      "C:\\Users\\voelk\\AppData\\Roaming\\Python\\Python312\\site-packages\\tqdm\\auto.py:21: TqdmWarning: IProgress not found. Please update jupyter and ipywidgets. See https://ipywidgets.readthedocs.io/en/stable/user_install.html\n",
      "  from .autonotebook import tqdm as notebook_tqdm\n"
     ]
    }
   ],
   "source": [
    "import pandas as pd\n",
    "from tqdm.auto import tqdm\n",
    "import actions\n",
    "from pathlib import Path\n",
    "from utils import *\n",
    "import re\n",
    "from tqdm.auto import tqdm"
   ]
  },
  {
   "cell_type": "code",
   "execution_count": 3,
   "metadata": {},
   "outputs": [
    {
     "name": "stdout",
     "output_type": "stream",
     "text": [
      "..\\data\\ABCD_tripfiles.parquet ..\\data\\ABCD_tripfiles_conv.parquet ..\\data\\MNOP_tripfiles.parquet ..\\data\\MNOP_tripfiles_conv.parquet ..\\data\\ZYXW_tripfiles.parquet ..\\data\\ZYXW_tripfiles_conv.parquet\n"
     ]
    }
   ],
   "source": [
    "# Define the file paths\n",
    "parquet_file_abcd = Path(\"../data/ABCD_tripfiles.parquet\")\n",
    "parquet_file_abcd_conv = Path(\"../data/ABCD_tripfiles_conv.parquet\")\n",
    "parquet_file_mnop = Path(\"../data/MNOP_tripfiles.parquet\")\n",
    "parquet_file_mnop_conv = Path(\"../data/MNOP_tripfiles_conv.parquet\")\n",
    "parquet_file_zyxw = Path(\"../data/ZYXW_tripfiles.parquet\")\n",
    "parquet_file_zyxw_conv = Path(\"../data/ZYXW_tripfiles_conv.parquet\")\n",
    "print(\n",
    "    parquet_file_abcd,\n",
    "    parquet_file_abcd_conv,\n",
    "    parquet_file_mnop,\n",
    "    parquet_file_mnop_conv,\n",
    "    parquet_file_zyxw,\n",
    "    parquet_file_zyxw_conv,\n",
    ")"
   ]
  },
  {
   "cell_type": "code",
   "execution_count": 4,
   "metadata": {},
   "outputs": [],
   "source": [
    "df_abcd = pd.read_parquet(parquet_file_abcd)\n",
    "df_mnop = pd.read_parquet(parquet_file_mnop)\n",
    "df_zyxw = pd.read_parquet(parquet_file_zyxw)"
   ]
  },
  {
   "cell_type": "code",
   "execution_count": 5,
   "metadata": {},
   "outputs": [
    {
     "name": "stdout",
     "output_type": "stream",
     "text": [
      "1214.94 MB\n",
      "2219.62 MB\n",
      "585.54 MB\n"
     ]
    }
   ],
   "source": [
    "print(round(df_abcd.memory_usage(deep=True).sum() / 1024**2, 2), \"MB\")\n",
    "print(round(df_mnop.memory_usage(deep=True).sum() / 1024**2, 2), \"MB\")\n",
    "print(round(df_zyxw.memory_usage(deep=True).sum() / 1024**2, 2), \"MB\")"
   ]
  },
  {
   "cell_type": "code",
   "execution_count": 6,
   "metadata": {},
   "outputs": [
    {
     "data": {
      "text/plain": [
       "49"
      ]
     },
     "execution_count": 6,
     "metadata": {},
     "output_type": "execute_result"
    }
   ],
   "source": [
    "action_names = set(df_abcd.action_name.unique())\n",
    "len(action_names)"
   ]
  },
  {
   "cell_type": "code",
   "execution_count": 7,
   "metadata": {},
   "outputs": [],
   "source": [
    "action_names.update(set(df_mnop.action_name.unique()))\n",
    "action_names.update(set(df_zyxw.action_name.unique()))"
   ]
  },
  {
   "cell_type": "code",
   "execution_count": 8,
   "metadata": {},
   "outputs": [],
   "source": [
    "action_extractors = {\n",
    "    \"CalculateWeightAndTrimAction\": None,\n",
    "    \"CheckinMsgProcessor\": None,\n",
    "    \"CreateLoadsheetAction\": None,\n",
    "    \"CreateZFWMessageAction\": None,\n",
    "    \"SendFuelOrderAction\": None,\n",
    "    \"SendLoadsheetAction\": None,\n",
    "    \"SetActualBagWeightIndicatorAction\": None,\n",
    "    \"StorePaxDataAction\": None,\n",
    "    \"StoreRegistrationAndConfigurationAc\": None,\n",
    "    \"UpdateFuelDataAction\": None,\n",
    "    \"RampFinalAction\": actions.RampFinalAction.extract,\n",
    "    \"CreateLoadingInstructionAction\": None,\n",
    "    \"CopyPaxDataAction\": None,\n",
    "    \"CreateBaggageLoadItemsAction\": None,\n",
    "    \"EstimateStorePaxDataAction\": None,\n",
    "    \"SendLoadingInstructionAction\": None,\n",
    "    \"SetCKIPaxDistributionAction\": actions.SetCKIPaxDistributionAction.extract,\n",
    "    \"SpecialPaxWeightAction\": None,\n",
    "    \"StoreAircraftDataAction\": None,\n",
    "    \"StoreCKIAverageWeightAction\": None,\n",
    "    \"StorePaxDataGuiAction\": None,\n",
    "    \"TdmCreateLoadingInstructionAction\": None,\n",
    "    \"TransferCargoAction\": None,\n",
    "    \"TransferCheckinDataAction\": None,\n",
    "    \"UpdateCargoMailEstimatesAction\": None,\n",
    "    \"UpdateEstimatesAction\": None,\n",
    "    \"UpdateLastEzfwSentAction\": None,\n",
    "    \"UpdateLoadTableAction\": None,\n",
    "}"
   ]
  },
  {
   "cell_type": "code",
   "execution_count": 9,
   "metadata": {},
   "outputs": [
    {
     "name": "stdout",
     "output_type": "stream",
     "text": [
      "RampFinalAction\n"
     ]
    },
    {
     "name": "stderr",
     "output_type": "stream",
     "text": [
      "100%|██████████| 3804/3804 [00:00<00:00, 30473.73it/s]"
     ]
    },
    {
     "name": "stdout",
     "output_type": "stream",
     "text": [
      "SetCKIPaxDistributionAction\n"
     ]
    },
    {
     "name": "stderr",
     "output_type": "stream",
     "text": [
      "\n",
      "0it [00:00, ?it/s]\n"
     ]
    },
    {
     "name": "stdout",
     "output_type": "stream",
     "text": [
      "RampFinalAction\n"
     ]
    },
    {
     "name": "stderr",
     "output_type": "stream",
     "text": [
      "100%|██████████| 5612/5612 [00:00<00:00, 43326.92it/s]"
     ]
    },
    {
     "name": "stdout",
     "output_type": "stream",
     "text": [
      "SetCKIPaxDistributionAction\n"
     ]
    },
    {
     "name": "stderr",
     "output_type": "stream",
     "text": [
      "\n",
      "0it [00:00, ?it/s]\n"
     ]
    },
    {
     "name": "stdout",
     "output_type": "stream",
     "text": [
      "RampFinalAction\n"
     ]
    },
    {
     "name": "stderr",
     "output_type": "stream",
     "text": [
      "100%|██████████| 65/65 [00:00<00:00, 32479.12it/s]\n"
     ]
    },
    {
     "name": "stdout",
     "output_type": "stream",
     "text": [
      "SetCKIPaxDistributionAction\n"
     ]
    },
    {
     "name": "stderr",
     "output_type": "stream",
     "text": [
      "100%|██████████| 11598/11598 [00:00<00:00, 52122.30it/s]\n"
     ]
    }
   ],
   "source": [
    "def extract_df(df: pd.DataFrame):\n",
    "    tqdm.pandas()\n",
    "    for action_name, extractor in action_extractors.items():\n",
    "\n",
    "        if extractor is not None:\n",
    "            print(action_name)\n",
    "\n",
    "            df[f\"data_{action_name}\"] = df[df.action_name == action_name][\n",
    "                \"entry_details\"\n",
    "            ].progress_apply(extractor)\n",
    "    return df\n",
    "\n",
    "\n",
    "df_abcd_conv = extract_df(df_abcd)\n",
    "df_abcd_conv.to_parquet(parquet_file_abcd_conv, engine=\"pyarrow\", compression=\"brotli\")\n",
    "\n",
    "df_mnop_conv = extract_df(df_mnop)\n",
    "df_mnop_conv.to_parquet(parquet_file_mnop_conv, engine=\"pyarrow\", compression=\"brotli\")\n",
    "\n",
    "df_zyxw_conv = extract_df(df_zyxw)\n",
    "df_zyxw_conv.to_parquet(parquet_file_zyxw_conv, engine=\"pyarrow\", compression=\"brotli\")"
   ]
  },
  {
   "cell_type": "code",
   "execution_count": 285,
   "metadata": {},
   "outputs": [],
   "source": [
    "df = df_zyxw\n",
    "\n",
    "\n",
    "x = df[\n",
    "    (df.action_name == \"SetCKIPaxDistributionAction\")\n",
    "    # & (~df[\"entry_details\"].isnull())\n",
    "    # & (~df[\"entry_details\"].str.contains(\"Discrepancy check result\", na=False))\n",
    "    # & (~df[\"entry_details\"].str.contains(\"Caller user\", na=False))  # don't include this\n",
    "][\"entry_details\"].unique()"
   ]
  },
  {
   "cell_type": "code",
   "execution_count": null,
   "metadata": {},
   "outputs": [],
   "source": [
    "\"\"\"TOTAL Pax: 6    Y: 6  Jump: 0    StandBy: NULL  Male: 2  Female: 2  Child: 2  Infant: 0  Total bag: 6  Total bag weight: 72.0 KG  Baggage weight type: HISTORIC\\r\\n \n",
    "\n",
    "Distribution        : CKI_DISTRIBUTION         \\r\\n \n",
    "Section             : 0A                       0C                       \\r\\n \n",
    "Capacity            : Y72                      Y102                     \\r\\n \n",
    "Distribution        : Y0                       Y0\"\"\""
   ]
  },
  {
   "cell_type": "code",
   "execution_count": null,
   "metadata": {},
   "outputs": [],
   "source": [
    "foo: set = set()"
   ]
  },
  {
   "cell_type": "code",
   "execution_count": 103,
   "metadata": {},
   "outputs": [],
   "source": [
    "for message in x:\n",
    "    items = message.split(\" \")\n",
    "    for item in items:\n",
    "        if not item.isdigit():\n",
    "            foo.add(item)"
   ]
  },
  {
   "cell_type": "code",
   "execution_count": 104,
   "metadata": {},
   "outputs": [
    {
     "data": {
      "text/plain": [
       "{'AIRBORNE',\n",
       " 'AIRCRAFT_CONFIG',\n",
       " 'ALLOWANCE_CHECK_PERFORMED',\n",
       " 'AUTOMATION_STARTED',\n",
       " 'AUTO_MODE_ACTIVE',\n",
       " 'BAG_LOAD_ITEMS_GEN',\n",
       " 'BAG_LOZY_ITEMS_GEN',\n",
       " 'BAG_ULD_ORD',\n",
       " 'CABIN_CONFIG',\n",
       " 'CALC_HIST_DATA',\n",
       " 'CARGO_FINAL',\n",
       " 'CARGO_TRANSFER',\n",
       " 'CHECK_IN_FINAL',\n",
       " 'CHECK_IN_OPEN',\n",
       " 'DGR_ITEMS',\n",
       " 'EZFW',\n",
       " 'EZFW_COUNTER',\n",
       " 'FINAL_RELEASE',\n",
       " 'FUEL',\n",
       " 'FUEL_ORDER',\n",
       " 'LDM',\n",
       " 'LOADING_INSTRUCTION',\n",
       " 'LOADSHEET',\n",
       " 'LOZYING_INSTRUCTION',\n",
       " 'LOZYSHEET',\n",
       " 'OFFBLOCK',\n",
       " 'OFP',\n",
       " 'PDM',\n",
       " 'RAMP_FINAL',\n",
       " 'REGISTRATION',\n",
       " 'REGISTRATION_CHANGE',\n",
       " 'STATUS',\n",
       " 'TRANSIT_ACCEPTANCE',\n",
       " 'TRANSIT_PAX'}"
      ]
     },
     "execution_count": 104,
     "metadata": {},
     "output_type": "execute_result"
    }
   ],
   "source": [
    "foo"
   ]
  },
  {
   "cell_type": "code",
   "execution_count": null,
   "metadata": {},
   "outputs": [],
   "source": []
  },
  {
   "cell_type": "code",
   "execution_count": 309,
   "metadata": {},
   "outputs": [
    {
     "data": {
      "text/plain": [
       "{'TOTAL Pax': None,\n",
       " 'Y': 0,\n",
       " 'Jump': None,\n",
       " 'StandBy': None,\n",
       " 'Male': None,\n",
       " 'Female': None,\n",
       " 'Child': None,\n",
       " 'Infant': None,\n",
       " 'Total bag': 0,\n",
       " 'Total bag weight': 0.0,\n",
       " 'Baggage weight type': 'HISTORIC',\n",
       " 'Weight unit': 'KG',\n",
       " 'Sections': {'0A': {'Capacity': 'Y72', 'Distribution': 'Y0'},\n",
       "  '0C': {'Capacity': 'Y102', 'Distribution': 'Y0'}},\n",
       " 'Distribution': 'CKI_DISTRIBUTION'}"
      ]
     },
     "execution_count": 309,
     "metadata": {},
     "output_type": "execute_result"
    }
   ],
   "source": [
    "extract(df_zyxw[df_zyxw.id == 375438310][\"entry_details\"].iloc(0)[0])"
   ]
  },
  {
   "cell_type": "code",
   "execution_count": 308,
   "metadata": {},
   "outputs": [
    {
     "data": {
      "text/plain": [
       "'TOTAL Pax: NULL    Y: 0  Jump: NULL    StandBy: NULL  Male: NULL  Female: NULL  Child: NULL  Infant: NULL  Total bag: 0  Total bag weight: 0.0 KG  Baggage weight type: HISTORIC\\r\\n Distribution        : CKI_DISTRIBUTION         \\r\\n Section             : 0A                       0C                       \\r\\n Capacity            : Y72                      Y102                     \\r\\n Distribution        : Y0                       Y0'"
      ]
     },
     "execution_count": 308,
     "metadata": {},
     "output_type": "execute_result"
    }
   ],
   "source": [
    "df_zyxw[df_zyxw.id == 375438310][\"entry_details\"].iloc(0)[0]"
   ]
  },
  {
   "cell_type": "code",
   "execution_count": 302,
   "metadata": {},
   "outputs": [
    {
     "data": {
      "text/plain": [
       "id                                                           375438310\n",
       "creation_time                                      2024-05-05 05:06:37\n",
       "airline_code                                                        ZY\n",
       "flight_number                                                     5032\n",
       "flight_date                                                          5\n",
       "departure_airport                                                  REC\n",
       "user_name                                                 service-acco\n",
       "action_name                                SetCKIPaxDistributionAction\n",
       "header_line          2024-05-05 05:06:37,437 INFO  [b871eebd4cb0966...\n",
       "entry_details        TOTAL Pax: NULL    Y: 0  Jump: NULL    StandBy...\n",
       "Name: 334375, dtype: object"
      ]
     },
     "execution_count": 302,
     "metadata": {},
     "output_type": "execute_result"
    }
   ],
   "source": [
    "x[x.action_name == \"SetCKIPaxDistributionAction\"].iloc(0)[8836]"
   ]
  },
  {
   "cell_type": "code",
   "execution_count": 316,
   "metadata": {},
   "outputs": [
    {
     "name": "stderr",
     "output_type": "stream",
     "text": [
      "100%|██████████| 11598/11598 [00:00<00:00, 53015.90it/s]\n"
     ]
    }
   ],
   "source": [
    "x = df_zyxw.copy()\n",
    "x[\"data_SetCKIPaxDistributionAction\"] = x[\n",
    "    x.action_name == \"SetCKIPaxDistributionAction\"\n",
    "][\"entry_details\"].progress_apply(extract)"
   ]
  }
 ],
 "metadata": {
  "kernelspec": {
   "display_name": "AERO",
   "language": "python",
   "name": "python3"
  },
  "language_info": {
   "codemirror_mode": {
    "name": "ipython",
    "version": 3
   },
   "file_extension": ".py",
   "mimetype": "text/x-python",
   "name": "python",
   "nbconvert_exporter": "python",
   "pygments_lexer": "ipython3",
   "version": "3.12.3"
  }
 },
 "nbformat": 4,
 "nbformat_minor": 2
}
