{
 "cells": [
  {
   "cell_type": "code",
   "execution_count": 46,
   "metadata": {},
   "outputs": [],
   "source": [
    "import pandas as pd\n",
    "\n",
    "import tqdm\n",
    "import actions\n",
    "from pathlib import Path"
   ]
  },
  {
   "cell_type": "code",
   "execution_count": 54,
   "metadata": {},
   "outputs": [
    {
     "name": "stdout",
     "output_type": "stream",
     "text": [
      "..\\data\\ABCD_tripfiles.parquet ..\\data\\ABCD_tripfiles_conv.parquet ..\\data\\MNOP_tripfiles.parquet ..\\data\\MNOP_tripfiles_conv.parquet ..\\data\\ZYXW_tripfiles.parquet ..\\data\\ZYXW_tripfiles_conv.parquet\n"
     ]
    }
   ],
   "source": [
    "# Define the file paths\n",
    "parquet_file_abcd = Path(\"../data/ABCD_tripfiles.parquet\")\n",
    "parquet_file_abcd_conv = Path(\"../data/ABCD_tripfiles_conv.parquet\")\n",
    "parquet_file_mnop = Path(\"../data/MNOP_tripfiles.parquet\")\n",
    "parquet_file_mnop_conv = Path(\"../data/MNOP_tripfiles_conv.parquet\")\n",
    "parquet_file_zyxw = Path(\"../data/ZYXW_tripfiles.parquet\")\n",
    "parquet_file_zyxw_conv = Path(\"../data/ZYXW_tripfiles_conv.parquet\")\n",
    "print(\n",
    "    parquet_file_abcd,\n",
    "    parquet_file_abcd_conv,\n",
    "    parquet_file_mnop,\n",
    "    parquet_file_mnop_conv,\n",
    "    parquet_file_zyxw,\n",
    "    parquet_file_zyxw_conv,\n",
    ")"
   ]
  },
  {
   "cell_type": "code",
   "execution_count": 53,
   "metadata": {},
   "outputs": [],
   "source": [
    "df_abcd = pd.read_parquet(parquet_file_abcd)\n",
    "df_mnop = pd.read_parquet(parquet_file_mnop)\n",
    "df_zyxw = pd.read_parquet(parquet_file_zyxw)"
   ]
  },
  {
   "cell_type": "code",
   "execution_count": 18,
   "metadata": {},
   "outputs": [
    {
     "name": "stdout",
     "output_type": "stream",
     "text": [
      "1214.94 MB\n",
      "2219.62 MB\n",
      "585.54 MB\n"
     ]
    }
   ],
   "source": [
    "print(round(df_abcd.memory_usage(deep=True).sum() / 1024**2, 2), \"MB\")\n",
    "print(round(df_mnop.memory_usage(deep=True).sum() / 1024**2, 2), \"MB\")\n",
    "print(round(df_zyxw.memory_usage(deep=True).sum() / 1024**2, 2), \"MB\")"
   ]
  },
  {
   "cell_type": "code",
   "execution_count": 32,
   "metadata": {},
   "outputs": [
    {
     "data": {
      "text/plain": [
       "49"
      ]
     },
     "execution_count": 32,
     "metadata": {},
     "output_type": "execute_result"
    }
   ],
   "source": [
    "action_names = set(df_abcd.action_name.unique())\n",
    "len(action_names)"
   ]
  },
  {
   "cell_type": "code",
   "execution_count": 35,
   "metadata": {},
   "outputs": [
    {
     "data": {
      "text/plain": [
       "67"
      ]
     },
     "execution_count": 35,
     "metadata": {},
     "output_type": "execute_result"
    }
   ],
   "source": [
    "action_names.update(set(df_mnop.action_name.unique()))\n",
    "action_names.update(set(df_zyxw.action_name.unique()))\n"
   ]
  },
  {
   "cell_type": "code",
   "execution_count": 44,
   "metadata": {},
   "outputs": [],
   "source": [
    "action_extractors = {\n",
    "    \"CalculateWeightAndTrimAction\": actions.CalculateWeightAndTrimAction.test,\n",
    "    \"CheckinMsgProcessor\": None,\n",
    "    \"CreateLoadsheetAction\": None,\n",
    "    \"CreateZFWMessageAction\": None,\n",
    "    \"SendFuelOrderAction\": None,\n",
    "    \"SendLoadsheetAction\": None,\n",
    "    \"SetActualBagWeightIndicatorAction\": None,\n",
    "    \"StorePaxDataAction\": None,\n",
    "    \"StoreRegistrationAndConfigurationAc\": None,\n",
    "    \"UpdateFuelDataAction\": None,\n",
    "    \"RampFinalAction\": None,\n",
    "    \"CreateLoadingInstructionAction\": None,\n",
    "    \"CopyPaxDataAction\": None,\n",
    "    \"CreateBaggageLoadItemsAction\": None,\n",
    "    \"EstimateStorePaxDataAction\": None,\n",
    "    \"SendLoadingInstructionAction\": None,\n",
    "    \"SetCKIPaxDistributionAction\": None,\n",
    "    \"SpecialPaxWeightAction\": None,\n",
    "    \"StoreAircraftDataAction\": None,\n",
    "    \"StoreCKIAverageWeightAction\": None,\n",
    "    \"StorePaxDataGuiAction\": None,\n",
    "    \"TdmCreateLoadingInstructionAction\": None,\n",
    "    \"TransferCargoAction\": None,\n",
    "    \"TransferCheckinDataAction\": None,\n",
    "    \"UpdateCargoMailEstimatesAction\": None,\n",
    "    \"UpdateEstimatesAction\": None,\n",
    "    \"UpdateLastEzfwSentAction\": None,\n",
    "    \"UpdateLoadTableAction\": None,\n",
    "}"
   ]
  },
  {
   "cell_type": "code",
   "execution_count": 50,
   "metadata": {},
   "outputs": [
    {
     "name": "stderr",
     "output_type": "stream",
     "text": [
      "C:\\Users\\voelk\\AppData\\Roaming\\Python\\Python312\\site-packages\\tqdm\\auto.py:21: TqdmWarning: IProgress not found. Please update jupyter and ipywidgets. See https://ipywidgets.readthedocs.io/en/stable/user_install.html\n",
      "  from .autonotebook import tqdm as notebook_tqdm\n"
     ]
    }
   ],
   "source": [
    "from tqdm.auto import tqdm\n",
    "tqdm.pandas()"
   ]
  },
  {
   "cell_type": "code",
   "execution_count": 55,
   "metadata": {},
   "outputs": [
    {
     "name": "stderr",
     "output_type": "stream",
     "text": [
      "100%|██████████| 231990/231990 [00:13<00:00, 17790.56it/s]\n"
     ]
    }
   ],
   "source": [
    "for action_name, extractor in action_extractors.items():\n",
    "    tqdm.pandas()\n",
    "    if extractor is not None:\n",
    "        df_abcd[f\"data_{action_name}\"] = df_abcd[df_abcd.action_name == action_name][\n",
    "            \"entry_details\"\n",
    "        ].progress_apply(extractor)\n",
    "\n",
    "df_abcd.to_parquet(parquet_file_abcd_conv, engine=\"pyarrow\", compression=\"brotli\")"
   ]
  },
  {
   "cell_type": "code",
   "execution_count": 56,
   "metadata": {},
   "outputs": [],
   "source": [
    "df = pd.read_parquet(parquet_file_abcd_conv)"
   ]
  }
 ],
 "metadata": {
  "kernelspec": {
   "display_name": "AERO",
   "language": "python",
   "name": "python3"
  },
  "language_info": {
   "codemirror_mode": {
    "name": "ipython",
    "version": 3
   },
   "file_extension": ".py",
   "mimetype": "text/x-python",
   "name": "python",
   "nbconvert_exporter": "python",
   "pygments_lexer": "ipython3",
   "version": "3.12.3"
  }
 },
 "nbformat": 4,
 "nbformat_minor": 2
}
