{
 "cells": [
  {
   "cell_type": "code",
   "execution_count": 3,
   "metadata": {},
   "outputs": [],
   "source": [
    "import pandas as pd\n",
    "from tqdm.auto import tqdm\n",
    "import actions\n",
    "from pathlib import Path\n",
    "from utils import *\n",
    "import re\n",
    "from tqdm.auto import tqdm"
   ]
  },
  {
   "cell_type": "code",
   "execution_count": 4,
   "metadata": {},
   "outputs": [
    {
     "name": "stdout",
     "output_type": "stream",
     "text": [
      "..\\data\\ABCD_tripfiles.parquet ..\\data\\ABCD_tripfiles_conv.parquet ..\\data\\MNOP_tripfiles.parquet ..\\data\\MNOP_tripfiles_conv.parquet ..\\data\\ZYXW_tripfiles.parquet ..\\data\\ZYXW_tripfiles_conv.parquet\n"
     ]
    }
   ],
   "source": [
    "# Define the file paths\n",
    "parquet_file_abcd = Path(\"../data/ABCD_tripfiles.parquet\")\n",
    "parquet_file_abcd_conv = Path(\"../data/ABCD_tripfiles_conv.parquet\")\n",
    "parquet_file_mnop = Path(\"../data/MNOP_tripfiles.parquet\")\n",
    "parquet_file_mnop_conv = Path(\"../data/MNOP_tripfiles_conv.parquet\")\n",
    "parquet_file_zyxw = Path(\"../data/ZYXW_tripfiles.parquet\")\n",
    "parquet_file_zyxw_conv = Path(\"../data/ZYXW_tripfiles_conv.parquet\")\n",
    "print(\n",
    "    parquet_file_abcd,\n",
    "    parquet_file_abcd_conv,\n",
    "    parquet_file_mnop,\n",
    "    parquet_file_mnop_conv,\n",
    "    parquet_file_zyxw,\n",
    "    parquet_file_zyxw_conv,\n",
    ")"
   ]
  },
  {
   "cell_type": "code",
   "execution_count": 5,
   "metadata": {},
   "outputs": [],
   "source": [
    "df_abcd = pd.read_parquet(parquet_file_abcd)\n",
    "df_mnop = pd.read_parquet(parquet_file_mnop)\n",
    "df_zyxw = pd.read_parquet(parquet_file_zyxw)"
   ]
  },
  {
   "cell_type": "code",
   "execution_count": 6,
   "metadata": {},
   "outputs": [
    {
     "name": "stdout",
     "output_type": "stream",
     "text": [
      "1252.74 MB\n",
      "2278.75 MB\n",
      "608.15 MB\n"
     ]
    }
   ],
   "source": [
    "print(round(df_abcd.memory_usage(deep=True).sum() / 1024**2, 2), \"MB\")\n",
    "print(round(df_mnop.memory_usage(deep=True).sum() / 1024**2, 2), \"MB\")\n",
    "print(round(df_zyxw.memory_usage(deep=True).sum() / 1024**2, 2), \"MB\")"
   ]
  },
  {
   "cell_type": "code",
   "execution_count": 7,
   "metadata": {},
   "outputs": [
    {
     "data": {
      "text/plain": [
       "49"
      ]
     },
     "execution_count": 7,
     "metadata": {},
     "output_type": "execute_result"
    }
   ],
   "source": [
    "action_names = set(df_abcd.action_name.unique())\n",
    "len(action_names)"
   ]
  },
  {
   "cell_type": "code",
   "execution_count": 8,
   "metadata": {},
   "outputs": [],
   "source": [
    "action_names.update(set(df_mnop.action_name.unique()))\n",
    "action_names.update(set(df_zyxw.action_name.unique()))"
   ]
  },
  {
   "cell_type": "code",
   "execution_count": 9,
   "metadata": {},
   "outputs": [],
   "source": [
    "action_extractors = {\n",
    "    \"CalculateWeightAndTrimAction\": None,\n",
    "    \"CheckinMsgProcessor\": None,\n",
    "    \"CreateLoadsheetAction\": None,\n",
    "    \"CreateZFWMessageAction\": None,\n",
    "    \"SendFuelOrderAction\": None,\n",
    "    \"SendLoadsheetAction\": None,\n",
    "    \"SetActualBagWeightIndicatorAction\": None,\n",
    "    \"StorePaxDataAction\": None,\n",
    "    \"StoreRegistrationAndConfigurationAc\": None,\n",
    "    \"UpdateFuelDataAction\": None,\n",
    "    \"RampFinalAction\": actions.RampFinalAction.extract,\n",
    "    \"CreateLoadingInstructionAction\": None,\n",
    "    \"CopyPaxDataAction\": None,\n",
    "    \"CreateBaggageLoadItemsAction\": None,\n",
    "    \"EstimateStorePaxDataAction\": None,\n",
    "    \"SendLoadingInstructionAction\": None,\n",
    "    \"SetCKIPaxDistributionAction\": actions.SetCKIPaxDistributionAction.extract,\n",
    "    \"SpecialPaxWeightAction\": None,\n",
    "    \"StoreAircraftDataAction\": None,\n",
    "    \"StoreCKIAverageWeightAction\": None,\n",
    "    \"StorePaxDataGuiAction\": None,\n",
    "    \"TdmCreateLoadingInstructionAction\": None,\n",
    "    \"TransferCargoAction\": None,\n",
    "    \"TransferCheckinDataAction\": None,\n",
    "    \"UpdateCargoMailEstimatesAction\": None,\n",
    "    \"UpdateEstimatesAction\": None,\n",
    "    \"UpdateLastEzfwSentAction\": None,\n",
    "    \"UpdateLoadTableAction\": None,\n",
    "}"
   ]
  },
  {
   "cell_type": "code",
   "execution_count": 10,
   "metadata": {},
   "outputs": [
    {
     "name": "stdout",
     "output_type": "stream",
     "text": [
      "RampFinalAction\n"
     ]
    },
    {
     "name": "stderr",
     "output_type": "stream",
     "text": [
      "100%|██████████| 3804/3804 [00:00<00:00, 63165.38it/s]\n"
     ]
    },
    {
     "name": "stdout",
     "output_type": "stream",
     "text": [
      "SetCKIPaxDistributionAction\n"
     ]
    },
    {
     "name": "stderr",
     "output_type": "stream",
     "text": [
      "0it [00:00, ?it/s]\n"
     ]
    },
    {
     "name": "stdout",
     "output_type": "stream",
     "text": [
      "RampFinalAction\n"
     ]
    },
    {
     "name": "stderr",
     "output_type": "stream",
     "text": [
      "100%|██████████| 5612/5612 [00:00<00:00, 62321.44it/s]\n"
     ]
    },
    {
     "name": "stdout",
     "output_type": "stream",
     "text": [
      "SetCKIPaxDistributionAction\n"
     ]
    },
    {
     "name": "stderr",
     "output_type": "stream",
     "text": [
      "0it [00:00, ?it/s]\n"
     ]
    },
    {
     "ename": "KeyboardInterrupt",
     "evalue": "",
     "output_type": "error",
     "traceback": [
      "\u001b[1;31m---------------------------------------------------------------------------\u001b[0m",
      "\u001b[1;31mKeyboardInterrupt\u001b[0m                         Traceback (most recent call last)",
      "Cell \u001b[1;32mIn[10], line 18\u001b[0m\n\u001b[0;32m     15\u001b[0m df_abcd_conv\u001b[38;5;241m.\u001b[39mto_parquet(parquet_file_abcd_conv, engine\u001b[38;5;241m=\u001b[39m\u001b[38;5;124m\"\u001b[39m\u001b[38;5;124mpyarrow\u001b[39m\u001b[38;5;124m\"\u001b[39m, compression\u001b[38;5;241m=\u001b[39m\u001b[38;5;124m\"\u001b[39m\u001b[38;5;124mbrotli\u001b[39m\u001b[38;5;124m\"\u001b[39m)\n\u001b[0;32m     17\u001b[0m df_mnop_conv \u001b[38;5;241m=\u001b[39m extract_df(df_mnop)\n\u001b[1;32m---> 18\u001b[0m \u001b[43mdf_mnop_conv\u001b[49m\u001b[38;5;241;43m.\u001b[39;49m\u001b[43mto_parquet\u001b[49m\u001b[43m(\u001b[49m\u001b[43mparquet_file_mnop_conv\u001b[49m\u001b[43m,\u001b[49m\u001b[43m \u001b[49m\u001b[43mengine\u001b[49m\u001b[38;5;241;43m=\u001b[39;49m\u001b[38;5;124;43m\"\u001b[39;49m\u001b[38;5;124;43mpyarrow\u001b[39;49m\u001b[38;5;124;43m\"\u001b[39;49m\u001b[43m,\u001b[49m\u001b[43m \u001b[49m\u001b[43mcompression\u001b[49m\u001b[38;5;241;43m=\u001b[39;49m\u001b[38;5;124;43m\"\u001b[39;49m\u001b[38;5;124;43mbrotli\u001b[39;49m\u001b[38;5;124;43m\"\u001b[39;49m\u001b[43m)\u001b[49m\n\u001b[0;32m     20\u001b[0m df_zyxw_conv \u001b[38;5;241m=\u001b[39m extract_df(df_zyxw)\n\u001b[0;32m     21\u001b[0m df_zyxw_conv\u001b[38;5;241m.\u001b[39mto_parquet(parquet_file_zyxw_conv, engine\u001b[38;5;241m=\u001b[39m\u001b[38;5;124m\"\u001b[39m\u001b[38;5;124mpyarrow\u001b[39m\u001b[38;5;124m\"\u001b[39m, compression\u001b[38;5;241m=\u001b[39m\u001b[38;5;124m\"\u001b[39m\u001b[38;5;124mbrotli\u001b[39m\u001b[38;5;124m\"\u001b[39m)\n",
      "File \u001b[1;32mc:\\Users\\janmu\\.conda\\envs\\AeroMetricsEnv\\lib\\site-packages\\pandas\\core\\frame.py:2889\u001b[0m, in \u001b[0;36mDataFrame.to_parquet\u001b[1;34m(self, path, engine, compression, index, partition_cols, storage_options, **kwargs)\u001b[0m\n\u001b[0;32m   2802\u001b[0m \u001b[38;5;250m\u001b[39m\u001b[38;5;124;03m\"\"\"\u001b[39;00m\n\u001b[0;32m   2803\u001b[0m \u001b[38;5;124;03mWrite a DataFrame to the binary parquet format.\u001b[39;00m\n\u001b[0;32m   2804\u001b[0m \n\u001b[1;32m   (...)\u001b[0m\n\u001b[0;32m   2885\u001b[0m \u001b[38;5;124;03m>>> content = f.read()\u001b[39;00m\n\u001b[0;32m   2886\u001b[0m \u001b[38;5;124;03m\"\"\"\u001b[39;00m\n\u001b[0;32m   2887\u001b[0m \u001b[38;5;28;01mfrom\u001b[39;00m \u001b[38;5;21;01mpandas\u001b[39;00m\u001b[38;5;21;01m.\u001b[39;00m\u001b[38;5;21;01mio\u001b[39;00m\u001b[38;5;21;01m.\u001b[39;00m\u001b[38;5;21;01mparquet\u001b[39;00m \u001b[38;5;28;01mimport\u001b[39;00m to_parquet\n\u001b[1;32m-> 2889\u001b[0m \u001b[38;5;28;01mreturn\u001b[39;00m \u001b[43mto_parquet\u001b[49m\u001b[43m(\u001b[49m\n\u001b[0;32m   2890\u001b[0m \u001b[43m    \u001b[49m\u001b[38;5;28;43mself\u001b[39;49m\u001b[43m,\u001b[49m\n\u001b[0;32m   2891\u001b[0m \u001b[43m    \u001b[49m\u001b[43mpath\u001b[49m\u001b[43m,\u001b[49m\n\u001b[0;32m   2892\u001b[0m \u001b[43m    \u001b[49m\u001b[43mengine\u001b[49m\u001b[43m,\u001b[49m\n\u001b[0;32m   2893\u001b[0m \u001b[43m    \u001b[49m\u001b[43mcompression\u001b[49m\u001b[38;5;241;43m=\u001b[39;49m\u001b[43mcompression\u001b[49m\u001b[43m,\u001b[49m\n\u001b[0;32m   2894\u001b[0m \u001b[43m    \u001b[49m\u001b[43mindex\u001b[49m\u001b[38;5;241;43m=\u001b[39;49m\u001b[43mindex\u001b[49m\u001b[43m,\u001b[49m\n\u001b[0;32m   2895\u001b[0m \u001b[43m    \u001b[49m\u001b[43mpartition_cols\u001b[49m\u001b[38;5;241;43m=\u001b[39;49m\u001b[43mpartition_cols\u001b[49m\u001b[43m,\u001b[49m\n\u001b[0;32m   2896\u001b[0m \u001b[43m    \u001b[49m\u001b[43mstorage_options\u001b[49m\u001b[38;5;241;43m=\u001b[39;49m\u001b[43mstorage_options\u001b[49m\u001b[43m,\u001b[49m\n\u001b[0;32m   2897\u001b[0m \u001b[43m    \u001b[49m\u001b[38;5;241;43m*\u001b[39;49m\u001b[38;5;241;43m*\u001b[39;49m\u001b[43mkwargs\u001b[49m\u001b[43m,\u001b[49m\n\u001b[0;32m   2898\u001b[0m \u001b[43m\u001b[49m\u001b[43m)\u001b[49m\n",
      "File \u001b[1;32mc:\\Users\\janmu\\.conda\\envs\\AeroMetricsEnv\\lib\\site-packages\\pandas\\io\\parquet.py:411\u001b[0m, in \u001b[0;36mto_parquet\u001b[1;34m(df, path, engine, compression, index, storage_options, partition_cols, **kwargs)\u001b[0m\n\u001b[0;32m    407\u001b[0m impl \u001b[38;5;241m=\u001b[39m get_engine(engine)\n\u001b[0;32m    409\u001b[0m path_or_buf: FilePath \u001b[38;5;241m|\u001b[39m WriteBuffer[\u001b[38;5;28mbytes\u001b[39m] \u001b[38;5;241m=\u001b[39m io\u001b[38;5;241m.\u001b[39mBytesIO() \u001b[38;5;28;01mif\u001b[39;00m path \u001b[38;5;129;01mis\u001b[39;00m \u001b[38;5;28;01mNone\u001b[39;00m \u001b[38;5;28;01melse\u001b[39;00m path\n\u001b[1;32m--> 411\u001b[0m \u001b[43mimpl\u001b[49m\u001b[38;5;241;43m.\u001b[39;49m\u001b[43mwrite\u001b[49m\u001b[43m(\u001b[49m\n\u001b[0;32m    412\u001b[0m \u001b[43m    \u001b[49m\u001b[43mdf\u001b[49m\u001b[43m,\u001b[49m\n\u001b[0;32m    413\u001b[0m \u001b[43m    \u001b[49m\u001b[43mpath_or_buf\u001b[49m\u001b[43m,\u001b[49m\n\u001b[0;32m    414\u001b[0m \u001b[43m    \u001b[49m\u001b[43mcompression\u001b[49m\u001b[38;5;241;43m=\u001b[39;49m\u001b[43mcompression\u001b[49m\u001b[43m,\u001b[49m\n\u001b[0;32m    415\u001b[0m \u001b[43m    \u001b[49m\u001b[43mindex\u001b[49m\u001b[38;5;241;43m=\u001b[39;49m\u001b[43mindex\u001b[49m\u001b[43m,\u001b[49m\n\u001b[0;32m    416\u001b[0m \u001b[43m    \u001b[49m\u001b[43mpartition_cols\u001b[49m\u001b[38;5;241;43m=\u001b[39;49m\u001b[43mpartition_cols\u001b[49m\u001b[43m,\u001b[49m\n\u001b[0;32m    417\u001b[0m \u001b[43m    \u001b[49m\u001b[43mstorage_options\u001b[49m\u001b[38;5;241;43m=\u001b[39;49m\u001b[43mstorage_options\u001b[49m\u001b[43m,\u001b[49m\n\u001b[0;32m    418\u001b[0m \u001b[43m    \u001b[49m\u001b[38;5;241;43m*\u001b[39;49m\u001b[38;5;241;43m*\u001b[39;49m\u001b[43mkwargs\u001b[49m\u001b[43m,\u001b[49m\n\u001b[0;32m    419\u001b[0m \u001b[43m\u001b[49m\u001b[43m)\u001b[49m\n\u001b[0;32m    421\u001b[0m \u001b[38;5;28;01mif\u001b[39;00m path \u001b[38;5;129;01mis\u001b[39;00m \u001b[38;5;28;01mNone\u001b[39;00m:\n\u001b[0;32m    422\u001b[0m     \u001b[38;5;28;01massert\u001b[39;00m \u001b[38;5;28misinstance\u001b[39m(path_or_buf, io\u001b[38;5;241m.\u001b[39mBytesIO)\n",
      "File \u001b[1;32mc:\\Users\\janmu\\.conda\\envs\\AeroMetricsEnv\\lib\\site-packages\\pandas\\io\\parquet.py:159\u001b[0m, in \u001b[0;36mPyArrowImpl.write\u001b[1;34m(self, df, path, compression, index, storage_options, partition_cols, **kwargs)\u001b[0m\n\u001b[0;32m    156\u001b[0m \u001b[38;5;28;01mif\u001b[39;00m index \u001b[38;5;129;01mis\u001b[39;00m \u001b[38;5;129;01mnot\u001b[39;00m \u001b[38;5;28;01mNone\u001b[39;00m:\n\u001b[0;32m    157\u001b[0m     from_pandas_kwargs[\u001b[38;5;124m\"\u001b[39m\u001b[38;5;124mpreserve_index\u001b[39m\u001b[38;5;124m\"\u001b[39m] \u001b[38;5;241m=\u001b[39m index\n\u001b[1;32m--> 159\u001b[0m table \u001b[38;5;241m=\u001b[39m \u001b[38;5;28;43mself\u001b[39;49m\u001b[38;5;241;43m.\u001b[39;49m\u001b[43mapi\u001b[49m\u001b[38;5;241;43m.\u001b[39;49m\u001b[43mTable\u001b[49m\u001b[38;5;241;43m.\u001b[39;49m\u001b[43mfrom_pandas\u001b[49m\u001b[43m(\u001b[49m\u001b[43mdf\u001b[49m\u001b[43m,\u001b[49m\u001b[43m \u001b[49m\u001b[38;5;241;43m*\u001b[39;49m\u001b[38;5;241;43m*\u001b[39;49m\u001b[43mfrom_pandas_kwargs\u001b[49m\u001b[43m)\u001b[49m\n\u001b[0;32m    161\u001b[0m path_or_handle, handles, kwargs[\u001b[38;5;124m\"\u001b[39m\u001b[38;5;124mfilesystem\u001b[39m\u001b[38;5;124m\"\u001b[39m] \u001b[38;5;241m=\u001b[39m _get_path_or_handle(\n\u001b[0;32m    162\u001b[0m     path,\n\u001b[0;32m    163\u001b[0m     kwargs\u001b[38;5;241m.\u001b[39mpop(\u001b[38;5;124m\"\u001b[39m\u001b[38;5;124mfilesystem\u001b[39m\u001b[38;5;124m\"\u001b[39m, \u001b[38;5;28;01mNone\u001b[39;00m),\n\u001b[1;32m   (...)\u001b[0m\n\u001b[0;32m    166\u001b[0m     is_dir\u001b[38;5;241m=\u001b[39mpartition_cols \u001b[38;5;129;01mis\u001b[39;00m \u001b[38;5;129;01mnot\u001b[39;00m \u001b[38;5;28;01mNone\u001b[39;00m,\n\u001b[0;32m    167\u001b[0m )\n\u001b[0;32m    168\u001b[0m \u001b[38;5;28;01mif\u001b[39;00m (\n\u001b[0;32m    169\u001b[0m     \u001b[38;5;28misinstance\u001b[39m(path_or_handle, io\u001b[38;5;241m.\u001b[39mBufferedWriter)\n\u001b[0;32m    170\u001b[0m     \u001b[38;5;129;01mand\u001b[39;00m \u001b[38;5;28mhasattr\u001b[39m(path_or_handle, \u001b[38;5;124m\"\u001b[39m\u001b[38;5;124mname\u001b[39m\u001b[38;5;124m\"\u001b[39m)\n\u001b[0;32m    171\u001b[0m     \u001b[38;5;129;01mand\u001b[39;00m \u001b[38;5;28misinstance\u001b[39m(path_or_handle\u001b[38;5;241m.\u001b[39mname, (\u001b[38;5;28mstr\u001b[39m, \u001b[38;5;28mbytes\u001b[39m))\n\u001b[0;32m    172\u001b[0m ):\n",
      "\u001b[1;31mKeyboardInterrupt\u001b[0m: "
     ]
    }
   ],
   "source": [
    "def extract_df(df: pd.DataFrame):\n",
    "    tqdm.pandas()\n",
    "    for action_name, extractor in action_extractors.items():\n",
    "\n",
    "        if extractor is not None:\n",
    "            print(action_name)\n",
    "\n",
    "            df[f\"data_{action_name}\"] = df[df.action_name == action_name][\n",
    "                \"entry_details\"\n",
    "            ].progress_apply(extractor)\n",
    "    return df\n",
    "\n",
    "\n",
    "df_abcd_conv = extract_df(df_abcd)\n",
    "df_abcd_conv.to_parquet(parquet_file_abcd_conv, engine=\"pyarrow\", compression=\"brotli\")\n",
    "\n",
    "df_mnop_conv = extract_df(df_mnop)\n",
    "df_mnop_conv.to_parquet(parquet_file_mnop_conv, engine=\"pyarrow\", compression=\"brotli\")\n",
    "\n",
    "df_zyxw_conv = extract_df(df_zyxw)\n",
    "df_zyxw_conv.to_parquet(parquet_file_zyxw_conv, engine=\"pyarrow\", compression=\"brotli\")"
   ]
  },
  {
   "cell_type": "code",
   "execution_count": null,
   "metadata": {},
   "outputs": [],
   "source": [
    "df = df_zyxw\n",
    "\n",
    "\n",
    "x = df[\n",
    "    (df.action_name == \"SetCKIPaxDistributionAction\")\n",
    "    # & (~df[\"entry_details\"].isnull())\n",
    "    # & (~df[\"entry_details\"].str.contains(\"Discrepancy check result\", na=False))\n",
    "    # & (~df[\"entry_details\"].str.contains(\"Caller user\", na=False))  # don't include this\n",
    "][\"entry_details\"].unique()"
   ]
  },
  {
   "cell_type": "code",
   "execution_count": null,
   "metadata": {},
   "outputs": [],
   "source": [
    "\"\"\"TOTAL Pax: 6    Y: 6  Jump: 0    StandBy: NULL  Male: 2  Female: 2  Child: 2  Infant: 0  Total bag: 6  Total bag weight: 72.0 KG  Baggage weight type: HISTORIC\\r\\n \n",
    "\n",
    "Distribution        : CKI_DISTRIBUTION         \\r\\n \n",
    "Section             : 0A                       0C                       \\r\\n \n",
    "Capacity            : Y72                      Y102                     \\r\\n \n",
    "Distribution        : Y0                       Y0\"\"\""
   ]
  },
  {
   "cell_type": "code",
   "execution_count": null,
   "metadata": {},
   "outputs": [],
   "source": [
    "foo: set = set()"
   ]
  },
  {
   "cell_type": "code",
   "execution_count": null,
   "metadata": {},
   "outputs": [],
   "source": [
    "for message in x:\n",
    "    items = message.split(\" \")\n",
    "    for item in items:\n",
    "        if not item.isdigit():\n",
    "            foo.add(item)"
   ]
  },
  {
   "cell_type": "code",
   "execution_count": null,
   "metadata": {},
   "outputs": [
    {
     "data": {
      "text/plain": [
       "{'AIRBORNE',\n",
       " 'AIRCRAFT_CONFIG',\n",
       " 'ALLOWANCE_CHECK_PERFORMED',\n",
       " 'AUTOMATION_STARTED',\n",
       " 'AUTO_MODE_ACTIVE',\n",
       " 'BAG_LOAD_ITEMS_GEN',\n",
       " 'BAG_LOZY_ITEMS_GEN',\n",
       " 'BAG_ULD_ORD',\n",
       " 'CABIN_CONFIG',\n",
       " 'CALC_HIST_DATA',\n",
       " 'CARGO_FINAL',\n",
       " 'CARGO_TRANSFER',\n",
       " 'CHECK_IN_FINAL',\n",
       " 'CHECK_IN_OPEN',\n",
       " 'DGR_ITEMS',\n",
       " 'EZFW',\n",
       " 'EZFW_COUNTER',\n",
       " 'FINAL_RELEASE',\n",
       " 'FUEL',\n",
       " 'FUEL_ORDER',\n",
       " 'LDM',\n",
       " 'LOADING_INSTRUCTION',\n",
       " 'LOADSHEET',\n",
       " 'LOZYING_INSTRUCTION',\n",
       " 'LOZYSHEET',\n",
       " 'OFFBLOCK',\n",
       " 'OFP',\n",
       " 'PDM',\n",
       " 'RAMP_FINAL',\n",
       " 'REGISTRATION',\n",
       " 'REGISTRATION_CHANGE',\n",
       " 'STATUS',\n",
       " 'TRANSIT_ACCEPTANCE',\n",
       " 'TRANSIT_PAX'}"
      ]
     },
     "execution_count": 104,
     "metadata": {},
     "output_type": "execute_result"
    }
   ],
   "source": [
    "foo"
   ]
  },
  {
   "cell_type": "code",
   "execution_count": null,
   "metadata": {},
   "outputs": [],
   "source": []
  },
  {
   "cell_type": "code",
   "execution_count": null,
   "metadata": {},
   "outputs": [
    {
     "data": {
      "text/plain": [
       "{'TOTAL Pax': None,\n",
       " 'Y': 0,\n",
       " 'Jump': None,\n",
       " 'StandBy': None,\n",
       " 'Male': None,\n",
       " 'Female': None,\n",
       " 'Child': None,\n",
       " 'Infant': None,\n",
       " 'Total bag': 0,\n",
       " 'Total bag weight': 0.0,\n",
       " 'Baggage weight type': 'HISTORIC',\n",
       " 'Weight unit': 'KG',\n",
       " 'Sections': {'0A': {'Capacity': 'Y72', 'Distribution': 'Y0'},\n",
       "  '0C': {'Capacity': 'Y102', 'Distribution': 'Y0'}},\n",
       " 'Distribution': 'CKI_DISTRIBUTION'}"
      ]
     },
     "execution_count": 309,
     "metadata": {},
     "output_type": "execute_result"
    }
   ],
   "source": [
    "extract(df_zyxw[df_zyxw.id == 375438310][\"entry_details\"].iloc(0)[0])"
   ]
  },
  {
   "cell_type": "code",
   "execution_count": null,
   "metadata": {},
   "outputs": [
    {
     "data": {
      "text/plain": [
       "'TOTAL Pax: NULL    Y: 0  Jump: NULL    StandBy: NULL  Male: NULL  Female: NULL  Child: NULL  Infant: NULL  Total bag: 0  Total bag weight: 0.0 KG  Baggage weight type: HISTORIC\\r\\n Distribution        : CKI_DISTRIBUTION         \\r\\n Section             : 0A                       0C                       \\r\\n Capacity            : Y72                      Y102                     \\r\\n Distribution        : Y0                       Y0'"
      ]
     },
     "execution_count": 308,
     "metadata": {},
     "output_type": "execute_result"
    }
   ],
   "source": [
    "df_zyxw[df_zyxw.id == 375438310][\"entry_details\"].iloc(0)[0]"
   ]
  },
  {
   "cell_type": "code",
   "execution_count": null,
   "metadata": {},
   "outputs": [
    {
     "data": {
      "text/plain": [
       "id                                                           375438310\n",
       "creation_time                                      2024-05-05 05:06:37\n",
       "airline_code                                                        ZY\n",
       "flight_number                                                     5032\n",
       "flight_date                                                          5\n",
       "departure_airport                                                  REC\n",
       "user_name                                                 service-acco\n",
       "action_name                                SetCKIPaxDistributionAction\n",
       "header_line          2024-05-05 05:06:37,437 INFO  [b871eebd4cb0966...\n",
       "entry_details        TOTAL Pax: NULL    Y: 0  Jump: NULL    StandBy...\n",
       "Name: 334375, dtype: object"
      ]
     },
     "execution_count": 302,
     "metadata": {},
     "output_type": "execute_result"
    }
   ],
   "source": [
    "x[x.action_name == \"SetCKIPaxDistributionAction\"].iloc(0)[8836]"
   ]
  },
  {
   "cell_type": "code",
   "execution_count": null,
   "metadata": {},
   "outputs": [
    {
     "name": "stderr",
     "output_type": "stream",
     "text": [
      "100%|██████████| 11598/11598 [00:00<00:00, 53015.90it/s]\n"
     ]
    }
   ],
   "source": [
    "x = df_zyxw.copy()\n",
    "x[\"data_SetCKIPaxDistributionAction\"] = x[\n",
    "    x.action_name == \"SetCKIPaxDistributionAction\"\n",
    "][\"entry_details\"].progress_apply(extract)"
   ]
  }
 ],
 "metadata": {
  "kernelspec": {
   "display_name": "AERO",
   "language": "python",
   "name": "python3"
  },
  "language_info": {
   "codemirror_mode": {
    "name": "ipython",
    "version": 3
   },
   "file_extension": ".py",
   "mimetype": "text/x-python",
   "name": "python",
   "nbconvert_exporter": "python",
   "pygments_lexer": "ipython3",
   "version": "3.8.19"
  }
 },
 "nbformat": 4,
 "nbformat_minor": 2
}
