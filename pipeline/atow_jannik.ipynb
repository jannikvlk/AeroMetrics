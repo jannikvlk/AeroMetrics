{
 "cells": [
  {
   "cell_type": "code",
   "execution_count": 231,
   "metadata": {},
   "outputs": [],
   "source": [
    "import pandas as pd\n",
    "\n",
    "\n",
    "from pathlib import Path\n",
    "from utils import *\n",
    "\n",
    "from tqdm.auto import tqdm\n",
    "import json\n",
    "import re"
   ]
  },
  {
   "cell_type": "code",
   "execution_count": 212,
   "metadata": {},
   "outputs": [
    {
     "name": "stdout",
     "output_type": "stream",
     "text": [
      "..\\data\\ABCD_tripfiles_conv.parquet ..\\data\\MNOP_tripfiles_conv.parquet ..\\data\\ZYXW_tripfiles_conv.parquet\n"
     ]
    }
   ],
   "source": [
    "# Define the file paths\n",
    "\n",
    "parquet_file_abcd_conv = Path(\"../data/ABCD_tripfiles_conv.parquet\")\n",
    "parquet_file_mnop_conv = Path(\"../data/MNOP_tripfiles_conv.parquet\")\n",
    "parquet_file_zyxw_conv = Path(\"../data/ZYXW_tripfiles_conv.parquet\")\n",
    "print(\n",
    "    parquet_file_abcd_conv,\n",
    "    parquet_file_mnop_conv,\n",
    "    parquet_file_zyxw_conv,\n",
    ")"
   ]
  },
  {
   "cell_type": "code",
   "execution_count": 213,
   "metadata": {},
   "outputs": [],
   "source": [
    "ab = pd.read_parquet(parquet_file_abcd_conv)\n",
    "mn = pd.read_parquet(parquet_file_mnop_conv)\n",
    "zy = pd.read_parquet(parquet_file_zyxw_conv)"
   ]
  },
  {
   "cell_type": "code",
   "execution_count": 214,
   "metadata": {},
   "outputs": [
    {
     "data": {
      "text/plain": [
       "Index(['id', 'creation_time', 'airline_code', 'flight_number', 'flight_date',\n",
       "       'departure_airport', 'user_name', 'action_name', 'header_line',\n",
       "       'entry_details', 'data_CalculateWeightAndTrimAction',\n",
       "       'data_CheckinMsgProcessor', 'data_CreateLoadingInstructionAction',\n",
       "       'data_CreateLoadSheetAction', 'data_CreateZFWMessageAction',\n",
       "       'data_EstimateStorePaxDataAction', 'data_RampFinalAction',\n",
       "       'data_SendFuelOrderAction', 'data_SendLoadingInstructionAction',\n",
       "       'data_SendLoadsheetAction', 'data_SetActualBagWeightIndicatorAction',\n",
       "       'data_SetCKIPaxDistributionAction', 'data_StorePaxDataAction',\n",
       "       'data_StorePaxDataGuiAction',\n",
       "       'data_StoreRegistrationAndConfigurationAc',\n",
       "       'data_TdmCreateLoadingInstructionAction', 'data_TransferCargoAction',\n",
       "       'data_TransferCheckinDataAction', 'data_UpdateEstimatesAction',\n",
       "       'data_UpdateFuelDataAction', 'data_UpdateLoadTableAction',\n",
       "       'data_UpdateTransitLoadTableAction'],\n",
       "      dtype='object')"
      ]
     },
     "execution_count": 214,
     "metadata": {},
     "output_type": "execute_result"
    }
   ],
   "source": [
    "ab.columns"
   ]
  },
  {
   "cell_type": "code",
   "execution_count": 215,
   "metadata": {},
   "outputs": [],
   "source": [
    "import io\n",
    "\n",
    "\n",
    "def print_structure(data, indent=1, output=None, toplvl=True):\n",
    "\n",
    "    if output is None:\n",
    "        output = io.StringIO()\n",
    "\n",
    "    \"\"\"\n",
    "    Recursively prints the structure of a dictionary or list, showing types and keys.\n",
    "    \"\"\"\n",
    "\n",
    "    indent_str = \"  \" * indent\n",
    "    print(indent_str[2:], \"{\", file=output)\n",
    "\n",
    "    if isinstance(data, dict):\n",
    "        for key, value in data.items():\n",
    "            if isinstance(value, (dict, list)):\n",
    "                print(f\"{indent_str}'{key}':\", file=output)\n",
    "                print_structure(value, indent + 1, output=output, toplvl=False)\n",
    "            else:\n",
    "                print(f\"{indent_str}'{key}'\", file=output)\n",
    "    elif isinstance(data, list):\n",
    "        if len(data) > 0:\n",
    "            print(f\"{indent_str}[\", file=output)\n",
    "            for item in data[:3]:  # Print first 3 items only for brevity\n",
    "                # print(f\"{indent_str}[{index}]\")\n",
    "                print_structure(item, indent + 1, output=output, toplvl=False)\n",
    "            print(f\"{indent_str}]\", file=output)\n",
    "        else:\n",
    "            print(f\"{indent_str}[]]\", file=output)\n",
    "    else:\n",
    "        print(f\"{indent_str}{data} ({type(data).__name__})\", file=output)\n",
    "    print(indent_str[2:], \"},\", file=output)\n",
    "    if toplvl:\n",
    "        contents = output.getvalue()\n",
    "        output.close()\n",
    "        return contents\n",
    "\n",
    "\n",
    "# Print the structure of the example dictionary"
   ]
  },
  {
   "cell_type": "code",
   "execution_count": 289,
   "metadata": {},
   "outputs": [],
   "source": [
    "action = \"UpdateTransitLoadTableAction\""
   ]
  },
  {
   "cell_type": "code",
   "execution_count": 290,
   "metadata": {},
   "outputs": [],
   "source": [
    "ab_action = ab[(ab.action_name == action) & ~(ab[f\"data_{action}\"]).isna()][\n",
    "    f\"data_{action}\"\n",
    "].apply(json.loads)\n",
    "\n",
    "\n",
    "mn_action = mn[(mn.action_name == action) & ~(mn[f\"data_{action}\"]).isna()][\n",
    "    f\"data_{action}\"\n",
    "].apply(json.loads)\n",
    "\n",
    "\n",
    "zy_action = zy[(zy.action_name == action) & ~(zy[f\"data_{action}\"]).isna()][\n",
    "    f\"data_{action}\"\n",
    "].apply(json.loads)"
   ]
  },
  {
   "cell_type": "code",
   "execution_count": 291,
   "metadata": {},
   "outputs": [],
   "source": [
    "ab_action_data = pd.DataFrame()\n",
    "ab_action_data[\"data\"] = ab_action.apply(print_structure)\n",
    "\n",
    "mn_action_data = pd.DataFrame()\n",
    "mn_action_data[\"data\"] = mn_action.apply(print_structure)\n",
    "\n",
    "zy_action_data = pd.DataFrame()\n",
    "zy_action_data[\"data\"] = zy_action.apply(print_structure)"
   ]
  },
  {
   "cell_type": "code",
   "execution_count": 280,
   "metadata": {},
   "outputs": [
    {
     "data": {
      "text/plain": [
       "448450    {'AIRBORNE': None, 'AIRCRAFT_CONFIG': 1, 'ALLO...\n",
       "448482    {'AIRBORNE': None, 'AIRCRAFT_CONFIG': 1, 'ALLO...\n",
       "448541    {'AIRBORNE': None, 'AIRCRAFT_CONFIG': 1, 'ALLO...\n",
       "448587    {'AIRBORNE': None, 'AIRCRAFT_CONFIG': 1, 'ALLO...\n",
       "448602    {'AIRBORNE': None, 'AIRCRAFT_CONFIG': 1, 'ALLO...\n",
       "                                ...                        \n",
       "476061    {'AIRBORNE': None, 'AIRCRAFT_CONFIG': 1, 'ALLO...\n",
       "476063    {'AIRBORNE': None, 'AIRCRAFT_CONFIG': 1, 'ALLO...\n",
       "476083    {'AIRBORNE': None, 'AIRCRAFT_CONFIG': 1, 'ALLO...\n",
       "476108    {'AIRBORNE': None, 'AIRCRAFT_CONFIG': 1, 'ALLO...\n",
       "476110    {'AIRBORNE': None, 'AIRCRAFT_CONFIG': 1, 'ALLO...\n",
       "Name: data_RampFinalAction, Length: 1902, dtype: object"
      ]
     },
     "execution_count": 280,
     "metadata": {},
     "output_type": "execute_result"
    }
   ],
   "source": [
    "ab_action"
   ]
  },
  {
   "cell_type": "code",
   "execution_count": 292,
   "metadata": {},
   "outputs": [],
   "source": [
    "df = zy_action_data"
   ]
  },
  {
   "cell_type": "code",
   "execution_count": 293,
   "metadata": {},
   "outputs": [
    {
     "name": "stdout",
     "output_type": "stream",
     "text": [
      "\" {\\n  'Header':\\n   {\\n    'id'\\n    'flightId'\\n    'legId'\\n    'deleted'\\n    'fragmentId'\\n   },\\n  'Bulk':\\n   {\\n    []]\\n   },\\n  'ULD':\\n   {\\n    [\\n     {\\n      'Item Id'\\n      'ULD'\\n      'Number'\\n      'Airline'\\n      'Special'\\n      'Status'\\n      'Weight'\\n      'Weight Unit'\\n      'Pieces'\\n      'Volume'\\n      'Origin'\\n      'Onl.Sta.'\\n      'Dest.'\\n      'Category'\\n      'Position'\\n      'Confirmed'\\n      'Remarks'\\n     },\\n     {\\n      'Item Id'\\n      'ULD'\\n      'Number'\\n      'Airline'\\n      'Special'\\n      'Status'\\n      'Weight'\\n      'Weight Unit'\\n      'Pieces'\\n      'Volume'\\n      'Origin'\\n      'Onl.Sta.'\\n      'Dest.'\\n      'Category'\\n      'Position'\\n      'Confirmed'\\n      'Remarks'\\n     },\\n     {\\n      'Item Id'\\n      'ULD'\\n      'Number'\\n      'Airline'\\n      'Special'\\n      'Status'\\n      'Weight'\\n      'Weight Unit'\\n      'Pieces'\\n      'Volume'\\n      'Origin'\\n      'Onl.Sta.'\\n      'Dest.'\\n      'Category'\\n      'Position'\\n      'Confirmed'\\n      'Remarks'\\n     },\\n    ]\\n   },\\n  'Totals':\\n   {\\n   },\\n  'Status':\\n   {\\n   },\\n },\\n\"\n",
      "\n",
      "\" {\\n  'Header':\\n   {\\n    'id'\\n    'flightId'\\n    'legId'\\n    'deleted'\\n    'fragmentId'\\n   },\\n  'Bulk':\\n   {\\n    []]\\n   },\\n  'ULD':\\n   {\\n    [\\n     {\\n      'Item Id'\\n      'ULD'\\n      'Number'\\n      'Airline'\\n      'Special'\\n      'Status'\\n      'Weight'\\n      'Weight Unit'\\n      'Pieces'\\n      'Volume'\\n      'Origin'\\n      'Onl.Sta.'\\n      'Dest.'\\n      'Category'\\n      'Position'\\n      'Confirmed'\\n      'Remarks'\\n     },\\n     {\\n      'Item Id'\\n      'ULD'\\n      'Number'\\n      'Airline'\\n      'Special'\\n      'Status'\\n      'Weight'\\n      'Weight Unit'\\n      'Pieces'\\n      'Volume'\\n      'Origin'\\n      'Onl.Sta.'\\n      'Dest.'\\n      'Category'\\n      'Position'\\n      'Confirmed'\\n      'Remarks'\\n     },\\n     {\\n      'Item Id'\\n      'ULD'\\n      'Number'\\n      'Airline'\\n      'Special'\\n      'Status'\\n      'Weight'\\n      'Weight Unit'\\n      'Pieces'\\n      'Volume'\\n      'Origin'\\n      'Onl.Sta.'\\n      'Dest.'\\n      'Category'\\n      'Position'\\n      'Confirmed'\\n      'Remarks'\\n     },\\n    ]\\n   },\\n  'Totals':\\n   {\\n    'Total baggage'\\n    'Total cargo'\\n    'Total EIC'\\n    'Total mail'\\n   },\\n  'Status':\\n   {\\n    'AIRCRAFT_CONFIG'\\n    'CARGO_TRANSFER'\\n    'CABIN_CONFIG'\\n    'TRANSIT_PAX'\\n    'AUTO_MODE_ACTIVE'\\n    'REGISTRATION'\\n    'REGISTRATION_CHANGE'\\n   },\\n },\\n\"\n",
      "\n",
      "\" {\\n  'Header':\\n   {\\n    'id'\\n    'flightId'\\n    'legId'\\n    'deleted'\\n    'fragmentId'\\n   },\\n  'Bulk':\\n   {\\n    [\\n     {\\n      'Item Id'\\n      'Number'\\n      'Status'\\n      'Weight'\\n      'Weight Unit'\\n      'Pieces'\\n      'Volume'\\n      'Origin'\\n      'Onl.Sta.'\\n      'Dest.'\\n      'Category'\\n      'Position'\\n      'Confirmed'\\n      'Remarks'\\n     },\\n    ]\\n   },\\n  'ULD':\\n   {\\n    [\\n     {\\n      'Item Id'\\n      'ULD'\\n      'Number'\\n      'Airline'\\n      'Special'\\n      'Status'\\n      'Weight'\\n      'Weight Unit'\\n      'Pieces'\\n      'Volume'\\n      'Origin'\\n      'Onl.Sta.'\\n      'Dest.'\\n      'Category'\\n      'Position'\\n      'Confirmed'\\n      'Remarks'\\n     },\\n     {\\n      'Item Id'\\n      'ULD'\\n      'Number'\\n      'Airline'\\n      'Special'\\n      'Status'\\n      'Weight'\\n      'Weight Unit'\\n      'Pieces'\\n      'Volume'\\n      'Origin'\\n      'Onl.Sta.'\\n      'Dest.'\\n      'Category'\\n      'Position'\\n      'Confirmed'\\n      'Remarks'\\n     },\\n     {\\n      'Item Id'\\n      'ULD'\\n      'Number'\\n      'Airline'\\n      'Special'\\n      'Status'\\n      'Weight'\\n      'Weight Unit'\\n      'Pieces'\\n      'Volume'\\n      'Origin'\\n      'Onl.Sta.'\\n      'Dest.'\\n      'Category'\\n      'Position'\\n      'Confirmed'\\n      'Remarks'\\n     },\\n    ]\\n   },\\n  'Totals':\\n   {\\n   },\\n  'Status':\\n   {\\n   },\\n },\\n\"\n",
      "\n",
      "\" {\\n  'Header':\\n   {\\n    'id'\\n    'flightId'\\n    'legId'\\n    'deleted'\\n    'fragmentId'\\n   },\\n  'Bulk':\\n   {\\n    [\\n     {\\n      'Item Id'\\n      'Number'\\n      'Status'\\n      'Weight'\\n      'Weight Unit'\\n      'Pieces'\\n      'Volume'\\n      'Origin'\\n      'Onl.Sta.'\\n      'Dest.'\\n      'Category'\\n      'Position'\\n      'Confirmed'\\n      'Remarks'\\n     },\\n    ]\\n   },\\n  'ULD':\\n   {\\n    [\\n     {\\n      'Item Id'\\n      'ULD'\\n      'Number'\\n      'Airline'\\n      'Special'\\n      'Status'\\n      'Weight'\\n      'Weight Unit'\\n      'Pieces'\\n      'Volume'\\n      'Origin'\\n      'Onl.Sta.'\\n      'Dest.'\\n      'Category'\\n      'Position'\\n      'Confirmed'\\n      'Remarks'\\n     },\\n     {\\n      'Item Id'\\n      'ULD'\\n      'Number'\\n      'Airline'\\n      'Special'\\n      'Status'\\n      'Weight'\\n      'Weight Unit'\\n      'Pieces'\\n      'Volume'\\n      'Origin'\\n      'Onl.Sta.'\\n      'Dest.'\\n      'Category'\\n      'Position'\\n      'Confirmed'\\n      'Remarks'\\n     },\\n     {\\n      'Item Id'\\n      'ULD'\\n      'Number'\\n      'Airline'\\n      'Special'\\n      'Status'\\n      'Weight'\\n      'Weight Unit'\\n      'Pieces'\\n      'Volume'\\n      'Origin'\\n      'Onl.Sta.'\\n      'Dest.'\\n      'Category'\\n      'Position'\\n      'Confirmed'\\n      'Remarks'\\n     },\\n    ]\\n   },\\n  'Totals':\\n   {\\n    'Total baggage'\\n    'Total cargo'\\n    'Total EIC'\\n    'Total mail'\\n   },\\n  'Status':\\n   {\\n    'AIRCRAFT_CONFIG'\\n    'CARGO_TRANSFER'\\n    'CABIN_CONFIG'\\n    'TRANSIT_ACCEPTANCE'\\n    'TRANSIT_PAX'\\n    'AUTO_MODE_ACTIVE'\\n    'REGISTRATION'\\n    'REGISTRATION_CHANGE'\\n   },\\n },\\n\"\n",
      "\n"
     ]
    }
   ],
   "source": [
    "if len(df) > 0:\n",
    "    for item in df.data.unique():\n",
    "        print(repr(item))\n",
    "        print()"
   ]
  },
  {
   "cell_type": "code",
   "execution_count": 285,
   "metadata": {},
   "outputs": [
    {
     "data": {
      "text/plain": [
       "\" {\\n  'AIRBORNE'\\n  'AIRCRAFT_CONFIG'\\n  'ALLOWANCE_CHECK_PERFORMED'\\n  'AUTOMATION_STARTED'\\n  'AUTO_MODE_ACTIVE'\\n  'BAG_LOAD_ITEMS_GEN'\\n  'BAG_ULD_ORD'\\n  'CABIN_CONFIG'\\n  'CALC_HIST_DATA'\\n  'CARGO_FINAL'\\n  'CARGO_TRANSFER'\\n  'CHECK_IN_FINAL'\\n  'CHECK_IN_OPEN'\\n  'DGR_ITEMS'\\n  'EZFW'\\n  'EZFW_COUNTER'\\n  'FINAL_RELEASE'\\n  'FUEL'\\n  'FUEL_ORDER'\\n  'LDM'\\n  'LOADING_INSTRUCTION'\\n  'LOADSHEET'\\n  'OFFBLOCK'\\n  'OFP'\\n  'PDM'\\n  'RAMP_FINAL'\\n  'REGISTRATION'\\n  'REGISTRATION_CHANGE'\\n  'TRANSIT_ACCEPTANCE'\\n  'TRANSIT_PAX'\\n },\\n\""
      ]
     },
     "execution_count": 285,
     "metadata": {},
     "output_type": "execute_result"
    }
   ],
   "source": [
    "\" {\\n  'AIRBORNE'\\n  'AIRCRAFT_CONFIG'\\n  'ALLOWANCE_CHECK_PERFORMED'\\n  'AUTOMATION_STARTED'\\n  'AUTO_MODE_ACTIVE'\\n  'BAG_LOAD_ITEMS_GEN'\\n  'BAG_ULD_ORD'\\n  'CABIN_CONFIG'\\n  'CALC_HIST_DATA'\\n  'CARGO_FINAL'\\n  'CARGO_TRANSFER'\\n  'CHECK_IN_FINAL'\\n  'CHECK_IN_OPEN'\\n  'DGR_ITEMS'\\n  'EZFW'\\n  'EZFW_COUNTER'\\n  'FINAL_RELEASE'\\n  'FUEL'\\n  'FUEL_ORDER'\\n  'LDM'\\n  'LOADING_INSTRUCTION'\\n  'LOADSHEET'\\n  'OFFBLOCK'\\n  'OFP'\\n  'PDM'\\n  'RAMP_FINAL'\\n  'REGISTRATION'\\n  'REGISTRATION_CHANGE'\\n  'TRANSIT_ACCEPTANCE'\\n  'TRANSIT_PAX'\\n },\\n\"\n",
    "\" {\\n  'AIRBORNE'\\n  'AIRCRAFT_CONFIG'\\n  'ALLOWANCE_CHECK_PERFORMED'\\n  'AUTOMATION_STARTED'\\n  'AUTO_MODE_ACTIVE'\\n  'BAG_LOAD_ITEMS_GEN'\\n  'BAG_ULD_ORD'\\n  'CABIN_CONFIG'\\n  'CALC_HIST_DATA'\\n  'CARGO_FINAL'\\n  'CARGO_TRANSFER'\\n  'CHECK_IN_FINAL'\\n  'CHECK_IN_OPEN'\\n  'DGR_ITEMS'\\n  'EZFW'\\n  'EZFW_COUNTER'\\n  'FINAL_RELEASE'\\n  'FUEL'\\n  'FUEL_ORDER'\\n  'LDM'\\n  'LOADING_INSTRUCTION'\\n  'LOADSHEET'\\n  'OFFBLOCK'\\n  'OFP'\\n  'PDM'\\n  'RAMP_FINAL'\\n  'REGISTRATION'\\n  'REGISTRATION_CHANGE'\\n  'TRANSIT_ACCEPTANCE'\\n  'TRANSIT_PAX'\\n },\\n\"\n",
    "\" {\\n  'AIRBORNE'\\n  'AIRCRAFT_CONFIG'\\n  'ALLOWANCE_CHECK_PERFORMED'\\n  'AUTOMATION_STARTED'\\n  'AUTO_MODE_ACTIVE'\\n  'BAG_LOAD_ITEMS_GEN'\\n  'BAG_ULD_ORD'\\n  'CABIN_CONFIG'\\n  'CALC_HIST_DATA'\\n  'CARGO_FINAL'\\n  'CARGO_TRANSFER'\\n  'CHECK_IN_FINAL'\\n  'CHECK_IN_OPEN'\\n  'DGR_ITEMS'\\n  'EZFW'\\n  'EZFW_COUNTER'\\n  'FINAL_RELEASE'\\n  'FUEL'\\n  'FUEL_ORDER'\\n  'LDM'\\n  'LOADING_INSTRUCTION'\\n  'LOADSHEET'\\n  'OFFBLOCK'\\n  'OFP'\\n  'PDM'\\n  'RAMP_FINAL'\\n  'REGISTRATION'\\n  'REGISTRATION_CHANGE'\\n  'TRANSIT_ACCEPTANCE'\\n  'TRANSIT_PAX'\\n },\\n\"\n",
    "\n",
    "\" {\\n  'Discrepancy check result':\\n   {\\n    'Discrepancy happened'\\n   },\\n  'Discrepancies':\\n   {\\n    [\\n     {\\n      'Type'\\n      'Destination'\\n      'Bag pieces'\\n      'Bag weight'\\n     },\\n     {\\n      'Type'\\n      'Destination'\\n      'Bag pieces'\\n      'Bag weight'\\n     },\\n     {\\n      'Type'\\n      'Destination'\\n      'Bag pieces'\\n      'Bag weight'\\n     },\\n    ]\\n   },\\n },\\n\"\n",
    "\" {\\n  'Discrepancy check result':\\n   {\\n    'Discrepancy happened'\\n   },\\n  'Discrepancies':\\n   {\\n    [\\n     {\\n      'Type'\\n      'Destination'\\n      'Bag pieces'\\n      'Bag weight'\\n     },\\n     {\\n      'Type'\\n      'Destination'\\n      'Bag pieces'\\n      'Bag weight'\\n     },\\n     {\\n      'Type'\\n      'Destination'\\n      'Bag pieces'\\n      'Bag weight'\\n     },\\n    ]\\n   },\\n },\\n\"\n",
    "\n",
    "\n"
   ]
  },
  {
   "cell_type": "code",
   "execution_count": 286,
   "metadata": {},
   "outputs": [
    {
     "name": "stdout",
     "output_type": "stream",
     "text": [
      "2\n",
      " {\n",
      "  'Discrepancy check result':\n",
      "   {\n",
      "    'Discrepancy happened'\n",
      "   },\n",
      "  'Discrepancies':\n",
      "   {\n",
      "    [\n",
      "     {\n",
      "      'Type'\n",
      "      'Destination'\n",
      "      'Bag pieces'\n",
      "      'Bag weight'\n",
      "     },\n",
      "     {\n",
      "      'Type'\n",
      "      'Destination'\n",
      "      'Bag pieces'\n",
      "      'Bag weight'\n",
      "     },\n",
      "     {\n",
      "      'Type'\n",
      "      'Destination'\n",
      "      'Bag pieces'\n",
      "      'Bag weight'\n",
      "     },\n",
      "    ]\n",
      "   },\n",
      " },\n",
      "\n"
     ]
    }
   ],
   "source": [
    "print(len(df.data.unique()))\n",
    "print(df.data.unique()[1])"
   ]
  },
  {
   "cell_type": "markdown",
   "metadata": {},
   "source": [
    "## Extract all keywords"
   ]
  },
  {
   "cell_type": "code",
   "execution_count": 230,
   "metadata": {},
   "outputs": [],
   "source": [
    "s = set()"
   ]
  },
  {
   "cell_type": "code",
   "execution_count": 201,
   "metadata": {},
   "outputs": [],
   "source": [
    "for item in df.data.unique()[1:]:\n",
    "    s.update(re.findall(r\"'(.*?)'\", item))"
   ]
  },
  {
   "cell_type": "code",
   "execution_count": 229,
   "metadata": {},
   "outputs": [
    {
     "name": "stdout",
     "output_type": "stream",
     "text": [
      "['AIRCRAFT_CONFIG', 'AUTOMATION_STARTED', 'AUTO_MODE_ACTIVE', 'BAG_LOAD_ITEMS_GEN', 'Bag Weight', 'CABIN_CONFIG', 'CALC_HIST_DATA', 'CARGO_FINAL', 'CARGO_TRANSFER', 'CHECK_IN_OPEN', 'Cargo', 'DGR_ITEMS', 'DOW', 'EZFW', 'EZFW_COUNTER', 'FUEL', 'FUEL_ORDER', 'Mail', 'OFP', 'Pax Weight', 'REGISTRATION', 'REGISTRATION_CHANGE', 'TRANSIT_ACCEPTANCE', 'TRANSIT_PAX', 'Weight Unit', 'ZFW']\n"
     ]
    }
   ],
   "source": [
    "print(sorted(list(s)))"
   ]
  }
 ],
 "metadata": {
  "kernelspec": {
   "display_name": "AERO",
   "language": "python",
   "name": "python3"
  },
  "language_info": {
   "codemirror_mode": {
    "name": "ipython",
    "version": 3
   },
   "file_extension": ".py",
   "mimetype": "text/x-python",
   "name": "python",
   "nbconvert_exporter": "python",
   "pygments_lexer": "ipython3",
   "version": "3.12.3"
  }
 },
 "nbformat": 4,
 "nbformat_minor": 2
}
