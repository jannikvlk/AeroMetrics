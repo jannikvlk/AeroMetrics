{
 "cells": [
  {
   "cell_type": "code",
   "execution_count": 2,
   "metadata": {},
   "outputs": [],
   "source": [
    "import pandas as pd\n",
    "from files import *\n"
   ]
  },
  {
   "cell_type": "code",
   "execution_count": 3,
   "metadata": {},
   "outputs": [],
   "source": [
    "files = {\n",
    "    PARQUET_AB_WEIGHTS: CSV_AB_WEIGHTS,\n",
    "    PARQUET_MN_WEIGHTS: CSV_MN_FLIGHTTABLE,\n",
    "    PARQUET_ZY_WEIGHTS: CSV_ZY_WEIGHTS,\n",
    "    PARQUET_WEIGHTS: CSV_WEIGHTS,\n",
    "    PARQUET_AB_FLIGHTTABLE: CSV_AB_FLIGHTTABLE,\n",
    "    PARQUET_MN_FLIGHTTABLE: CSV_MN_FLIGHTTABLE,\n",
    "    PARQUET_ZY_FLIGHTTABLE: CSV_ZY_FLIGHTTABLE,\n",
    "    PARQUET_FLIGHTTABLE: CSV_FLIGHTTABLE,\n",
    "}"
   ]
  },
  {
   "cell_type": "code",
   "execution_count": 5,
   "metadata": {},
   "outputs": [],
   "source": [
    "for source, target in files.items():\n",
    "    pd.read_parquet(source).to_csv(target, index=False, sep=',', quotechar='\"')"
   ]
  },
  {
   "cell_type": "code",
   "execution_count": 5,
   "metadata": {},
   "outputs": [
    {
     "name": "stderr",
     "output_type": "stream",
     "text": [
      "C:\\Users\\voelk\\AppData\\Local\\Temp\\ipykernel_31920\\2789344444.py:5: FutureWarning: The behavior of DataFrame concatenation with empty or all-NA entries is deprecated. In a future version, this will no longer exclude empty or all-NA columns when determining the result dtypes. To retain the old behavior, exclude the relevant entries before the concat operation.\n",
      "  w = pd.concat([ab_w, mn_w, zy_w])\n"
     ]
    }
   ],
   "source": [
    "ab_w = pd.read_parquet(PARQUET_AB_WEIGHTS)\n",
    "mn_w = pd.read_parquet(PARQUET_MN_WEIGHTS)\n",
    "zy_w = pd.read_parquet(PARQUET_ZY_WEIGHTS)\n",
    "\n",
    "w = pd.concat([ab_w, mn_w, zy_w])"
   ]
  },
  {
   "cell_type": "code",
   "execution_count": 6,
   "metadata": {},
   "outputs": [],
   "source": [
    "w.to_parquet(PARQUET_WEIGHTS, engine=\"pyarrow\", compression=\"brotli\")\n"
   ]
  },
  {
   "cell_type": "code",
   "execution_count": 10,
   "metadata": {},
   "outputs": [],
   "source": [
    "w.to_csv(CSV_WEIGHTS, index=False, sep=\",\", quotechar='\"')"
   ]
  },
  {
   "cell_type": "code",
   "execution_count": null,
   "metadata": {},
   "outputs": [],
   "source": [
    "w"
   ]
  },
  {
   "cell_type": "code",
   "execution_count": 8,
   "metadata": {},
   "outputs": [],
   "source": [
    "ab_f = pd.read_parquet(PARQUET_AB_FLIGHTTABLE)\n",
    "mn_f = pd.read_parquet(PARQUET_MN_FLIGHTTABLE)\n",
    "zy_f = pd.read_parquet(PARQUET_ZY_FLIGHTTABLE)\n",
    "\n",
    "f = pd.concat([ab_f, mn_f, zy_f])"
   ]
  },
  {
   "cell_type": "code",
   "execution_count": 9,
   "metadata": {},
   "outputs": [],
   "source": [
    "f.to_parquet(PARQUET_FLIGHTTABLE, engine=\"pyarrow\", compression=\"brotli\")"
   ]
  },
  {
   "cell_type": "code",
   "execution_count": 11,
   "metadata": {},
   "outputs": [],
   "source": [
    "f.to_csv(CSV_FLIGHTTABLE, index=False, sep=\",\", quotechar='\"')"
   ]
  }
 ],
 "metadata": {
  "kernelspec": {
   "display_name": "aero",
   "language": "python",
   "name": "python3"
  },
  "language_info": {
   "codemirror_mode": {
    "name": "ipython",
    "version": 3
   },
   "file_extension": ".py",
   "mimetype": "text/x-python",
   "name": "python",
   "nbconvert_exporter": "python",
   "pygments_lexer": "ipython3",
   "version": "3.11.9"
  }
 },
 "nbformat": 4,
 "nbformat_minor": 2
}
