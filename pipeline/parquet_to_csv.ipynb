{
 "cells": [
  {
   "cell_type": "code",
   "execution_count": 1,
   "metadata": {},
   "outputs": [],
   "source": [
    "import pandas as pd\n",
    "from files import *\n"
   ]
  },
  {
   "cell_type": "code",
   "execution_count": 2,
   "metadata": {},
   "outputs": [],
   "source": [
    "files = {\n",
    "    PARQUET_AB_WEIGHTS: CSV_AB_WEIGHTS,\n",
    "    PARQUET_MN_WEIGHTS: CSV_MN_FLIGHTTABLE,\n",
    "    PARQUET_ZY_WEIGHTS: CSV_ZY_WEIGHTS,\n",
    "    PARQUET_WEIGHTS: CSV_WEIGHTS,\n",
    "    PARQUET_AB_FLIGHTTABLE: CSV_AB_FLIGHTTABLE,\n",
    "    PARQUET_MN_FLIGHTTABLE: CSV_MN_FLIGHTTABLE,\n",
    "    PARQUET_ZY_FLIGHTTABLE: CSV_ZY_FLIGHTTABLE,\n",
    "    PARQUET_FLIGHTTABLE: CSV_FLIGHTTABLE,\n",
    "}"
   ]
  },
  {
   "cell_type": "code",
   "execution_count": 5,
   "metadata": {},
   "outputs": [],
   "source": [
    "for source, target in files.items():\n",
    "    pd.read_parquet(source).to_csv(target, index=False, sep=',', quotechar='\"')"
   ]
  },
  {
   "cell_type": "code",
   "execution_count": null,
   "metadata": {},
   "outputs": [],
   "source": []
  }
 ],
 "metadata": {
  "kernelspec": {
   "display_name": "aero",
   "language": "python",
   "name": "python3"
  },
  "language_info": {
   "codemirror_mode": {
    "name": "ipython",
    "version": 3
   },
   "file_extension": ".py",
   "mimetype": "text/x-python",
   "name": "python",
   "nbconvert_exporter": "python",
   "pygments_lexer": "ipython3",
   "version": "3.11.9"
  }
 },
 "nbformat": 4,
 "nbformat_minor": 2
}
