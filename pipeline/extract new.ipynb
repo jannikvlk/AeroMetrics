{
      "cells": [
            {
                  "cell_type": "code",
                  "execution_count": 1,
                  "metadata": {},
                  "outputs": [
                        {
                              "name": "stderr",
                              "output_type": "stream",
                              "text": [
                                    "c:\\Users\\I552412\\AppData\\Local\\miniconda3\\envs\\aero\\Lib\\site-packages\\tqdm\\auto.py:21: TqdmWarning: IProgress not found. Please update jupyter and ipywidgets. See https://ipywidgets.readthedocs.io/en/stable/user_install.html\n",
                                    "  from .autonotebook import tqdm as notebook_tqdm\n"
                              ]
                        }
                  ],
                  "source": [
                        "import pandas as pd\n",
                        "from tqdm.auto import tqdm\n",
                        "import actions\n",
                        "from pathlib import Path\n",
                        "from utils import *\n",
                        "import re\n",
                        "from tqdm.auto import tqdm\n",
                        "import json"
                  ]
            },
            {
                  "cell_type": "code",
                  "execution_count": 2,
                  "metadata": {},
                  "outputs": [
                        {
                              "name": "stdout",
                              "output_type": "stream",
                              "text": [
                                    "..\\data\\ABCD_tripfiles.parquet ..\\data\\ABCD_tripfiles_conv.parquet ..\\data\\MNOP_tripfiles.parquet ..\\data\\MNOP_tripfiles_conv.parquet ..\\data\\ZYXW_tripfiles.parquet ..\\data\\ZYXW_tripfiles_conv.parquet\n"
                              ]
                        }
                  ],
                  "source": [
                        "# Define the file paths\n",
                        "parquet_file_abcd = Path(\"../data/ABCD_tripfiles.parquet\")\n",
                        "parquet_file_abcd_conv = Path(\"../data/ABCD_tripfiles_conv.parquet\")\n",
                        "parquet_file_mnop = Path(\"../data/MNOP_tripfiles.parquet\")\n",
                        "parquet_file_mnop_conv = Path(\"../data/MNOP_tripfiles_conv.parquet\")\n",
                        "parquet_file_zyxw = Path(\"../data/ZYXW_tripfiles.parquet\")\n",
                        "parquet_file_zyxw_conv = Path(\"../data/ZYXW_tripfiles_conv.parquet\")\n",
                        "print(\n",
                        "    parquet_file_abcd,\n",
                        "    parquet_file_abcd_conv,\n",
                        "    parquet_file_mnop,\n",
                        "    parquet_file_mnop_conv,\n",
                        "    parquet_file_zyxw,\n",
                        "    parquet_file_zyxw_conv,\n",
                        ")"
                  ]
            },
            {
                  "cell_type": "code",
                  "execution_count": 3,
                  "metadata": {},
                  "outputs": [],
                  "source": [
                        "df_abcd = pd.read_parquet(parquet_file_abcd)\n",
                        "df_mnop = pd.read_parquet(parquet_file_mnop)\n",
                        "df_zyxw = pd.read_parquet(parquet_file_zyxw)"
                  ]
            },
            {
                  "cell_type": "code",
                  "execution_count": 4,
                  "metadata": {},
                  "outputs": [
                        {
                              "name": "stdout",
                              "output_type": "stream",
                              "text": [
                                    "1214.94 MB\n",
                                    "2219.62 MB\n",
                                    "585.54 MB\n"
                              ]
                        }
                  ],
                  "source": [
                        "print(round(df_abcd.memory_usage(deep=True).sum() / 1024**2, 2), \"MB\")\n",
                        "print(round(df_mnop.memory_usage(deep=True).sum() / 1024**2, 2), \"MB\")\n",
                        "print(round(df_zyxw.memory_usage(deep=True).sum() / 1024**2, 2), \"MB\")"
                  ]
            },
            {
                  "cell_type": "code",
                  "execution_count": 5,
                  "metadata": {},
                  "outputs": [
                        {
                              "name": "stdout",
                              "output_type": "stream",
                              "text": [
                                    "49\n",
                                    "62\n",
                                    "67\n"
                              ]
                        }
                  ],
                  "source": [
                        "action_names = set(df_abcd.action_name.unique())\n",
                        "print(len(action_names))\n",
                        "action_names.update(set(df_mnop.action_name.unique()))\n",
                        "print(len(action_names))\n",
                        "action_names.update(set(df_zyxw.action_name.unique()))\n",
                        "print(len(action_names))"
                  ]
            },
            {
                  "cell_type": "code",
                  "execution_count": 6,
                  "metadata": {},
                  "outputs": [],
                  "source": [
                        "action_extractors = {\n",
                        "    \"CalculateWeightAndTrimAction\": None,\n",
                        "    \"CheckinMsgProcessor\": None,\n",
                        "    \"CreateLoadsheetAction\": None,\n",
                        "    \"CreateZFWMessageAction\": None,\n",
                        "    \"SendFuelOrderAction\": None,\n",
                        "    \"SendLoadsheetAction\": None,\n",
                        "    \"SetActualBagWeightIndicatorAction\": None,\n",
                        "    \"StorePaxDataAction\": None,\n",
                        "    \"StoreRegistrationAndConfigurationAc\": None,\n",
                        "    \"UpdateFuelDataAction\": actions.UpdateFuelDataAction.extract,\n",
                        "    \"RampFinalAction\": actions.RampFinalAction.extract,\n",
                        "    \"CreateLoadingInstructionAction\": None,\n",
                        "    \"CopyPaxDataAction\": None,\n",
                        "    \"CreateBaggageLoadItemsAction\": None,\n",
                        "    \"EstimateStorePaxDataAction\": actions.EstimateStorePaxDataAction.extract,\n",
                        "    \"SendLoadingInstructionAction\": None,\n",
                        "    \"SetCKIPaxDistributionAction\": actions.SetCKIPaxDistributionAction.extract,\n",
                        "    \"SpecialPaxWeightAction\": None,\n",
                        "    \"StoreAircraftDataAction\": None,\n",
                        "    \"StoreCKIAverageWeightAction\": None,\n",
                        "    \"StorePaxDataGuiAction\": None,\n",
                        "    \"TdmCreateLoadingInstructionAction\": actions.TdmCreateLoadingInstructionAction.extract,\n",
                        "    \"TransferCargoAction\": None,\n",
                        "    \"TransferCheckinDataAction\": None,\n",
                        "    \"UpdateCargoMailEstimatesAction\": None,\n",
                        "    \"UpdateEstimatesAction\": actions.UpdateEstimatesAction.extract,\n",
                        "    \"UpdateLastEzfwSentAction\": None,\n",
                        "    \"UpdateLoadTableAction\": None,\n",
                        "}"
                  ]
            },
            {
                  "cell_type": "code",
                  "execution_count": 7,
                  "metadata": {},
                  "outputs": [
                        {
                              "name": "stdout",
                              "output_type": "stream",
                              "text": [
                                    "UpdateFuelDataAction\n"
                              ]
                        },
                        {
                              "name": "stderr",
                              "output_type": "stream",
                              "text": [
                                    "100%|██████████| 3583/3583 [00:00<00:00, 102304.28it/s]"
                              ]
                        },
                        {
                              "name": "stdout",
                              "output_type": "stream",
                              "text": [
                                    "RampFinalAction\n"
                              ]
                        },
                        {
                              "name": "stderr",
                              "output_type": "stream",
                              "text": [
                                    "100%|██████████| 3804/3804 [00:00<00:00, 28133.46it/s]\n"
                              ]
                        },
                        {
                              "name": "stdout",
                              "output_type": "stream",
                              "text": [
                                    "EstimateStorePaxDataAction\n"
                              ]
                        },
                        {
                              "name": "stderr",
                              "output_type": "stream",
                              "text": [
                                    "100%|██████████| 5069/5069 [00:00<00:00, 38836.29it/s]\n"
                              ]
                        },
                        {
                              "name": "stdout",
                              "output_type": "stream",
                              "text": [
                                    "SetCKIPaxDistributionAction\n"
                              ]
                        },
                        {
                              "name": "stderr",
                              "output_type": "stream",
                              "text": [
                                    "0it [00:00, ?it/s]\n"
                              ]
                        },
                        {
                              "name": "stdout",
                              "output_type": "stream",
                              "text": [
                                    "UpdateEstimatesAction\n"
                              ]
                        },
                        {
                              "name": "stderr",
                              "output_type": "stream",
                              "text": [
                                    "100%|██████████| 1870/1870 [00:00<00:00, 10524.68it/s]\n"
                              ]
                        },
                        {
                              "name": "stdout",
                              "output_type": "stream",
                              "text": [
                                    "RampFinalAction\n"
                              ]
                        },
                        {
                              "name": "stderr",
                              "output_type": "stream",
                              "text": [
                                    "100%|██████████| 5612/5612 [00:00<00:00, 36020.40it/s]"
                              ]
                        },
                        {
                              "name": "stdout",
                              "output_type": "stream",
                              "text": [
                                    "EstimateStorePaxDataAction\n"
                              ]
                        },
                        {
                              "name": "stderr",
                              "output_type": "stream",
                              "text": [
                                    "\n",
                                    "100%|██████████| 4633/4633 [00:00<00:00, 773852.51it/s]\n"
                              ]
                        },
                        {
                              "name": "stdout",
                              "output_type": "stream",
                              "text": [
                                    "SetCKIPaxDistributionAction\n"
                              ]
                        },
                        {
                              "name": "stderr",
                              "output_type": "stream",
                              "text": [
                                    "0it [00:00, ?it/s]\n"
                              ]
                        },
                        {
                              "name": "stdout",
                              "output_type": "stream",
                              "text": [
                                    "UpdateEstimatesAction\n"
                              ]
                        },
                        {
                              "name": "stderr",
                              "output_type": "stream",
                              "text": [
                                    "100%|██████████| 174/174 [00:00<00:00, 10875.30it/s]\n"
                              ]
                        }
                  ],
                  "source": [
                        "def extract_df(df: pd.DataFrame):\n",
                        "    tqdm.pandas()\n",
                        "    for action_name, extractor in action_extractors.items():\n",
                        "\n",
                        "        if extractor is not None:\n",
                        "            print(action_name)\n",
                        "\n",
                        "            df[f\"data_{action_name}\"] = df[df.action_name == action_name][\n",
                        "                \"entry_details\"\n",
                        "            ].progress_apply(extractor)\n",
                        "    return df\n",
                        "\n",
                        "\n",
                        "df_abcd_conv = extract_df(df_abcd)\n",
                        "df_abcd_conv.to_parquet(parquet_file_abcd_conv, engine=\"pyarrow\", compression=\"brotli\")\n",
                        "\n",
                        "df_mnop_conv = extract_df(df_mnop)\n",
                        "df_mnop_conv.to_parquet(parquet_file_mnop_conv, engine=\"pyarrow\", compression=\"brotli\")\n",
                        "\n",
                        "df_zyxw_conv = extract_df(df_zyxw)\n",
                        "df_zyxw_conv.to_parquet(parquet_file_zyxw_conv, engine=\"pyarrow\", compression=\"brotli\")"
                  ]
            },
            {
                  "cell_type": "code",
                  "execution_count": 8,
                  "metadata": {},
                  "outputs": [],
                  "source": [
                        "df = df_mnop\n",
                        "\n",
                        "\n",
                        "x = df[\n",
                        "    (df.action_name == \"TdmCreateLoadingInstructionAction\")\n",
                        "    # & (~df[\"entry_details\"].isnull())\n",
                        "    & (\n",
                        "        ~df[\"entry_details\"].str.contains(\n",
                        "            \"com.systemone.lc2.common.dto.SingleAttributeDTO\", na=False\n",
                        "        )\n",
                        "    )\n",
                        "    & (\n",
                        "        ~df[\"entry_details\"].str.contains(\"STATUS LOADING_INSTRUCTION\", na=False)\n",
                        "    )  # STATUS LOZYING_INSTRUCTION also included\n",
                        "    & (~df[\"entry_details\"].str.contains(\"STATUS LOZYING_INSTRUCTION\", na=False))\n",
                        "    & (\n",
                        "        ~df[\"entry_details\"].str.contains(\"Email receivers\", na=False)\n",
                        "    )  # don't include this\n",
                        "    & (\n",
                        "        ~df[\"entry_details\"].str.contains(\"Telex receivers\", na=False)\n",
                        "    )  # don't include this\n",
                        "][\"entry_details\"].unique()"
                  ]
            },
            {
                  "cell_type": "code",
                  "execution_count": 9,
                  "metadata": {},
                  "outputs": [
                        {
                              "ename": "IndexError",
                              "evalue": "index 2 is out of bounds for axis 0 with size 0",
                              "output_type": "error",
                              "traceback": [
                                    "\u001b[1;31m---------------------------------------------------------------------------\u001b[0m",
                                    "\u001b[1;31mIndexError\u001b[0m                                Traceback (most recent call last)",
                                    "Cell \u001b[1;32mIn[97], line 1\u001b[0m\n\u001b[1;32m----> 1\u001b[0m \u001b[38;5;28mprint\u001b[39m(\u001b[43mx\u001b[49m\u001b[43m[\u001b[49m\u001b[38;5;241;43m2\u001b[39;49m\u001b[43m]\u001b[49m)\n",
                                    "\u001b[1;31mIndexError\u001b[0m: index 2 is out of bounds for axis 0 with size 0"
                              ]
                        }
                  ],
                  "source": [
                        "print(x[2])"
                  ]
            },
            {
                  "cell_type": "code",
                  "execution_count": 13,
                  "metadata": {},
                  "outputs": [],
                  "source": [
                        "def extract(message: str):\n",
                        "    typos = {\n",
                        "        \"BAG_LOZY_ITEMS_GEN\": \"BAG_LOAD_ITEMS_GEN\",\n",
                        "        \"LOZYING_INSTRUCTION\": \"LOADING_INSTRUCTION\",\n",
                        "        \"LOZYSHEET\": \"LOADSHEET\",\n",
                        "    }  # Fix typos in the messages from zyxw\n",
                        "    for key, value in typos.items():\n",
                        "        message = message.replace(key, value)\n",
                        "\n",
                        "    if \"com.systemone.lc2.common.dto.SingleAttributeDTO\" in message:\n",
                        "        return None\n",
                        "    if \"STATUS LOADING_INSTRUCTION\" in message:\n",
                        "        \"\"\" \n",
                        "        Example Message: 'STATUS LOADING_INSTRUCTION 1 FUEL 2 AIRCRAFT_CONFIG 1 EZFW 1 \n",
                        "        CARGO_FINAL 1 CARGO_TRANSFER 1 OFP 2 CABIN_CONFIG 1 AUTO_MODE_ACTIVE 1 AUTOMATION_STARTED 0 \n",
                        "        BAG_LOAD_ITEMS_GEN 1 EZFW_COUNTER 1 REGISTRATION 1 REGISTRATION_CHANGE 1 FUEL_ORDER 2'\n",
                        "        \n",
                        "        All the keys are separated by a space and the values are the next element in the list.\n",
                        "        \"\"\"\n",
                        "        keys = [\n",
                        "            \"LOADING_INSTRUCTION\",\n",
                        "            \"FUEL\",\n",
                        "            \"AIRCRAFT_CONFIG\",\n",
                        "            \"EZFW\",\n",
                        "            \"CARGO_FINAL\",\n",
                        "            \"CARGO_TRANSFER\",\n",
                        "            \"OFP\",\n",
                        "            \"CABIN_CONFIG\",\n",
                        "            \"AUTO_MODE_ACTIVE\",\n",
                        "            \"AUTOMATION_STARTED\",\n",
                        "            \"BAG_LOAD_ITEMS_GEN\",\n",
                        "            \"EZFW_COUNTER\",\n",
                        "            \"REGISTRATION\",\n",
                        "            \"REGISTRATION_CHANGE\",\n",
                        "            \"FUEL_ORDER\",\n",
                        "            \"DGR_ITEMS\",\n",
                        "            \"CHECK_IN_FINAL\",\n",
                        "            \"OFFBLOCK\",\n",
                        "            \"AIRBORNE\",\n",
                        "            \"BAG_ULD_ORD\",\n",
                        "            \"CALC_HIST_DATA\",\n",
                        "        ]\n",
                        "\n",
                        "        # Initialize dictionary with None for all keys\n",
                        "        data = {key: None for key in keys}\n",
                        "\n",
                        "        # Split the message into parts\n",
                        "        parts = message.split()\n",
                        "\n",
                        "        # Iterate through parts and extract key-value pairs\n",
                        "        i = 0\n",
                        "        while i < len(parts):\n",
                        "            if parts[i] in keys:\n",
                        "                key = parts[i]\n",
                        "                if i + 1 < len(parts) and re.match(r\"^-?\\d+(\\.\\d+)?$\", parts[i + 1]):\n",
                        "                    value = parts[i + 1]\n",
                        "                    data[key] = int(value)\n",
                        "                    i += 2\n",
                        "                else:\n",
                        "                    i += 1\n",
                        "            else:\n",
                        "                i += 1\n",
                        "\n",
                        "        return  json.dumps(data)\n",
                        "    \n",
                        "    if \"Telex receivers\" in message or \"Email receivers\" in message: \n",
                        "       return None #not relevant enough\n",
                        "    raise NotImplementedError(\"This message is not supported yet\")"
                  ]
            },
            {
                  "cell_type": "code",
                  "execution_count": 11,
                  "metadata": {},
                  "outputs": [],
                  "source": [
                        "tqdm.pandas()"
                  ]
            },
            {
                  "cell_type": "code",
                  "execution_count": 14,
                  "metadata": {},
                  "outputs": [
                        {
                              "name": "stderr",
                              "output_type": "stream",
                              "text": [
                                    "100%|██████████| 1182/1182 [00:00<00:00, 38129.45it/s]\n"
                              ]
                        }
                  ],
                  "source": [
                        "foo = df_mnop[df_mnop.action_name == \"TdmCreateLoadingInstructionAction\"][\n",
                        "    \"entry_details\"\n",
                        "].progress_apply(extract)"
                  ]
            },
            {
                  "cell_type": "code",
                  "execution_count": 27,
                  "metadata": {},
                  "outputs": [
                        {
                              "data": {
                                    "text/plain": [
                                          "394"
                                    ]
                              },
                              "execution_count": 27,
                              "metadata": {},
                              "output_type": "execute_result"
                        }
                  ],
                  "source": [
                        "foo[foo.str.contains(\"LOADING_INSTRUCTION\", na=False)].count()"
                  ]
            },
            {
                  "cell_type": "code",
                  "execution_count": 90,
                  "metadata": {},
                  "outputs": [
                        {
                              "name": "stdout",
                              "output_type": "stream",
                              "text": [
                                    "{\n",
                                    "  \"Telex receivers\": \"ASRV1ZY\",\n",
                                    "  \"Message type\": \"LOADING_INSTRUCTION\",\n",
                                    "  \"Subject\": \"ZY2111/03MAY BVH-MCZ; Loading Instruction Edition 01\\r\",\n",
                                    "  \"Attachment file name\": null,\n",
                                    "  \"Compartments\": [],\n",
                                    "  \"Notes\": null\n",
                                    "}\n"
                              ]
                        }
                  ],
                  "source": [
                        "print(extract(x[0]))"
                  ]
            },
            {
                  "cell_type": "code",
                  "execution_count": 13,
                  "metadata": {},
                  "outputs": [
                        {
                              "ename": "AttributeError",
                              "evalue": "'numpy.ndarray' object has no attribute 'action_name'",
                              "output_type": "error",
                              "traceback": [
                                    "\u001b[1;31m---------------------------------------------------------------------------\u001b[0m",
                                    "\u001b[1;31mAttributeError\u001b[0m                            Traceback (most recent call last)",
                                    "Cell \u001b[1;32mIn[13], line 1\u001b[0m\n\u001b[1;32m----> 1\u001b[0m x[\u001b[38;5;124m\"\u001b[39m\u001b[38;5;124mdata_UpdateEstimatesAction\u001b[39m\u001b[38;5;124m\"\u001b[39m] \u001b[38;5;241m=\u001b[39m x[\u001b[43mx\u001b[49m\u001b[38;5;241;43m.\u001b[39;49m\u001b[43maction_name\u001b[49m \u001b[38;5;241m==\u001b[39m \u001b[38;5;124m\"\u001b[39m\u001b[38;5;124mUpdateEstimatesAction\u001b[39m\u001b[38;5;124m\"\u001b[39m][\n\u001b[0;32m      2\u001b[0m     \u001b[38;5;124m\"\u001b[39m\u001b[38;5;124mentry_details\u001b[39m\u001b[38;5;124m\"\u001b[39m\n\u001b[0;32m      3\u001b[0m ]\u001b[38;5;241m.\u001b[39mprogress_apply(extract)\n",
                                    "\u001b[1;31mAttributeError\u001b[0m: 'numpy.ndarray' object has no attribute 'action_name'"
                              ]
                        }
                  ],
                  "source": [
                        "\n",
                        "x[\"data_UpdateEstimatesAction\"] = x[x.action_name == \"UpdateEstimatesAction\"][\n",
                        "    \"entry_details\"\n",
                        "].progress_apply(extract)"
                  ]
            },
            {
                  "cell_type": "code",
                  "execution_count": null,
                  "metadata": {},
                  "outputs": [],
                  "source": [
                        "x = df_abcd.copy()"
                  ]
            }
      ],
      "metadata": {
            "kernelspec": {
                  "display_name": "AERO",
                  "language": "python",
                  "name": "python3"
            },
            "language_info": {
                  "codemirror_mode": {
                        "name": "ipython",
                        "version": 3
                  },
                  "file_extension": ".py",
                  "mimetype": "text/x-python",
                  "name": "python",
                  "nbconvert_exporter": "python",
                  "pygments_lexer": "ipython3",
                  "version": "3.12.3"
            }
      },
      "nbformat": 4,
      "nbformat_minor": 2
}