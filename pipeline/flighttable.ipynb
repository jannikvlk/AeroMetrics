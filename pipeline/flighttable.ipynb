{
 "cells": [
  {
   "cell_type": "code",
   "execution_count": 8,
   "metadata": {},
   "outputs": [],
   "source": [
    "import pandas as pd\n",
    "import json\n",
    "\n",
    "# Datei einlesen\n",
    "df = pd.read_parquet(\"../data/ABCD_tripfiles_conv.parquet\")\n",
    "# df = pd.read_parquet(\"../data/MNOP_tripfiles_conv.parquet\")\n",
    "# df = pd.read_parquet(\"../data/ZYXW_tripfiles_conv.parquet\")"
   ]
  },
  {
   "cell_type": "code",
   "execution_count": 9,
   "metadata": {},
   "outputs": [],
   "source": [
    "# Hilfsfunktion zum Extrahieren von Daten aus JSON-Spalten\n",
    "def extract_json_data(row, column, keys):\n",
    "    try:\n",
    "        if pd.notna(row[column]):\n",
    "            data = json.loads(row[column])\n",
    "            for key in keys:\n",
    "                data = data.get(key, None)\n",
    "            return data\n",
    "        return None\n",
    "    except json.JSONDecodeError:\n",
    "        return None\n",
    "\n",
    "# Liste der neuen Spalten und die zugehörigen JSON-Schlüssel und Spalten\n",
    "new_columns = {\n",
    "    'estimated_Y': ('data_EstimateStorePaxDataAction', ['estimated_Y']),\n",
    "    'estimated_Jump': ('data_EstimateStorePaxDataAction', ['estimated_Jump']),\n",
    "    'estimated_Standby': ('data_EstimateStorePaxDataAction', ['estimated_Standby']),\n",
    "    'estimated_Male': ('data_EstimateStorePaxDataAction', ['estimated_Male']),\n",
    "    'estimated_Female': ('data_EstimateStorePaxDataAction', ['estimated_Female']),\n",
    "    'estimated_Child': ('data_EstimateStorePaxDataAction', ['estimated_Child']),\n",
    "    'estimated_Infant': ('data_EstimateStorePaxDataAction', ['estimated_Infant']),\n",
    "    'estimated_Bags': ('data_EstimateStorePaxDataAction', ['estimated_Bags']),\n",
    "    'aircraft_regTailNbr': ('data_CheckinMsgProcessor', ['aircraft_regTailNbr']),\n",
    "    'aircraft_Type': ('data_CheckinMsgProcessor', ['aircraft_Type']),\n",
    "    'aircraft_configuration': ('data_CheckinMsgProcessor', ['aircraft_configuration']),\n",
    "    'airline': ('data_CreateZFWMessageAction', ['airline']),\n",
    "    'arrivalStation': ('data_CreateZFWMessageAction', ['arrivalStation']),\n",
    "    'departureStation': ('data_CreateZFWMessageAction', ['departureStation']),\n",
    "    'flightDateLocal': ('data_CreateZFWMessageAction', ['flightDateLocal']),\n",
    "    'revisionNumber': ('data_CreateZFWMessageAction', ['revisionNumber']),\n",
    "    'PAX': ('data_StorePaxDataAction', ['PAX']),\n",
    "    'Y': ('data_StorePaxDataAction', ['Y']),\n",
    "    'Jump': ('data_StorePaxDataAction', ['Jump']),\n",
    "    'Standby': ('data_StorePaxDataAction', ['Standby']),\n",
    "    'Male': ('data_StorePaxDataAction', ['Male']),\n",
    "    'Female': ('data_StorePaxDataAction', ['Female']),\n",
    "    'Infant': ('data_StorePaxDataAction', ['Infant']),\n",
    "    'Bags': ('data_StorePaxDataAction', ['Bags']),\n",
    "    'Flight_Number': ('data_CreateLoadingInstructionAction', ['Flight_Number']),\n",
    "    'Flight_Date': ('data_CreateLoadingInstructionAction', ['Flight_Date']),\n",
    "    'Flight_Route_From': ('data_CreateLoadingInstructionAction', ['Flight_Route', 'From']),\n",
    "    'Flight_Route_To': ('data_CreateLoadingInstructionAction', ['Flight_Route', 'To']),\n",
    "}\n",
    "\n",
    "# Neue Spalten erstellen und Daten extrahieren\n",
    "for new_col, (json_col, json_keys) in new_columns.items():\n",
    "    df[new_col] = df.apply(lambda row: extract_json_data(row, json_col, json_keys), axis=1)\n",
    "\n",
    "# flightid Spalte erstellen\n",
    "df['flightid'] = df['airline_code'].astype(str) + '_' + df['flight_number'].astype(str) + '_' + df['flight_date'].astype(str) + '_' + df['departure_airport'].astype(str)\n",
    "\n",
    "# Überprüfen der vorhandenen Spalten im DataFrame\n",
    "existing_columns = set(df.columns)\n",
    "\n",
    "# Erstellen der Aggregations-Dictionary unter Berücksichtigung der vorhandenen Spalten\n",
    "agg_dict = {col: 'last' for col in new_columns.keys() if col in existing_columns}\n",
    "additional_columns = [\n",
    "    'airline_code', 'flight_number', 'flight_suffix', 'flight_date', 'departure_airport'\n",
    "]\n",
    "agg_dict.update({col: 'last' for col in additional_columns if col in existing_columns})\n",
    "\n",
    "# flight_suffix-Spalte direkt aus der Parquet-Datei übernehmen\n",
    "df_agg = df.groupby('flightid').agg(agg_dict).reset_index()\n"
   ]
  },
  {
   "cell_type": "code",
   "execution_count": 2,
   "metadata": {},
   "outputs": [
    {
     "data": {
      "text/plain": [
       "Index(['id', 'creation_time', 'airline_code', 'flight_number', 'flight_date',\n",
       "       'departure_airport', 'user_name', 'action_name', 'header_line',\n",
       "       'entry_details', 'data_CalculateWeightAndTrimAction',\n",
       "       'data_CheckinMsgProcessor', 'data_CreateLoadingInstructionAction',\n",
       "       'data_CreateLoadsheetAction', 'data_CreateZFWMessageAction',\n",
       "       'data_EstimateStorePaxDataAction', 'data_RampFinalAction',\n",
       "       'data_SendFuelOrderAction', 'data_SendLoadingInstructionAction',\n",
       "       'data_SendLoadsheetAction', 'data_StoreAircraftDataAction',\n",
       "       'data_StorePaxDataAction', 'data_StoreRegistrationAndConfigurationAc',\n",
       "       'data_TdmCreateLoadingInstructionAction', 'data_TransferCargoAction',\n",
       "       'data_TransferCheckinDataAction', 'data_UpdateEstimatesAction',\n",
       "       'data_UpdateFuelDataAction', 'data_UpdateLoadTableAction',\n",
       "       'data_StorePaxDataGuiAction'],\n",
       "      dtype='object')"
      ]
     },
     "execution_count": 2,
     "metadata": {},
     "output_type": "execute_result"
    }
   ],
   "source": [
    "df.columns"
   ]
  },
  {
   "cell_type": "code",
   "execution_count": 10,
   "metadata": {},
   "outputs": [
    {
     "name": "stdout",
     "output_type": "stream",
     "text": [
      "Neue Spalten erfolgreich erstellt und in Datei gespeichert.\n"
     ]
    }
   ],
   "source": [
    "# NULL-Werte durch leere Zeichenfolgen ersetzen\n",
    "# df_agg.fillna(\"\", inplace=True)\n",
    "\n",
    "# Resultierende Tabelle als Parquet speichern\n",
    "df_agg.to_parquet(\"../data/ABCD_flighttable.parquet\", index=False)\n",
    "# df_agg.to_parquet(\"../data/MNOP_flighttable.parquet\", index=False)\n",
    "# df_agg.to_parquet(\"../data/ZYXW_flighttable.parquet\", index=False)\n",
    "\n",
    "print(\"Neue Spalten erfolgreich erstellt und in Datei gespeichert.\")\n",
    "# "
   ]
  }
 ],
 "metadata": {
  "kernelspec": {
   "display_name": "Python 3",
   "language": "python",
   "name": "python3"
  },
  "language_info": {
   "codemirror_mode": {
    "name": "ipython",
    "version": 3
   },
   "file_extension": ".py",
   "mimetype": "text/x-python",
   "name": "python",
   "nbconvert_exporter": "python",
   "pygments_lexer": "ipython3",
   "version": "3.10.0"
  }
 },
 "nbformat": 4,
 "nbformat_minor": 2
}
