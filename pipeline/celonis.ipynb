{
 "cells": [
  {
   "cell_type": "code",
   "execution_count": 1,
   "metadata": {},
   "outputs": [],
   "source": [
    "import pandas as pd\n",
    "from pycelonis import get_celonis\n",
    "from pycelonis_core.utils.errors import PyCelonisNotFoundError\n",
    "import json"
   ]
  },
  {
   "cell_type": "code",
   "execution_count": 2,
   "metadata": {},
   "outputs": [],
   "source": [
    "AIRLINE_CODE = \"ZYXW\""
   ]
  },
  {
   "cell_type": "markdown",
   "metadata": {},
   "source": [
    "### Preprocessing"
   ]
  },
  {
   "cell_type": "code",
   "execution_count": 3,
   "metadata": {},
   "outputs": [],
   "source": [
    "# Read in the MNOP data\n",
    "df_airline = pd.read_parquet(f\"../data/{AIRLINE_CODE}_tripfiles_conv.parquet\", engine=\"pyarrow\")"
   ]
  },
  {
   "cell_type": "code",
   "execution_count": 4,
   "metadata": {},
   "outputs": [],
   "source": [
    "# create a flightid column that is a combination of airline_code, flight_number, flight_date and departure_airport\n",
    "df_airline[\"flightid\"] = df_airline.apply(\n",
    "    lambda x: f\"{x['airline_code']}_{x['flight_number']}_{x['flight_date']}_{x['departure_airport']}\",\n",
    "    axis=1,\n",
    ")\n",
    "df_airline = df_airline.drop_duplicates(subset=list(df_airline.columns).remove(\"id\"))\n",
    "# drop all columns that are not needed for the analysis\n",
    "df_airline.drop(\n",
    "    columns=[\n",
    "        \"id\",\n",
    "        \"airline_code\",\n",
    "        \"flight_number\",\n",
    "        \"flight_date\",\n",
    "        \"departure_airport\",\n",
    "        \"header_line\",\n",
    "        \"entry_details\",\n",
    "    ],\n",
    "    inplace=True,\n",
    ")\n",
    "\n",
    "# drop all duplicates from the MNOP dataframe not considering the id"
   ]
  },
  {
   "cell_type": "code",
   "execution_count": 5,
   "metadata": {},
   "outputs": [],
   "source": [
    "# make creation_time a datetime object\n",
    "df_airline[\"creation_time\"] = pd.to_datetime(df_airline[\"creation_time\"])\n",
    "# df_airline = df_airline.convert_dtypes()"
   ]
  },
  {
   "cell_type": "markdown",
   "metadata": {},
   "source": [
    "### Celonis client"
   ]
  },
  {
   "cell_type": "code",
   "execution_count": 12,
   "metadata": {},
   "outputs": [],
   "source": [
    "# read in the celonis_credentials.json file\n",
    "with open(\"celonis_credentials.json\") as file:\n",
    "    credentials = json.load(file)\n",
    "\n",
    "# Get the Celonis object\n",
    "celonis = get_celonis(base_url=credentials[\"url\"], api_token=credentials[\"api_token\"], key_type=\"APP_KEY\")"
   ]
  },
  {
   "cell_type": "code",
   "execution_count": 7,
   "metadata": {},
   "outputs": [
    {
     "data": {
      "text/plain": [
       "DataPool(id='f90faeed-3a18-41f0-bf5e-a30f7c40fdc4', name='AeroMetrics')"
      ]
     },
     "execution_count": 7,
     "metadata": {},
     "output_type": "execute_result"
    }
   ],
   "source": [
    "# get the data pool\n",
    "data_pool = celonis.data_integration.get_data_pools().find(\"AeroMetrics\")\n",
    "data_pool"
   ]
  },
  {
   "cell_type": "code",
   "execution_count": 8,
   "metadata": {},
   "outputs": [
    {
     "data": {
      "text/plain": [
       "DataPoolTable(name='ZYXW', data_source_id=None, columns=[], schema_name='f90faeed-3a18-41f0-bf5e-a30f7c40fdc4', data_pool_id='f90faeed-3a18-41f0-bf5e-a30f7c40fdc4')"
      ]
     },
     "execution_count": 8,
     "metadata": {},
     "output_type": "execute_result"
    }
   ],
   "source": [
    "# upload the table\n",
    "column_config = [{\"columnName\": \"creation_time\", \"columnType\": \"DATETIME\"}]\n",
    "data_pool.create_table(df=df_airline, table_name=AIRLINE_CODE, drop_if_exists=True, column_config=column_config)"
   ]
  },
  {
   "cell_type": "code",
   "execution_count": 9,
   "metadata": {},
   "outputs": [
    {
     "data": {
      "text/plain": [
       "[\n",
       "\tDataPoolTable(name='ABCD', data_source_id=None, columns=[], schema_name='f90faeed-3a18-41f0-bf5e-a30f7c40fdc4', data_pool_id='f90faeed-3a18-41f0-bf5e-a30f7c40fdc4'),\n",
       "\tDataPoolTable(name='MNOP', data_source_id=None, columns=[], schema_name='f90faeed-3a18-41f0-bf5e-a30f7c40fdc4', data_pool_id='f90faeed-3a18-41f0-bf5e-a30f7c40fdc4'),\n",
       "\tDataPoolTable(name='ZYXW', data_source_id=None, columns=[], schema_name='f90faeed-3a18-41f0-bf5e-a30f7c40fdc4', data_pool_id='f90faeed-3a18-41f0-bf5e-a30f7c40fdc4')\n",
       "]"
      ]
     },
     "execution_count": 9,
     "metadata": {},
     "output_type": "execute_result"
    }
   ],
   "source": [
    "data_pool.get_tables()"
   ]
  },
  {
   "cell_type": "code",
   "execution_count": 10,
   "metadata": {},
   "outputs": [
    {
     "data": {
      "text/plain": [
       "DataModel(id='6fe0b9ad-8b16-4b21-a432-6008cee58809', name='ZYXW', pool_id='f90faeed-3a18-41f0-bf5e-a30f7c40fdc4')"
      ]
     },
     "execution_count": 10,
     "metadata": {},
     "output_type": "execute_result"
    }
   ],
   "source": [
    "try:\n",
    "    data_model = data_pool.get_data_models().find(AIRLINE_CODE)\n",
    "except PyCelonisNotFoundError:\n",
    "    data_model = data_pool.create_data_model(AIRLINE_CODE)\n",
    "    data_model.add_table(name=AIRLINE_CODE, alias=AIRLINE_CODE)\n",
    "data_model"
   ]
  }
 ],
 "metadata": {
  "kernelspec": {
   "display_name": "AEROMETRIC",
   "language": "python",
   "name": "python3"
  },
  "language_info": {
   "codemirror_mode": {
    "name": "ipython",
    "version": 3
   },
   "file_extension": ".py",
   "mimetype": "text/x-python",
   "name": "python",
   "nbconvert_exporter": "python",
   "pygments_lexer": "ipython3",
   "version": "3.12.3"
  }
 },
 "nbformat": 4,
 "nbformat_minor": 2
}
